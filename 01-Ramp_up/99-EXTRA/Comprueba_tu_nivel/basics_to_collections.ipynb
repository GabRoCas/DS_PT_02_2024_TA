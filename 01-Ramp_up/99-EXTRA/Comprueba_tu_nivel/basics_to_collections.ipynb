{
 "cells": [
  {
   "cell_type": "markdown",
   "metadata": {},
   "source": [
    "# Para practicar lo que sabes hasta ahora\n",
    "#### Si quieres comentarios, no dudes en enviarme tus respuesta!!!\n",
    "#### A domingo 18 de febrero:\n",
    "\n",
    "1. Deberías entender que se pide en cada ejercicio y que funciones, métodos, bucles... usar en cada caso, aunque no tengas seguridad total de como escribir la solución perfecta\n",
    "2. Los 3 primeros deberían ser rutinarios\n",
    "3. Los 3 siguientes sencillos (sencillo no es necesariamente fácil)\n",
    "4. Los 4 últimos pueden no salir a la primera, pero debéis tener que saber que hacer y hacer algo\n",
    "5. Practica cada día, por eso...\n",
    "6. A finales de la semana que viene, lo que hoy es sencillo debería ser rutinario y lo que no sale a la primera, ser sencillo\n"
   ]
  },
  {
   "cell_type": "markdown",
   "metadata": {},
   "source": [
    "1. Declarar una variable **nombre** y asignarle un valor"
   ]
  },
  {
   "cell_type": "code",
   "execution_count": 3,
   "metadata": {},
   "outputs": [],
   "source": [
    "# Tu respuesta aquí\n",
    "nombre = \"Gabriela\""
   ]
  },
  {
   "cell_type": "markdown",
   "metadata": {},
   "source": [
    "2. Calcula **num_one** a la potencia de **num_two** y asigna el valor a la variable **_exp**."
   ]
  },
  {
   "cell_type": "code",
   "execution_count": 4,
   "metadata": {},
   "outputs": [
    {
     "data": {
      "text/plain": [
       "64"
      ]
     },
     "execution_count": 4,
     "metadata": {},
     "output_type": "execute_result"
    }
   ],
   "source": [
    "# Tu respuesta aquí\n",
    "num_two = 4\n",
    "num_one = 3\n",
    "_exp = num_two**num_one\n",
    "_exp"
   ]
  },
  {
   "cell_type": "markdown",
   "metadata": {},
   "source": [
    "3. Pide la edad al usuario y calcula la misma dentro de 25 años\n"
   ]
  },
  {
   "cell_type": "code",
   "execution_count": 7,
   "metadata": {},
   "outputs": [
    {
     "name": "stdout",
     "output_type": "stream",
     "text": [
      "Su edad en 25 años será: 59\n"
     ]
    }
   ],
   "source": [
    "# Tu respuesta aquí\n",
    "edad = input(\"Introduzca su edad: \")\n",
    "edad_int = int(edad)\n",
    "futuro = edad_int + 25\n",
    "print(\"Su edad en 25 años será:\",futuro)"
   ]
  },
  {
   "cell_type": "markdown",
   "metadata": {},
   "source": [
    "4. De una lista de edades dada, imprime por pantalla si es menor de edad (hasta 17 años), mayor de edad (18-65) o jubilado (66 o más)"
   ]
  },
  {
   "cell_type": "code",
   "execution_count": 2,
   "metadata": {},
   "outputs": [
    {
     "name": "stdout",
     "output_type": "stream",
     "text": [
      "Mayor de edad\n",
      "Jubilado\n",
      "Menor de edad\n",
      "Mayor de edad\n",
      "Menor de edad\n",
      "Jubilado\n"
     ]
    }
   ],
   "source": [
    "edades = [45, 66, 17, 20, 2, 90]\n",
    "# Tu respuesta aquí\n",
    "\n",
    "for e in edades:\n",
    "    if e <= 17:\n",
    "        print(\"Menor de edad\")\n",
    "    elif e > 17 and e <= 65:\n",
    "        print(\"Mayor de edad\")\n",
    "    else:\n",
    "        print(\"Jubilado\")"
   ]
  },
  {
   "cell_type": "markdown",
   "metadata": {},
   "source": [
    "5. De una lista de edades dada, imprime por pantalla si mayor de edad hasta que encuentres el primer menor de edad"
   ]
  },
  {
   "cell_type": "code",
   "execution_count": 11,
   "metadata": {},
   "outputs": [
    {
     "name": "stdout",
     "output_type": "stream",
     "text": [
      "Mayor de edad: 45\n",
      "Mayor de edad: 66\n"
     ]
    }
   ],
   "source": [
    "edades = [45, 66, 17, 20, 2, 90]\n",
    "# Tu respuesta aquí\n",
    "for edad in edades:\n",
    "    if edad < 18:\n",
    "        break\n",
    "    else:\n",
    "        print(\"Mayor de edad:\",edad)\n"
   ]
  },
  {
   "cell_type": "markdown",
   "metadata": {},
   "source": [
    "6. Pide al usuario tres números y añadelos a una lista "
   ]
  },
  {
   "cell_type": "code",
   "execution_count": 1,
   "metadata": {},
   "outputs": [
    {
     "ename": "",
     "evalue": "",
     "output_type": "error",
     "traceback": [
      "\u001b[1;31mThe Kernel crashed while executing code in the current cell or a previous cell. \n",
      "\u001b[1;31mPlease review the code in the cell(s) to identify a possible cause of the failure. \n",
      "\u001b[1;31mClick <a href='https://aka.ms/vscodeJupyterKernelCrash'>here</a> for more info. \n",
      "\u001b[1;31mView Jupyter <a href='command:jupyter.viewOutput'>log</a> for further details."
     ]
    }
   ],
   "source": [
    "# Tu respuesta aquí\n",
    "i=0\n",
    "while <4:\n",
    "    n"
   ]
  },
  {
   "cell_type": "code",
   "execution_count": 9,
   "metadata": {},
   "outputs": [
    {
     "name": "stdout",
     "output_type": "stream",
     "text": [
      "['3', '7', '9']\n",
      "[3, 7, 9]\n"
     ]
    }
   ],
   "source": [
    "numeros = input(\"Introduzca 3 números:\")\n",
    "numeros_lista = numeros.split(\",\")\n",
    "print(numeros_lista)\n",
    "\n",
    "int_lista = []\n",
    "for num in numeros_lista:\n",
    "    int_lista.append(int(num))\n",
    "print(int_lista)"
   ]
  },
  {
   "cell_type": "markdown",
   "metadata": {},
   "source": [
    "7. De una lista de edades dada, imprime por pantalla si es mayor de edad hasta que encuentres el segundo menor de edad"
   ]
  },
  {
   "cell_type": "code",
   "execution_count": 20,
   "metadata": {},
   "outputs": [
    {
     "name": "stdout",
     "output_type": "stream",
     "text": [
      "Mayor de edad: 45\n",
      "Mayor de edad: 66\n",
      "Mayor de edad: 20\n",
      "Mayor de edad: 90\n"
     ]
    }
   ],
   "source": [
    "edades = [45, 66, 17, 20, 2, 90]\n",
    "# Tu respuesta aquí\n",
    "contador = 0\n",
    "\n",
    "for ed in edades:\n",
    "    if ed < 18 :\n",
    "        contador =+1\n",
    "    elif ed < 18 or contador == 2:\n",
    "        break\n",
    "    else:\n",
    "        print(\"Mayor de edad:\", ed)\n",
    "    "
   ]
  },
  {
   "cell_type": "markdown",
   "metadata": {},
   "source": [
    "8. De una lista de edades dada, suma un año a cada una. Si encuentras algún error, tienes que gestionarlo en el código, no vale cambiar edades!"
   ]
  },
  {
   "cell_type": "code",
   "execution_count": 23,
   "metadata": {},
   "outputs": [
    {
     "name": "stdout",
     "output_type": "stream",
     "text": [
      "[46, 67, 18, 21, 3, 91]\n"
     ]
    }
   ],
   "source": [
    "edades = [45, 66, 17, \"20\", 2, 90]\n",
    "# Tu respuesta aquí\n",
    "for i, e in enumerate(edades):\n",
    "    try:\n",
    "        edades[i] = e+1\n",
    "    except:\n",
    "        edades[i] = int(e) + 1\n",
    "print(edades)"
   ]
  },
  {
   "cell_type": "markdown",
   "metadata": {},
   "source": [
    "9. Crea un diccionario que recoja nombre, apellidos, edad y lista de 3 películas favoritas de una persona"
   ]
  },
  {
   "cell_type": "code",
   "execution_count": 26,
   "metadata": {},
   "outputs": [],
   "source": [
    "# Tu respuesta aquí\n",
    "persona = {\"nombre\":\"Gabriela\", \n",
    "           \"apellidos\":\"Rodrigo Castrillo\",\n",
    "           \"edad\":27,\n",
    "           \"peliculas\":[\"El Editor\", \"Jojo Rabit\", \"Cumbe Escarlata\"]}"
   ]
  },
  {
   "cell_type": "markdown",
   "metadata": {},
   "source": [
    "10. Añade al diccionario anterior la lista de las 3 comidas favoritas de dicha persona y comprueba si el diccionario incluye la clave \"fecha_nacimion\" "
   ]
  },
  {
   "cell_type": "code",
   "execution_count": 28,
   "metadata": {},
   "outputs": [
    {
     "name": "stdout",
     "output_type": "stream",
     "text": [
      "{'nombre': 'Gabriela', 'apellidos': 'Rodrigo Castrillo', 'edad': 27, 'peliculas': ['El Editor', 'Jojo Rabit', 'Cumbe Escarlata'], 'comida': ['huevos fritos', 'queso', 'patata']}\n"
     ]
    },
    {
     "data": {
      "text/plain": [
       "False"
      ]
     },
     "execution_count": 28,
     "metadata": {},
     "output_type": "execute_result"
    }
   ],
   "source": [
    "# Tu respuesta aquí\n",
    "persona[\"comida\"] = [\"huevos fritos\",\"queso\",\"patata\"]\n",
    "print(persona)\n",
    "persona.get(\"fecha_nacimiento\", False)"
   ]
  },
  {
   "cell_type": "code",
   "execution_count": null,
   "metadata": {},
   "outputs": [],
   "source": []
  }
 ],
 "metadata": {
  "kernelspec": {
   "display_name": "Python 3",
   "language": "python",
   "name": "python3"
  },
  "language_info": {
   "codemirror_mode": {
    "name": "ipython",
    "version": 3
   },
   "file_extension": ".py",
   "mimetype": "text/x-python",
   "name": "python",
   "nbconvert_exporter": "python",
   "pygments_lexer": "ipython3",
   "version": "3.10.8"
  }
 },
 "nbformat": 4,
 "nbformat_minor": 2
}

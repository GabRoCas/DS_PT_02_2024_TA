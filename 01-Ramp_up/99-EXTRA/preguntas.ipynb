{
 "cells": [
  {
   "cell_type": "markdown",
   "metadata": {},
   "source": [
    "# MARKDOWN"
   ]
  },
  {
   "cell_type": "markdown",
   "metadata": {},
   "source": [
    "Subrayamos usando la etiquetas <u>\\<u>Texto subrayado aquí\\</u></u>"
   ]
  },
  {
   "cell_type": "markdown",
   "metadata": {},
   "source": [
    "Podemos usar \\<br> para añadir saltos de línea:<br>\n",
    "Salto \n",
    "<br><br>\n",
    "De\n",
    "<br><br><br>\n",
    "Línea"
   ]
  },
  {
   "cell_type": "markdown",
   "metadata": {},
   "source": [
    "Usamos un doble dólar para centrar las fórmulas:\n",
    "* El primer dólar da formato de fórmula\n",
    "* El segundo dólar centra la misma\n",
    "\n",
    "$$e^{i\\pi} + 1 = 0$$"
   ]
  },
  {
   "cell_type": "markdown",
   "metadata": {},
   "source": [
    "# PYTHON"
   ]
  },
  {
   "cell_type": "markdown",
   "metadata": {},
   "source": [
    "No existen constantes (variable inmutable, que no puede cambiar los datos incluídos en la misma) en python __vainilla__, pero las nombras no escritas dictan usar mayúsculas en el nombre de la variable para indicar que, a los efectos, será constante:"
   ]
  },
  {
   "cell_type": "code",
   "execution_count": 7,
   "metadata": {},
   "outputs": [
    {
     "name": "stdout",
     "output_type": "stream",
     "text": [
      "43\n"
     ]
    }
   ],
   "source": [
    "# Las normas no escritas de las programación en Python con \"estilo y buen gusto\", dicen que las constantes se declaran en mayúsculas\n",
    "MI_CONSTANTE = 42\n"
   ]
  },
  {
   "cell_type": "markdown",
   "metadata": {},
   "source": [
    "### No obstante, nada impide cambiar su valor, no será un error de código. \n",
    "\n",
    "Aunque está será mi cara cuando vea tu código:\n",
    "\n",
    "\n",
    "![imagen](img/saza.jpg)\n",
    "\n"
   ]
  },
  {
   "cell_type": "code",
   "execution_count": 8,
   "metadata": {},
   "outputs": [
    {
     "name": "stdout",
     "output_type": "stream",
     "text": [
      "43\n"
     ]
    }
   ],
   "source": [
    "\n",
    "MI_CONSTANTE = 43\n",
    "print(MI_CONSTANTE)"
   ]
  },
  {
   "cell_type": "markdown",
   "metadata": {},
   "source": [
    "Adicionalmente, puedes importar una libreria que al menos te sugiera amablemente que no lo hagas. "
   ]
  },
  {
   "cell_type": "code",
   "execution_count": 5,
   "metadata": {},
   "outputs": [
    {
     "name": "stdout",
     "output_type": "stream",
     "text": [
      "1\n",
      "2\n"
     ]
    }
   ],
   "source": [
    "from typing import Final\n",
    "\n",
    "my_constante: Final[int] = 1\n",
    "print(my_constante)\n",
    "my_constante = 2\n",
    "print(my_constante)"
   ]
  },
  {
   "cell_type": "markdown",
   "metadata": {},
   "source": [
    "Puedes borrar todas las variables definidas en tu notebook usando el comando especial *%reset*\n",
    "\n",
    "Suele ser útil, antes de dar por finalizado nuestro código, borrar toda la memoria de la sesión y volver a ejecutar nuestro código para compromar si sigue funcionando.\n",
    "\n",
    "Si una vez reseteadas nuestras variables, nuestro código no funciona, puede deberse a: \n",
    "\n",
    "* Se borró la asignación de una variable pero dicha variable se usa\n",
    "* Una variable cambió de nombre pero no corregiste el nuevo nombre en todo el código\n",
    "* El código no es secuencial (tienes que ejecutar las celdas en orden para que funcione correctamente)\n",
    "* Otras...\n"
   ]
  },
  {
   "cell_type": "code",
   "execution_count": 4,
   "metadata": {},
   "outputs": [
    {
     "name": "stdout",
     "output_type": "stream",
     "text": [
      "1212\n"
     ]
    }
   ],
   "source": [
    "existo_como_variable = 1212\n",
    "print(existo_como_variable)"
   ]
  },
  {
   "cell_type": "code",
   "execution_count": 5,
   "metadata": {},
   "outputs": [
    {
     "ename": "NameError",
     "evalue": "name 'existo_como_variable' is not defined",
     "output_type": "error",
     "traceback": [
      "\u001b[1;31m---------------------------------------------------------------------------\u001b[0m",
      "\u001b[1;31mNameError\u001b[0m                                 Traceback (most recent call last)",
      "Cell \u001b[1;32mIn[5], line 2\u001b[0m\n\u001b[0;32m      1\u001b[0m get_ipython()\u001b[38;5;241m.\u001b[39mrun_line_magic(\u001b[38;5;124m'\u001b[39m\u001b[38;5;124mreset\u001b[39m\u001b[38;5;124m'\u001b[39m, \u001b[38;5;124m'\u001b[39m\u001b[38;5;124m'\u001b[39m)\n\u001b[1;32m----> 2\u001b[0m \u001b[38;5;28mprint\u001b[39m(\u001b[43mexisto_como_variable\u001b[49m)\n",
      "\u001b[1;31mNameError\u001b[0m: name 'existo_como_variable' is not defined"
     ]
    }
   ],
   "source": [
    "%reset\n",
    "print(existo_como_variable)"
   ]
  }
 ],
 "metadata": {
  "kernelspec": {
   "display_name": "Python 3",
   "language": "python",
   "name": "python3"
  },
  "language_info": {
   "codemirror_mode": {
    "name": "ipython",
    "version": 3
   },
   "file_extension": ".py",
   "mimetype": "text/x-python",
   "name": "python",
   "nbconvert_exporter": "python",
   "pygments_lexer": "ipython3",
   "version": "3.8.10"
  }
 },
 "nbformat": 4,
 "nbformat_minor": 2
}

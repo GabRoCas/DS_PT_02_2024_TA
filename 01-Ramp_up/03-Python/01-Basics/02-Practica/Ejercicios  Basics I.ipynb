{
 "cells": [
  {
   "cell_type": "markdown",
   "metadata": {},
   "source": [
    "# La Ciencia de Datos no es para meros espectadores.\n",
    "![imagen](./img/espectadores.jpg)"
   ]
  },
  {
   "cell_type": "markdown",
   "metadata": {},
   "source": [
    "# Ejercicios Python Basics I"
   ]
  },
  {
   "cell_type": "markdown",
   "metadata": {},
   "source": [
    "## Warm-up 1\n",
    "Ejecuta el siguiente código y piensa en los diferentes resultados obtenidos:\n",
    "```Python\n",
    "print(\"Print 1\")\n",
    "print (\"Print 2\")\n",
    "print( \"Print 3\"        )\n",
    "print(\" Print 4\")\n",
    "print(\"    Print    5           \")\n",
    "#prin t(\"Print imposible\")\n",
    "````\n"
   ]
  },
  {
   "cell_type": "markdown",
   "metadata": {},
   "source": [
    "## Ejercicio 1\n",
    "Imprime por pantalla esta cita con el siguiente formato\n",
    "\n",
    "![imagen](./img/frase_Einstein.PNG)"
   ]
  },
  {
   "cell_type": "code",
   "execution_count": 1,
   "metadata": {},
   "outputs": [
    {
     "name": "stdout",
     "output_type": "stream",
     "text": [
      "Por qué esta magnífica tecnología científica,\n",
      " \tque ahorra trabajo y nos hace la vida más fácil,\n",
      " \t\tnos aporta tan poca felicidad?\n",
      " \t\t\tLa respuesta es simplemente: porque aún no hemos aprendido a usarla con tino.\n",
      " \"Albert Einstein\"\n"
     ]
    }
   ],
   "source": [
    "# Utiliza esta celda para tu respuesta\n",
    "# \\n salto de línea\n",
    "# \\t tabulación\n",
    "print(\"Por qué esta magnífica tecnología científica,\\n \\\n",
    "\\tque ahorra trabajo y nos hace la vida más fácil,\\n \\\n",
    "\\t\\tnos aporta tan poca felicidad?\\n \\\n",
    "\\t\\t\\tLa respuesta es simplemente: porque aún no hemos aprendido a usarla con tino.\\n \\\n",
    "\\\"Albert Einstein\\\"\\\n",
    "\")"
   ]
  },
  {
   "cell_type": "code",
   "execution_count": 2,
   "metadata": {},
   "outputs": [
    {
     "name": "stdout",
     "output_type": "stream",
     "text": [
      "\n",
      "Por qué esta magnífica tecnología científica,\n",
      "    que ahorra trabajo y nos hace la vida más fácil,\n",
      "        nos aporta tan poca felicidad?\n",
      "            La respuesta es simplemente: porque aún no hemos aprendido a usarla con tino.\n",
      "\"Albert Einstein\"\n",
      "      \n"
     ]
    }
   ],
   "source": [
    "# \\n salto de línea\n",
    "# \\t tabulación\n",
    "print(\"\"\"\n",
    "Por qué esta magnífica tecnología científica,\n",
    "    que ahorra trabajo y nos hace la vida más fácil,\n",
    "        nos aporta tan poca felicidad?\n",
    "            La respuesta es simplemente: porque aún no hemos aprendido a usarla con tino.\n",
    "\"Albert Einstein\"\n",
    "      \"\"\")"
   ]
  },
  {
   "cell_type": "markdown",
   "metadata": {},
   "source": [
    "## Ejercicio 2\n",
    "1. Escribe el nombre de la calle de tu domicilio en una variable\n",
    "2. Escribe el numero de la calle en otra\n",
    "3. Ciudad en una tercera\n",
    "4. Codigo postal en la cuarta variable\n",
    "5. Crea una quinta variable que concatene todas ellas\n",
    "6. Imprimela por pantalla"
   ]
  },
  {
   "cell_type": "code",
   "execution_count": 3,
   "metadata": {},
   "outputs": [
    {
     "name": "stdout",
     "output_type": "stream",
     "text": [
      "Paseo Recoletos 15, Madrid 28004\n",
      "<class 'str'>\n"
     ]
    }
   ],
   "source": [
    "# Utiliza esta celda para tu respuesta\n",
    "calle = \"Paseo Recoletos\" #1\n",
    "numero = 15 #2\n",
    "ciudad = \"Madrid\" #3\n",
    "cp = \"28004\" #4\n",
    "direccion = calle + \" \" + str(numero) + \", \" + ciudad + \" \" + cp #5\n",
    "print(direccion) #6\n",
    "print(type(direccion)) #6"
   ]
  },
  {
   "cell_type": "markdown",
   "metadata": {},
   "source": [
    "## Ejercicio 3\n",
    "Replica el output del ejercicio dos, pero está vez sin usar una variable intermedia que concatene todas las demas. Realiza este ejercicio en una línea, con un  único `print`"
   ]
  },
  {
   "cell_type": "code",
   "execution_count": 6,
   "metadata": {},
   "outputs": [
    {
     "name": "stdout",
     "output_type": "stream",
     "text": [
      "Paseo Recoletos 15 Madrid 28004\n"
     ]
    }
   ],
   "source": [
    "# Utiliza esta celda para tu respuesta\n",
    "print(calle, str(numero), ciudad, cp)"
   ]
  },
  {
   "cell_type": "markdown",
   "metadata": {},
   "source": [
    "## Ejercicio 4\n",
    "¿Qué variables están mal escritas y por qué? Realiza primero tu hipótesis y luego ejecuta las variables para comprobarlo. En ese orden :)\n",
    "\n",
    "\n",
    "1. mi_variable = \"Economía\"\n",
    "2. otra_var = \"Ejercicio\n",
    "3. True = \"Ejercicio\"\n",
    "4. mi variab1e = \"Alpha\"\n",
    "5. import = 40\n",
    "6. 81mi_variable = \"Agua\"\n",
    "7. mi_variable10 = 6"
   ]
  },
  {
   "cell_type": "markdown",
   "metadata": {},
   "source": [
    "1. Correcto\n",
    "2. Falta cerrar con comillas el string\n",
    "3. True es una palabra reservada\n",
    "4. Hay un espacio en el nombre de la variable\n",
    "5. Palabra reservada\n",
    "6. Empieza por número\n",
    "7. Correcto"
   ]
  },
  {
   "cell_type": "markdown",
   "metadata": {},
   "source": [
    "## Ejercicio 5\n",
    "Realiza un conversor de grados Celsius a Fahrenheit. El conversor tiene que recibir el input del usuario y devolver la conversión.\n",
    "\n",
    "La conversión de grados sigue la siguiente fórmula: F = C × (9 / 5) + 32 "
   ]
  },
  {
   "cell_type": "code",
   "execution_count": 5,
   "metadata": {},
   "outputs": [
    {
     "name": "stdout",
     "output_type": "stream",
     "text": [
      "60.782\n"
     ]
    }
   ],
   "source": [
    "# Utiliza esta celda para tu respuesta\n",
    "celsius = float(input(\"Introduzca grados celsius\"))\n",
    "fahrenheit = celsius * (9/5) + 32\n",
    "print(fahrenheit)\n"
   ]
  },
  {
   "cell_type": "markdown",
   "metadata": {},
   "source": [
    "## Ejercicio 6\n",
    "Comenta en la medida de lo posible el Ejercicio 5. Será suficiente con poner al menos un comentario de línea, y otro multilínea"
   ]
  },
  {
   "cell_type": "code",
   "execution_count": null,
   "metadata": {},
   "outputs": [],
   "source": [
    "# Utiliza esta celda para tu respuesta\n",
    "\"\"\"\n",
    "Calculadora que hace la conversión de grados Celsius a grados Fahrenhet\n",
    "Input:\n",
    "    Celsius\n",
    "Output:\n",
    "    Fahrenheit\n",
    "\"\"\"\n",
    "\n",
    "# Pide introducir los grados celsius al usuario\n",
    "celsius = float(input(\"Introduzca grados celsius\")) # Convierto a float la salida string del input()\n",
    "\n",
    "# Calcula los grados fahrenheit a partir de la fórmula de conversion de los grados celsius\n",
    "fahrenheit = celsius * (9/5) + 32\n",
    "\n",
    "# Muestra los grados fahrenheit calculados\n",
    "print(fahrenheit)\n"
   ]
  }
 ],
 "metadata": {
  "kernelspec": {
   "display_name": "Python 3",
   "language": "python",
   "name": "python3"
  },
  "language_info": {
   "codemirror_mode": {
    "name": "ipython",
    "version": 3
   },
   "file_extension": ".py",
   "mimetype": "text/x-python",
   "name": "python",
   "nbconvert_exporter": "python",
   "pygments_lexer": "ipython3",
   "version": "3.8.10"
  },
  "nbTranslate": {
   "displayLangs": [
    "*"
   ],
   "hotkey": "alt-t",
   "langInMainMenu": true,
   "sourceLang": "en",
   "targetLang": "fr",
   "useGoogleTranslate": true
  },
  "varInspector": {
   "cols": {
    "lenName": 16,
    "lenType": 16,
    "lenVar": 40
   },
   "kernels_config": {
    "python": {
     "delete_cmd_postfix": "",
     "delete_cmd_prefix": "del ",
     "library": "var_list.py",
     "varRefreshCmd": "print(var_dic_list())"
    },
    "r": {
     "delete_cmd_postfix": ") ",
     "delete_cmd_prefix": "rm(",
     "library": "var_list.r",
     "varRefreshCmd": "cat(var_dic_list()) "
    }
   },
   "types_to_exclude": [
    "module",
    "function",
    "builtin_function_or_method",
    "instance",
    "_Feature"
   ],
   "window_display": false
  }
 },
 "nbformat": 4,
 "nbformat_minor": 4
}

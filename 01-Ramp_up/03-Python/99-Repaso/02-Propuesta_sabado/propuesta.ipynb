{
 "cells": [
  {
   "cell_type": "markdown",
   "metadata": {},
   "source": [
    "Dada la lista `[4,7, -3]`, calcula su máximo, mínimo y suma."
   ]
  },
  {
   "cell_type": "code",
   "execution_count": null,
   "metadata": {},
   "outputs": [],
   "source": []
  },
  {
   "cell_type": "markdown",
   "metadata": {},
   "source": [
    "Pon la frase \"Born to be wild\" en mayúsculas, luego en minúsculas, divídela por espacios y, por último, sustituye \"wild\" por \"Geek\"."
   ]
  },
  {
   "cell_type": "code",
   "execution_count": null,
   "metadata": {},
   "outputs": [],
   "source": []
  },
  {
   "cell_type": "markdown",
   "metadata": {},
   "source": [
    "Crea un programa en el que se recojan dos entradas, y la salida del programa sea un booleano que indique al usuario si esas entradas son iguales o no."
   ]
  },
  {
   "cell_type": "code",
   "execution_count": 1,
   "metadata": {},
   "outputs": [
    {
     "name": "stdout",
     "output_type": "stream",
     "text": [
      "False\n"
     ]
    }
   ],
   "source": [
    "input1 = input(\"Ingeresa un número:\")\n",
    "input2 = input(\"Ingeresa un número:\")\n",
    "\n",
    "if input1 == input2:\n",
    "    print(True)\n",
    "else:\n",
    "    print(False)"
   ]
  },
  {
   "cell_type": "markdown",
   "metadata": {},
   "source": [
    "Imprime los números entre 0 y 70 que son múltiplos de 3 y 5."
   ]
  },
  {
   "cell_type": "code",
   "execution_count": null,
   "metadata": {},
   "outputs": [],
   "source": []
  },
  {
   "cell_type": "markdown",
   "metadata": {},
   "source": [
    "Obtenga la primera y la segunda mejor puntuación de la lista.\n",
    "La lista contiene duplicados."
   ]
  },
  {
   "cell_type": "code",
   "execution_count": null,
   "metadata": {},
   "outputs": [],
   "source": [
    "scores = [86,86,85,85,85,83,23,45,84,1,2,0]"
   ]
  },
  {
   "cell_type": "markdown",
   "metadata": {},
   "source": [
    "De la lista dada:\n",
    "    \n",
    "    a) Crea listas separadas de cadenas y números.\n",
    "\n",
    "    b) Ordena la lista de cadenas en orden ascendente.\n",
    "\n",
    "    c) Ordena la lista de cadenas en orden descendente\n",
    "\n",
    "    d) Ordenar la lista de números de menor a mayor\n",
    "\n",
    "    e) Ordenar la lista de números de mayor a menor"
   ]
  },
  {
   "cell_type": "code",
   "execution_count": null,
   "metadata": {},
   "outputs": [],
   "source": []
  },
  {
   "cell_type": "markdown",
   "metadata": {},
   "source": [
    " Haz una lista de diez alienígenas, cada uno de los cuales es de un color: 'rojo', 'verde' o 'azul'.\n",
    "    - Puedes acortarlo a 'r', 'g' y 'b' si quieres, pero si eliges esta opción tienes que incluir un comentario explicando qué significan r, g y b.\n",
    "    - Los alienígenas rojos valen 5 puntos, los verdes valen 10 puntos y los azules valen 20 puntos.\n",
    "    - Utilice un bucle for para determinar el número de puntos que ganaría un jugador por destruir todos los alienígenas de su lista."
   ]
  },
  {
   "cell_type": "code",
   "execution_count": null,
   "metadata": {},
   "outputs": [],
   "source": []
  },
  {
   "cell_type": "markdown",
   "metadata": {},
   "source": [
    "Crea un programa que calcule la media.\n",
    "\n",
    "El programa pedirá al usuario que especifique cuántos números quiere introducir, y mostrará un aviso para incluir número a número a una lista, y luego calculará la media de esa lista."
   ]
  },
  {
   "cell_type": "code",
   "execution_count": null,
   "metadata": {},
   "outputs": [],
   "source": []
  },
  {
   "cell_type": "markdown",
   "metadata": {},
   "source": [
    "Haga lo que se describe a continuación:\n",
    "\n",
    "- Crea una variable llamada fuerza, y fija su valor inicial en 5.\n",
    "\n",
    "- Imprime un mensaje informando de la fuerza del jugador.\n",
    "\n",
    "- Establece un bucle while que se ejecute hasta que la fuerza del jugador aumente hasta un valor como 10.\n",
    "\n",
    "- Dentro del bucle while, imprime un mensaje que informe de la fuerza actual del jugador.\n",
    "\n",
    "- Dentro del bucle while, escribe una sentencia que incremente la fuerza del jugador.\n",
    "\n",
    "- Fuera del bucle while, imprime un mensaje informando de que el jugador se ha hecho demasiado fuerte, y que ha pasado a un nuevo nivel del juego.\n",
    "\n",
    "Juega con diferentes niveles de corte para el valor de la fuerza, y juega con diferentes maneras de aumentar el valor de la fuerza dentro del bucle while."
   ]
  },
  {
   "cell_type": "code",
   "execution_count": 8,
   "metadata": {},
   "outputs": [
    {
     "name": "stdout",
     "output_type": "stream",
     "text": [
      "La fuerza del jugador es: 4\n",
      "Tu fuerza actual es: 5\n",
      "Tu fuerza actual es: 6\n",
      "Tu fuerza actual es: 7\n",
      "Tu fuerza actual es: 8\n",
      "Tu fuerza actual es: 9\n",
      "Tu fuerza actual es: 10\n",
      "El jugador alcanzó un nuevo nivel. ¡Eres demasiado fuerte!\n"
     ]
    }
   ],
   "source": [
    "fuerza = 4\n",
    "print(\"La fuerza del jugador es:\", fuerza)\n",
    "\n",
    "while fuerza <10:\n",
    "    fuerza += 1\n",
    "    print(\"Tu fuerza actual es:\", fuerza)\n",
    "\n",
    "\n",
    "print(\"El jugador alcanzó un nuevo nivel. ¡Eres demasiado fuerte!\")"
   ]
  },
  {
   "cell_type": "code",
   "execution_count": 6,
   "metadata": {},
   "outputs": [
    {
     "name": "stdout",
     "output_type": "stream",
     "text": [
      "La fuerza del jugador es: 4\n",
      "Tu fuerza actual es: 4\n",
      "Tu fuerza actual es: 5\n",
      "Tu fuerza actual es: 6\n",
      "Tu fuerza actual es: 7\n",
      "Tu fuerza actual es: 8\n",
      "Tu fuerza actual es: 9\n"
     ]
    }
   ],
   "source": [
    "fuerza = 4\n",
    "print(\"La fuerza del jugador es:\", fuerza)\n",
    "\n",
    "while fuerza <10:\n",
    "    print(\"Tu fuerza actual es:\", fuerza)\n",
    "    fuerza += 1"
   ]
  },
  {
   "cell_type": "code",
   "execution_count": 7,
   "metadata": {},
   "outputs": [
    {
     "name": "stdout",
     "output_type": "stream",
     "text": [
      "La fuerza del jugador es: 4\n",
      "Tu fuerza actual es: 4\n",
      "Tu fuerza actual es: 5\n",
      "Tu fuerza actual es: 6\n",
      "Tu fuerza actual es: 7\n",
      "Tu fuerza actual es: 8\n",
      "Tu fuerza actual es: 9\n",
      "Tu fuerza actual es: 10\n"
     ]
    }
   ],
   "source": [
    "fuerza = 4\n",
    "print(\"La fuerza del jugador es:\", fuerza)\n",
    "\n",
    "while fuerza <=10:\n",
    "    print(\"Tu fuerza actual es:\", fuerza)\n",
    "    fuerza += 1"
   ]
  },
  {
   "cell_type": "markdown",
   "metadata": {},
   "source": [
    "**EJERCICIO DNI**\n",
    "\n",
    "Sólo comprobar los errores, no corregirlos"
   ]
  },
  {
   "cell_type": "code",
   "execution_count": 11,
   "metadata": {},
   "outputs": [
    {
     "name": "stdout",
     "output_type": "stream",
     "text": [
      "Es un DNI correcto\n"
     ]
    }
   ],
   "source": [
    "dni = \"12345678N\"\n",
    "\n",
    "if type(dni) != str:  #si pones if en todos, te saca todos los errores\n",
    "    print(\"No es una cadena\")\n",
    "elif len(dni) > 9:\n",
    "    print(\"Es demasiado largo\")\n",
    "elif len(dni) < 9:\n",
    "    print(\"Es demasiado corto\")\n",
    "elif dni[-1].isnumeric() == True:\n",
    "    print(\"No termina en letra\")\n",
    "else:\n",
    "    print(\"Es un DNI correcto\")\n"
   ]
  },
  {
   "cell_type": "markdown",
   "metadata": {},
   "source": [
    "\n",
    "Escribe una función que pida un entero e imprima el cuadrado del mismo. Sigue comprobando hasta que la función obtiene un entero.\n",
    "\n"
   ]
  },
  {
   "cell_type": "code",
   "execution_count": 15,
   "metadata": {},
   "outputs": [
    {
     "name": "stdout",
     "output_type": "stream",
     "text": [
      "25\n"
     ]
    }
   ],
   "source": [
    "def cuadrado(txt):\n",
    "    return txt**2\n",
    "\n",
    "num = \"\" #o None \n",
    "while type(num) != int:\n",
    "    try:\n",
    "        num = int(input(\"Introduzca un entero:\"))\n",
    "        print(cuadrado(num))\n",
    "    except:\n",
    "        print(\"No es un número\")\n",
    "        continue #opcional si no vas a seguir haciendo cosas "
   ]
  },
  {
   "cell_type": "code",
   "execution_count": 17,
   "metadata": {},
   "outputs": [
    {
     "name": "stdout",
     "output_type": "stream",
     "text": [
      "No es un número\n",
      "25\n"
     ]
    }
   ],
   "source": [
    "def cuadrado(txt):\n",
    "    return txt**2\n",
    "\n",
    "es_entero = False\n",
    "while not es_entero: #es_entero == False\n",
    "    try:\n",
    "        num = int(input(\"Introduzca un entero:\"))\n",
    "        es_entero = True #hay que actualizar para salir del bucle\n",
    "        print(cuadrado(num))\n",
    "    except:\n",
    "        print(\"No es un número\")\n",
    "        continue #opcional si no vas a seguir haciendo cosas"
   ]
  },
  {
   "cell_type": "code",
   "execution_count": 18,
   "metadata": {},
   "outputs": [
    {
     "name": "stdout",
     "output_type": "stream",
     "text": [
      "No es un número\n",
      "No es un número\n",
      "No es un número\n",
      "16\n"
     ]
    }
   ],
   "source": [
    "def cuadrado(txt):\n",
    "    return txt**2\n",
    "\n",
    "\n",
    "while True:\n",
    "    try:\n",
    "        num = int(input(\"Introduzca un entero:\"))\n",
    "        print(cuadrado(num))\n",
    "        break\n",
    "    except:\n",
    "        print(\"No es un número\")\n",
    "        continue #opcional si no vas a seguir haciendo cosas"
   ]
  },
  {
   "cell_type": "markdown",
   "metadata": {},
   "source": [
    "Practice_10_OOP Ejercicio 1"
   ]
  }
 ],
 "metadata": {
  "kernelspec": {
   "display_name": "Python 3",
   "language": "python",
   "name": "python3"
  },
  "language_info": {
   "codemirror_mode": {
    "name": "ipython",
    "version": 3
   },
   "file_extension": ".py",
   "mimetype": "text/x-python",
   "name": "python",
   "nbconvert_exporter": "python",
   "pygments_lexer": "ipython3",
   "version": "3.10.8"
  }
 },
 "nbformat": 4,
 "nbformat_minor": 2
}

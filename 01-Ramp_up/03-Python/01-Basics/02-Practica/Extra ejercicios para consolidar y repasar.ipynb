{
 "cells": [
  {
   "cell_type": "markdown",
   "metadata": {},
   "source": [
    "# Ejercicios de nivel 0\n",
    "### Puedes usar internet y cualquier material excepto ChatGPT\n",
    "### Si no entiendes casi todo después de pensarlos, intentarlos y ver la solución en clase: es tiempo de una tutoría "
   ]
  },
  {
   "cell_type": "code",
   "execution_count": 1,
   "metadata": {},
   "outputs": [
    {
     "name": "stdout",
     "output_type": "stream",
     "text": [
      "Soy de tipo cadena/string por ir entre comillas dobles\n",
      "12\n"
     ]
    }
   ],
   "source": [
    "# Declarar variable llamada var1 de tipo string/cadena con la oración \"Soy de tipo cadena/string por ir entre comillas dobles\"\n",
    "var1 = \"Soy de tipo cadena/string por ir entre comillas dobles\"\n",
    "print(var1)\n",
    "# Reasignar a var1 el valor 12. \n",
    "var1 = 12\n",
    "print(var1)"
   ]
  },
  {
   "cell_type": "code",
   "execution_count": 2,
   "metadata": {},
   "outputs": [
    {
     "name": "stdout",
     "output_type": "stream",
     "text": [
      "Primera línea\n",
      "Variable declara var1\n",
      "12\n"
     ]
    }
   ],
   "source": [
    "# Imprimir por pantalla el texto \"Primera línea\"\n",
    "print(\"Primera línea\")\n",
    "# Imprimer por pantalla en una sola línea el texto \"Variable declara var1\" y var1\n",
    "print(\"Variable declara var1\")\n",
    "print(var1)\n"
   ]
  },
  {
   "cell_type": "code",
   "execution_count": 4,
   "metadata": {},
   "outputs": [
    {
     "name": "stdout",
     "output_type": "stream",
     "text": [
      "****************************************************************************************************\n",
      "primero\n",
      "segundo\n"
     ]
    }
   ],
   "source": [
    "# Quiero mostrar por pantalla var1 y var2, pero solo aparece 'var2', ayuda!\n",
    "# Debuggea\n",
    "var1 = \"primero\"\n",
    "var2= \"segundo\"\n",
    "\n",
    "var1\n",
    "\"var2\"\n",
    "print(\"*\"*100)\n",
    "print(var1)\n",
    "print(var2)"
   ]
  },
  {
   "cell_type": "code",
   "execution_count": 5,
   "metadata": {},
   "outputs": [
    {
     "data": {
      "text/plain": [
       "'\\nConvierte esta serie \\nde comentarios de una línea\\nen un comentario multilinea\\n'"
      ]
     },
     "execution_count": 5,
     "metadata": {},
     "output_type": "execute_result"
    }
   ],
   "source": [
    "# Convierte esta serie \n",
    "# de comentarios de una línea\n",
    "# en un comentario multilinea\n",
    "'''\n",
    "Convierte esta serie \n",
    "de comentarios de una línea\n",
    "en un comentario multilinea\n",
    "'''"
   ]
  },
  {
   "cell_type": "code",
   "execution_count": 6,
   "metadata": {},
   "outputs": [
    {
     "name": "stdout",
     "output_type": "stream",
     "text": [
      "<class 'int'>\n",
      "<class 'str'>\n",
      "<class 'bool'>\n",
      "<class 'float'>\n",
      "<class 'str'>\n",
      "<class 'float'>\n",
      "<class 'list'>\n"
     ]
    }
   ],
   "source": [
    "# Tipos de datos\n",
    "# Piensa que tipo de datos son las siguientes variables y muestra por pantalla dicho tipo de datos\n",
    "\n",
    "var1 = 1\n",
    "var2 = \"Hola\"\n",
    "var3 = True\n",
    "var4 = 3.1415\n",
    "\n",
    "var5 = \"1\"\n",
    "var6 = 1.0\n",
    "var7 = [1,2,3]\n",
    "\n",
    "print(type(var1))\n",
    "print(type(var2))\n",
    "print(type(var3))\n",
    "print(type(var4))\n",
    "print(type(var5))\n",
    "print(type(var6))\n",
    "print(type(var7))"
   ]
  },
  {
   "cell_type": "code",
   "execution_count": 7,
   "metadata": {},
   "outputs": [
    {
     "name": "stdout",
     "output_type": "stream",
     "text": [
      "12\n"
     ]
    }
   ],
   "source": [
    "# Input de variables: pide al usuario que introduzca un dato por consola, guardalo en la variable llamada entrada \n",
    "# e imprime su valor y tipo por pantalla\n",
    "# Prueba a introducir:\n",
    "# 12\n",
    "# 12.0\n",
    "# 12.3\n",
    "# Hola\n",
    "# True\n",
    "# [1,2]\n",
    "\n",
    "entrada = input(\"Introduzca un dato por consola:\") \n",
    "print(entrada)"
   ]
  },
  {
   "cell_type": "code",
   "execution_count": null,
   "metadata": {},
   "outputs": [],
   "source": [
    "# Ejercicios de nivel 1\n",
    "### Puedes usar internet y cualquier material excepto ChatGPT\n",
    "### Si no entiendes casi todo después de pensarlos, intentarlos y ver la solución en clase: dale otra vuelta el domingo"
   ]
  },
  {
   "cell_type": "code",
   "execution_count": 9,
   "metadata": {},
   "outputs": [
    {
     "ename": "SyntaxError",
     "evalue": "invalid syntax (1423096154.py, line 5)",
     "output_type": "error",
     "traceback": [
      "\u001b[0;36m  File \u001b[0;32m\"/var/folders/8w/q_1f6d1519b6rp401yzhh8v40000gn/T/ipykernel_11728/1423096154.py\"\u001b[0;36m, line \u001b[0;32m5\u001b[0m\n\u001b[0;31m    me_quedan = 2024 edad - edad_jubilacion\u001b[0m\n\u001b[0m                     ^\u001b[0m\n\u001b[0;31mSyntaxError\u001b[0m\u001b[0;31m:\u001b[0m invalid syntax\n"
     ]
    }
   ],
   "source": [
    "# Quiero calcular los años que me faltan hasta jubilarme, esperaba 65 - 38 = 27  pero no paran de salirme errores. ¡Ayuda!\n",
    "# Debuggea este código:\n",
    "2024_edad = 38\n",
    "edad_jubilacion = \"65\"\n",
    "me_quedan = 2024 edad - edad_jubilacion"
   ]
  },
  {
   "cell_type": "code",
   "execution_count": 11,
   "metadata": {},
   "outputs": [
    {
     "name": "stdout",
     "output_type": "stream",
     "text": [
      "-27\n"
     ]
    }
   ],
   "source": [
    "edad_2024 = 38\n",
    "edad_jubilacion = 65\n",
    "me_quedan = edad_2024 - edad_jubilacion\n",
    "print(me_quedan)"
   ]
  },
  {
   "cell_type": "code",
   "execution_count": 17,
   "metadata": {},
   "outputs": [
    {
     "name": "stdout",
     "output_type": "stream",
     "text": [
      "3.0\n",
      "1.5\n",
      "6.0\n"
     ]
    }
   ],
   "source": [
    "# Coloca parentesis para que el resultado de la operación sea\n",
    "# 3\n",
    "# 6\n",
    "# 1.5\n",
    "\n",
    "2 + 4 / 2 ** 2\n",
    "\n",
    "# Cuando resulves un problema probando todas las combinaciones posibles se llama: el método de la fuerza bruta\n",
    "res_1 = 2 + 4 / 2 ** 2\n",
    "print(res_1)\n",
    "\n",
    "res_2 = (2 + 4) / (2 ** 2)\n",
    "print(res_2)\n",
    "\n",
    "res_3 = 2 + (4/ 2) ** 2\n",
    "print(res_3)"
   ]
  },
  {
   "cell_type": "code",
   "execution_count": null,
   "metadata": {},
   "outputs": [],
   "source": [
    "# Construye las siguientes comparaciones e intenta adivinar/razonar el resultado antes de ejecutarlas\n",
    "\n",
    "# ¿Es la palabra \"Fernando V\" igual a la palabra \"Fernando VI\"\n",
    "# ¿Es la palabra \"Fernando V\" mayor a la palabra \"Fernando VI\"\n",
    "# ¿Es la palabra \"Fernando V\" menor a la palabra \"Fernando VI\"\n",
    "\n",
    "\n",
    "# ¿Es la palabra \"Avión\" igual a la palabra \"Avion\"? \n",
    "# ¿Es la palabra \"Avión\" mayor a la palabra \"Avion\"? \n",
    "# ¿Es la palabra \"Avión\" menor a la palabra \"Avion\"? \n",
    "\n",
    "# ¿Es la palabra \"AVION\" igual a la palabra \"AV1ON\"? \n",
    "# ¿Es la palabra \"AVION\" mayor a la palabra \"AV1ON\"? \n",
    "# ¿Es la palabra \"AVION\" menor a la palabra \"AV1ON\"? \n",
    "\n",
    "# ¿Es la cadena \"Grecia y Roma\" igual a la cadena \"Grecia y Roma \"? \n",
    "# ¿Es la cadena \"Grecia y roma\" igual a la cadena \"Grecia y Roma\"? \n",
    "\n",
    "# Es distinta una variable que contiene la suma de enteros 1 + 1 al entero 2?\n",
    "# Es distinta una variable que contiene la suma de float 1.5 + 0.5 al entero 2?\n"
   ]
  },
  {
   "cell_type": "code",
   "execution_count": null,
   "metadata": {},
   "outputs": [],
   "source": [
    "# Intenta razonar el resultado, luego ejecuta e intenta pensar el motivo (si el resultado no fue el esperado)\n",
    "\n",
    "print(1 + 1 == 2)\n",
    "print(1 + (1 == 2))\n",
    "print(1 + (2 == 2))"
   ]
  },
  {
   "cell_type": "code",
   "execution_count": null,
   "metadata": {},
   "outputs": [],
   "source": [
    "# Intenta razonar el resultado, luego ejecuta e intenta pensar el motivo (si el resultado no fue el esperado)\n",
    "\n",
    "print(1 + 2 == 2)\n",
    "print(1 + (2 == 2))\n",
    "print(2 + 1 == 2)\n",
    "print(2 + (2 == 2))"
   ]
  },
  {
   "cell_type": "code",
   "execution_count": null,
   "metadata": {},
   "outputs": [],
   "source": [
    "# Recuerda que:\n",
    "\n",
    "print(type(int(round(24.691739372, 0))))\n",
    "\n",
    "# Es \"equivalente\" a:\n",
    "\n",
    "paso1 = round(24.691739372, 0)\n",
    "paso2 = int(paso1)\n",
    "paso3 = type(paso2)\n",
    "print(paso3)\n",
    "\n",
    "# Haz algo equivalente con la siguiente instruccion:\n",
    "\n",
    "print(float(str(3)+\".1415\"))"
   ]
  },
  {
   "cell_type": "code",
   "execution_count": null,
   "metadata": {},
   "outputs": [],
   "source": [
    "# Importa de la libreria math, la funcion para hacer raíces cuadradas (from math import [nombre_funcion_raices])\n",
    "# Calcula la raíz cuadrada de 25, 0 y -25\n",
    "# ¿Puedes utilizar la función fabs de math?\n"
   ]
  },
  {
   "cell_type": "code",
   "execution_count": null,
   "metadata": {},
   "outputs": [],
   "source": [
    "# Escribe las siguientes condiciones:\n",
    "# Es mayor de edad pero menor de 70 años\n",
    "# Doble negación: sea x una variable que comparamos si es igual a 1, compara el resultado si negamos y si doble negamos y si triple negamos...\n",
    "# Escribe esta condicion, entiende prioridades, juega con los paréntesis 1 == 2 and 1 == 3 or 1 == 1 "
   ]
  },
  {
   "cell_type": "code",
   "execution_count": null,
   "metadata": {},
   "outputs": [],
   "source": [
    "# El DNI tiene 8 números y una letra: dado un dni = 12345678a:\n",
    "# La longitud es 9\n",
    "# El último elemento de la string dni es letra\n",
    "# Pasar a mayúsculas\n",
    "\n",
    "dni = \"12345678a\"\n",
    "\n",
    "# Eliminar blancos extra\n",
    "# Añadir ceros a la izquierda\n",
    "dni = \" 345678N   \""
   ]
  }
 ],
 "metadata": {
  "kernelspec": {
   "display_name": "Python 3",
   "language": "python",
   "name": "python3"
  },
  "language_info": {
   "codemirror_mode": {
    "name": "ipython",
    "version": 3
   },
   "file_extension": ".py",
   "mimetype": "text/x-python",
   "name": "python",
   "nbconvert_exporter": "python",
   "pygments_lexer": "ipython3",
   "version": "3.10.8"
  }
 },
 "nbformat": 4,
 "nbformat_minor": 2
}

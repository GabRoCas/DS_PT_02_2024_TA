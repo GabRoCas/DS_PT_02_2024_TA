{
 "cells": [
  {
   "cell_type": "markdown",
   "metadata": {},
   "source": [
    "# A LO QUE NO DIO TIEMPO\n",
    "\n",
    "![imagen](img/overtime.gif)"
   ]
  },
  {
   "cell_type": "markdown",
   "metadata": {},
   "source": [
    "# MARKDOWN"
   ]
  },
  {
   "cell_type": "markdown",
   "metadata": {},
   "source": [
    "Subrayamos usando la etiquetas <u>\\<u>Texto subrayado aquí\\</u></u>"
   ]
  },
  {
   "cell_type": "markdown",
   "metadata": {},
   "source": [
    "Podemos usar \\<br> para añadir saltos de línea:<br>\n",
    "Salto \n",
    "<br><br>\n",
    "De\n",
    "<br><br><br>\n",
    "Línea"
   ]
  },
  {
   "cell_type": "markdown",
   "metadata": {},
   "source": [
    "Usamos un doble dólar para centrar las fórmulas:\n",
    "* El primer dólar da formato de fórmula\n",
    "* El segundo dólar centra la misma\n",
    "\n",
    "$$e^{i\\pi} + 1 = 0$$"
   ]
  },
  {
   "cell_type": "markdown",
   "metadata": {},
   "source": [
    "# PYTHON"
   ]
  },
  {
   "cell_type": "markdown",
   "metadata": {},
   "source": [
    "### La conversion de un float en entero es similar a la operación truncar "
   ]
  },
  {
   "cell_type": "code",
   "execution_count": 15,
   "metadata": {},
   "outputs": [
    {
     "name": "stdout",
     "output_type": "stream",
     "text": [
      "15\n",
      "-15\n"
     ]
    }
   ],
   "source": [
    "print(int(15.8))\n",
    "print(int(-15.8))"
   ]
  },
  {
   "cell_type": "markdown",
   "metadata": {},
   "source": [
    "No existen constantes (variable inmutable, que no puede cambiar los datos incluídos en la misma) en python __vainilla__, pero las nombras no escritas dictan usar mayúsculas en el nombre de la variable para indicar que, a los efectos, será constante:"
   ]
  },
  {
   "cell_type": "code",
   "execution_count": null,
   "metadata": {},
   "outputs": [],
   "source": [
    "# Las normas no escritas de las programación en Python con \"estilo y buen gusto\", dicen que las constantes se declaran en mayúsculas\n",
    "MI_CONSTANTE = 42\n"
   ]
  },
  {
   "cell_type": "markdown",
   "metadata": {},
   "source": [
    "### No obstante, nada impide cambiar su valor, no será un error de código. \n",
    "\n",
    "Aunque esta será mi reacción cuando vea tu código:\n",
    "\n",
    "\n",
    "![imagen](img/saza.jpg)\n",
    "\n"
   ]
  },
  {
   "cell_type": "code",
   "execution_count": null,
   "metadata": {},
   "outputs": [],
   "source": [
    "\n",
    "MI_CONSTANTE = 43\n",
    "print(MI_CONSTANTE)"
   ]
  },
  {
   "cell_type": "markdown",
   "metadata": {},
   "source": [
    "Adicionalmente, puedes importar una libreria que al menos te sugiera amablemente que no lo hagas. "
   ]
  },
  {
   "cell_type": "code",
   "execution_count": null,
   "metadata": {},
   "outputs": [],
   "source": [
    "from typing import Final\n",
    "\n",
    "my_constante: Final[int] = 1\n",
    "print(my_constante)\n",
    "my_constante = 2\n",
    "print(my_constante)"
   ]
  },
  {
   "cell_type": "markdown",
   "metadata": {},
   "source": [
    "Puedes borrar todas las variables definidas en tu notebook usando el comando especial *%reset*\n",
    "\n",
    "Suele ser útil, antes de dar por finalizado nuestro código, borrar toda la memoria de la sesión y volver a ejecutar nuestro código para compromar si sigue funcionando.\n",
    "\n",
    "Si una vez reseteadas nuestras variables, nuestro código no funciona, puede deberse a: \n",
    "\n",
    "* Se borró la asignación de una variable pero dicha variable se usa\n",
    "* Una variable cambió de nombre pero no corregiste el nuevo nombre en todo el código\n",
    "* El código no es secuencial (tienes que ejecutar las celdas en orden para que funcione correctamente)\n",
    "* Otras...\n"
   ]
  },
  {
   "cell_type": "code",
   "execution_count": null,
   "metadata": {},
   "outputs": [],
   "source": [
    "existo_como_variable = 1212\n",
    "print(existo_como_variable)"
   ]
  },
  {
   "cell_type": "code",
   "execution_count": null,
   "metadata": {},
   "outputs": [],
   "source": [
    "%reset\n",
    "print(existo_como_variable)"
   ]
  }
 ],
 "metadata": {
  "kernelspec": {
   "display_name": "Python 3",
   "language": "python",
   "name": "python3"
  },
  "language_info": {
   "codemirror_mode": {
    "name": "ipython",
    "version": 3
   },
   "file_extension": ".py",
   "mimetype": "text/x-python",
   "name": "python",
   "nbconvert_exporter": "python",
   "pygments_lexer": "ipython3",
   "version": "3.8.10"
  }
 },
 "nbformat": 4,
 "nbformat_minor": 2
}

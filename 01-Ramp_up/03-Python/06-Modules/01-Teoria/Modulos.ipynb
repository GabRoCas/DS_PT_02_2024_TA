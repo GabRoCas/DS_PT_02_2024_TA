{
 "cells": [
  {
   "cell_type": "markdown",
   "metadata": {},
   "source": [
    "![imagen](./img/python.jpg)\n",
    "\n",
    "# Módulos y bibliotecas en Python\n",
    "\n",
    "\n",
    "Hasta ahora hemos desarrollado programas no muy complicados que cabían en una celda de un Notebook, pero poco a poco se va complicando más la cosa. ¿Qué ocurrirá cuando tengamos varias Clases definidas, funciones, datos declarados, llamadas a paginas web...? ¿Lo vamos a tener todo en una celda/Notebook? \n",
    "\n",
    "Para ayudarnos con esto utilizaremos la sentencia `import`, pudiendo dividir nuestro programa en varios scripts de Python, y no solo eso, sino que tendremos también la opción de usar librerías de terceros en nuestro código, lo que va a ayudar mucho en el desarrollo.\n",
    "\n",
    "Recuerda que ya aprendimos acerca de esto cuando utilizamos `math`\n",
    "\n",
    "1. [import](#1.-import)\n",
    "2. [Bibliotecas](#2.-Bibliotecas)\n",
    "3. [Resumen](#3.-Resumen)\n",
    "4. [Aviso a Navengantes](#4.-Aviso-a-Navegantes)"
   ]
  },
  {
   "cell_type": "markdown",
   "metadata": {},
   "source": [
    "## 1. import\n",
    "Recuerda que hay que **evitar en la medida de lo posible tener código repetido o duplicado**, por lo que funcionalidades que uses en diferentes partes del código no tendrás que copiar y pegarlas en todos lados, sino que existe la posibilidad de definirlas una sola vez, e importarlas después.\n",
    "\n",
    "Por tanto, según vamos complicando nuestros programas, surge la necesidad de modularizarlo, es decir, poder dividirlo y paquetizarlo. Como habrás podido imaginar, programas productivos como una página web o un juego, no van en un Notebook, sino en varios scripts de Python. Según las diferentes funcionalidades del código, lo iremos dividiendo en varias partes. Por ejemplo, en un script pueden ir funciones auxiliares, en otro constantes, en otro tus Clases... Veamos algunos conceptos\n",
    "\n",
    "**Script**\n",
    "\n",
    "No es más que un archivo con código Python. Estos archivos tienen la extensión `.py`, por lo que un ejemplo podría ser `primer_script.py`.\n",
    "\n",
    "**Módulo/Biblioteca/Librería/Paquete**\n",
    "\n",
    "Son términos parecidos que se suelen utilizar para referirse a lo mismo. A efectos prácticos, los consideraremos igual. Se trata de paquetes de código que tienen una funcionalidad bien definida y podremos importar en nuestros programas de Python, utilizando lo que haya dentro (clases, funciones, variables...).\n",
    "\n",
    "**import**\n",
    "\n",
    "Palabra reservada y sentencia que se usa en Python para importar cualquier objeto en nuestro código. Se usa para importar variables, funciones o módulos.\n",
    "\n",
    "Veamos cómo podemos importar objetos de otros scripts"
   ]
  },
  {
   "cell_type": "code",
   "execution_count": 1,
   "metadata": {},
   "outputs": [
    {
     "name": "stdout",
     "output_type": "stream",
     "text": [
      "Overwriting primer_script.py\n"
     ]
    }
   ],
   "source": [
    "%%file primer_script.py\n",
    "\"\"\"\n",
    "Example of a python module. Contains a variable called my_variable,\n",
    "a function called my_function, and a class called MyClass.\n",
    "\"\"\"\n",
    "\n",
    "my_variable = 0\n",
    "\n",
    "def my_function() -> int:\n",
    "    \"\"\"\n",
    "    Example function\n",
    "    \"\"\"\n",
    "    return my_variable\n",
    "    \n",
    "class MyClass:\n",
    "    \"\"\"\n",
    "    Example class.\n",
    "    \"\"\"\n",
    "\n",
    "    def __init__(self):\n",
    "        self.variable = my_variable\n",
    "        \n",
    "    def set_variable(self, new_value: int) -> None:\n",
    "        \"\"\"\n",
    "        Set self.variable to a new value\n",
    "        \"\"\"\n",
    "        self.variable = new_value\n",
    "        \n",
    "    def get_variable(self) -> int:\n",
    "        return self.variable"
   ]
  },
  {
   "cell_type": "markdown",
   "metadata": {},
   "source": [
    "Tenemos en otro script una variable, una función y una clase definida. Ahora lo importamos"
   ]
  },
  {
   "cell_type": "code",
   "execution_count": 2,
   "metadata": {},
   "outputs": [
    {
     "name": "stdout",
     "output_type": "stream",
     "text": [
      "Help on module primer_script:\n",
      "\n",
      "NAME\n",
      "    primer_script\n",
      "\n",
      "DESCRIPTION\n",
      "    Example of a python module. Contains a variable called my_variable,\n",
      "    a function called my_function, and a class called MyClass.\n",
      "\n",
      "CLASSES\n",
      "    builtins.object\n",
      "        MyClass\n",
      "    \n",
      "    class MyClass(builtins.object)\n",
      "     |  Example class.\n",
      "     |  \n",
      "     |  Methods defined here:\n",
      "     |  \n",
      "     |  __init__(self)\n",
      "     |      Initialize self.  See help(type(self)) for accurate signature.\n",
      "     |  \n",
      "     |  get_variable(self) -> int\n",
      "     |  \n",
      "     |  set_variable(self, new_value: int) -> None\n",
      "     |      Set self.variable to a new value\n",
      "     |  \n",
      "     |  ----------------------------------------------------------------------\n",
      "     |  Data descriptors defined here:\n",
      "     |  \n",
      "     |  __dict__\n",
      "     |      dictionary for instance variables (if defined)\n",
      "     |  \n",
      "     |  __weakref__\n",
      "     |      list of weak references to the object (if defined)\n",
      "\n",
      "FUNCTIONS\n",
      "    my_function() -> int\n",
      "        Example function\n",
      "\n",
      "DATA\n",
      "    my_variable = 0\n",
      "\n",
      "FILE\n",
      "    /Users/gabrielarodrigocastrillo/Desktop/The_Bridge/TA/DS_PT_02_2024_repo_forked/01-Ramp_up/03-Python/06-Modules/01-Teoria/primer_script.py\n",
      "\n",
      "\n"
     ]
    }
   ],
   "source": [
    "import primer_script\n",
    "help(primer_script)"
   ]
  },
  {
   "cell_type": "markdown",
   "metadata": {},
   "source": [
    "Como siempre en cualquier lenguaje de programación **tenemos que fijarnos siempre dónde está apuntando el Notebook**, es decir, en qué directorio de trabajo va a leer el script. Al poner `import primer_script`, va a buscar ese script en el **mismo directorio donde esté el Notebook**. Si lo tenemos en otro lado del ordenador, no lo detectará. Cuando realizas el importado Python no recorre todas las carpetas del ordenador, lo busca en el mismo sitio donde está el Notebook. Más delante veremos cómo leer scripts de otros directorios.\n",
    "\n",
    "Si queremos acceder a cualquier objeto del módulo, simplemente utilizamos la sintaxis `nombre_modulo.objeto`"
   ]
  },
  {
   "cell_type": "code",
   "execution_count": 3,
   "metadata": {},
   "outputs": [
    {
     "name": "stdout",
     "output_type": "stream",
     "text": [
      "0\n",
      "<function my_function at 0x7f94fba4e3b0>\n",
      "<class 'primer_script.MyClass'>\n"
     ]
    }
   ],
   "source": [
    "print(primer_script.my_variable)\n",
    "print(primer_script.my_function)\n",
    "print(primer_script.MyClass)"
   ]
  },
  {
   "cell_type": "code",
   "execution_count": 4,
   "metadata": {},
   "outputs": [
    {
     "name": "stdout",
     "output_type": "stream",
     "text": [
      "<primer_script.MyClass object at 0x7f94fba33be0>\n",
      "0\n"
     ]
    }
   ],
   "source": [
    "new_object = primer_script.MyClass()\n",
    "print(new_object)\n",
    "print(new_object.get_variable())"
   ]
  },
  {
   "cell_type": "markdown",
   "metadata": {},
   "source": [
    "[Aquí](https://docs.python.org/3/reference/import.html) tienes el enlace a la documentación del `import` por si tienes dudas, o necesitas realizar operaciones más complejas con el importado de módulos."
   ]
  },
  {
   "cell_type": "markdown",
   "metadata": {},
   "source": [
    "<table align=\"left\">\n",
    " <tr><td width=\"80\"><img src=\"./img/error.png\" style=\"width:auto;height:auto\"></td>\n",
    "     <td style=\"text-align:left\">\n",
    "         <h3>ERRORES Importado de módulos</h3>\n",
    "         \n",
    " </td></tr>\n",
    "</table>"
   ]
  },
  {
   "cell_type": "markdown",
   "metadata": {},
   "source": [
    "Típico error cuando intentamos acceder a un módulo que pensamos que está instalado, o queremos acceder a un *.py* que en realidad no está en la ruta deseada."
   ]
  },
  {
   "cell_type": "code",
   "execution_count": 5,
   "metadata": {},
   "outputs": [
    {
     "ename": "ModuleNotFoundError",
     "evalue": "No module named 'mi_modulo'",
     "output_type": "error",
     "traceback": [
      "\u001b[0;31m---------------------------------------------------------------------------\u001b[0m",
      "\u001b[0;31mModuleNotFoundError\u001b[0m                       Traceback (most recent call last)",
      "\u001b[0;32m/var/folders/8w/q_1f6d1519b6rp401yzhh8v40000gn/T/ipykernel_15172/2267059110.py\u001b[0m in \u001b[0;36m<module>\u001b[0;34m\u001b[0m\n\u001b[0;32m----> 1\u001b[0;31m \u001b[0;32mimport\u001b[0m \u001b[0mmi_modulo\u001b[0m\u001b[0;34m\u001b[0m\u001b[0;34m\u001b[0m\u001b[0m\n\u001b[0m",
      "\u001b[0;31mModuleNotFoundError\u001b[0m: No module named 'mi_modulo'"
     ]
    }
   ],
   "source": [
    "import mi_modulo"
   ]
  },
  {
   "cell_type": "markdown",
   "metadata": {},
   "source": [
    "O si intentamos acceder una función/atributo que en realidad no existe en el módulo."
   ]
  },
  {
   "cell_type": "code",
   "execution_count": 6,
   "metadata": {},
   "outputs": [
    {
     "ename": "AttributeError",
     "evalue": "module 'primer_script' has no attribute 'my_function2'",
     "output_type": "error",
     "traceback": [
      "\u001b[0;31m---------------------------------------------------------------------------\u001b[0m",
      "\u001b[0;31mAttributeError\u001b[0m                            Traceback (most recent call last)",
      "\u001b[0;32m/var/folders/8w/q_1f6d1519b6rp401yzhh8v40000gn/T/ipykernel_15172/3199529958.py\u001b[0m in \u001b[0;36m<module>\u001b[0;34m\u001b[0m\n\u001b[0;32m----> 1\u001b[0;31m \u001b[0mprimer_script\u001b[0m\u001b[0;34m.\u001b[0m\u001b[0mmy_function2\u001b[0m\u001b[0;34m(\u001b[0m\u001b[0;34m)\u001b[0m\u001b[0;34m\u001b[0m\u001b[0;34m\u001b[0m\u001b[0m\n\u001b[0m",
      "\u001b[0;31mAttributeError\u001b[0m: module 'primer_script' has no attribute 'my_function2'"
     ]
    }
   ],
   "source": [
    "primer_script.my_function2()"
   ]
  },
  {
   "cell_type": "markdown",
   "metadata": {},
   "source": [
    "<table align=\"left\">\n",
    " <tr><td width=\"80\"><img src=\"./img/ejercicio.png\" style=\"width:auto;height:auto\"></td>\n",
    "     <td style=\"text-align:left\">\n",
    "         <h3>Crear un script</h3>\n",
    "         \n",
    "Crea un nuevo script de Python (es un archivo .py) y ponle de nombre \"ejer_prueba.py\". Lo puedes crear desde el propio Jupyter Lab desde File -> New -> Text File. O también desde VSCode/Pycharm\n",
    "         \n",
    "         Declara dos variables en el script\n",
    "         a = 1\n",
    "         b = 2\n",
    "\n",
    "Importa ambas variables e imprimelas por pantalla.\n",
    "\n",
    "NOTA: si estás seguro de que está bien y no te reconoce las variables, prueba a reiniciar el kernel.\n",
    " </td></tr>\n",
    "</table>"
   ]
  },
  {
   "cell_type": "code",
   "execution_count": null,
   "metadata": {},
   "outputs": [],
   "source": []
  },
  {
   "cell_type": "markdown",
   "metadata": {},
   "source": [
    "Tienes otras maneras de importar datos, ya que en ocasiones desconocemos lo que hay dentro del módulo, o simplemente no queremos utilizar todo lo que hay."
   ]
  },
  {
   "cell_type": "code",
   "execution_count": 8,
   "metadata": {},
   "outputs": [
    {
     "name": "stdout",
     "output_type": "stream",
     "text": [
      "3.141592653589793\n"
     ]
    }
   ],
   "source": [
    "from math import pi\n",
    "print(pi)"
   ]
  },
  {
   "cell_type": "markdown",
   "metadata": {},
   "source": [
    "En este caso ya no es necesario usar la sintaxis `modulo.objeto`, sino que el objeto ya está cargado en memoria. Es como si lo hubiésemos ejecuctado en una celda.\n",
    "\n",
    "Otra opción es importar todo. **NO es lo recomendable**. Porque el módulo podría tener muchas variables o funciones que no necesitemos, y ocupan espacio en memoria."
   ]
  },
  {
   "cell_type": "code",
   "execution_count": null,
   "metadata": {},
   "outputs": [],
   "source": [
    "from math import *"
   ]
  },
  {
   "cell_type": "markdown",
   "metadata": {},
   "source": [
    "**¿Y si tenemos el archivo en otra carpeta?** La sintaxis es la misma. Si dentro de la carpeta donde está el Notebook, hay otra carpeta llamada `direc_segundo`, y dentro de esa carpeta hay otro script llamado `segundo_script.py`, podrás acceder a los objetos de ese escript mediante la sintaxis `import direc_segundo.segundo_script`"
   ]
  },
  {
   "cell_type": "markdown",
   "metadata": {},
   "source": [
    "<table align=\"left\">\n",
    " <tr><td width=\"80\"><img src=\"./img/ejercicio.png\" style=\"width:auto;height:auto\"></td>\n",
    "     <td style=\"text-align:left\">\n",
    "         <h3>Crear un script dentro de una carpeta</h3>\n",
    "         \n",
    "En el mismo sitio donde se encuentra este Notebook, crea la carpeta \"direc_segundo\", y dentro de la carpeta crea otro script llamado \"segundo_script.py\".\n",
    "         \n",
    "         Declara dos variables en el script\n",
    "         c = 3\n",
    "         d = 4\n",
    "\n",
    "Importa ambas variables e imprimelas por pantalla.\n",
    "         \n",
    " </td></tr>\n",
    "</table>"
   ]
  },
  {
   "cell_type": "code",
   "execution_count": null,
   "metadata": {},
   "outputs": [],
   "source": []
  },
  {
   "cell_type": "code",
   "execution_count": null,
   "metadata": {},
   "outputs": [],
   "source": []
  },
  {
   "cell_type": "markdown",
   "metadata": {},
   "source": [
    "En estos casos resulta muy útil ponerle un alias al `import`. Esto nos ayudará a acortar el nombre y a poner uno más intuitivo"
   ]
  },
  {
   "cell_type": "code",
   "execution_count": 9,
   "metadata": {},
   "outputs": [],
   "source": [
    "import pandas as pd"
   ]
  },
  {
   "cell_type": "markdown",
   "metadata": {},
   "source": [
    "Por útimo, **¿y si nuestros módulos no están en una carpeta dentro del proyecto donde estamos trabajando, sino en otra carpeta del ordenador, o en directorios anteriores?** Esto lo podemos solucionar mediante `sys.path`. `sys` es el módulo de Python que se usa para manejar las variables del sistema y el intérprete. Y `path` es una lista de strings con una serie de rutas donde acude el intérprete de Python cuando tiene que buscar un módulo. [Tienes aqui la documentación de `sys`](https://docs.python.org/3/library/sys.html)"
   ]
  },
  {
   "cell_type": "code",
   "execution_count": 7,
   "metadata": {},
   "outputs": [
    {
     "data": {
      "text/plain": [
       "['/Users/gabrielarodrigocastrillo/Desktop/The_Bridge/TA/DS_PT_02_2024_repo_forked/01-Ramp_up/03-Python/06-Modules/01-Teoria',\n",
       " '/opt/anaconda3/envs/general/lib/python310.zip',\n",
       " '/opt/anaconda3/envs/general/lib/python3.10',\n",
       " '/opt/anaconda3/envs/general/lib/python3.10/lib-dynload',\n",
       " '',\n",
       " '/opt/anaconda3/envs/general/lib/python3.10/site-packages',\n",
       " '/opt/anaconda3/envs/general/lib/python3.10/site-packages/PyQt5_sip-12.11.0-py3.10-macosx-10.9-x86_64.egg',\n",
       " '/opt/anaconda3/envs/general/lib/python3.10/site-packages/IPython/extensions',\n",
       " '/Users/gabrielarodrigocastrillo/.ipython']"
      ]
     },
     "execution_count": 7,
     "metadata": {},
     "output_type": "execute_result"
    }
   ],
   "source": [
    "import sys\n",
    "sys.path"
   ]
  },
  {
   "cell_type": "markdown",
   "metadata": {},
   "source": [
    "Si queremos que el intérprete de Python entienda de otros módulos que **no están en la carpeta de Notebook**, tendremos que añadir esa ruta a la lista de paths mediante la sintaxis `sys.path.append(la_nueva_ruta)`. Recuerda que `sys.path` es una lista, por lo que podrás aplicarle lo que ya sabes sobre listas."
   ]
  },
  {
   "cell_type": "code",
   "execution_count": null,
   "metadata": {},
   "outputs": [],
   "source": [
    "# sys.path.append('[tu_directorio]\\\\direc_tercero')"
   ]
  },
  {
   "cell_type": "markdown",
   "metadata": {},
   "source": [
    "Una vez creado el nuevo directorio, se recomienda copiar su ruta y pegarla en el `append`\n",
    "\n",
    "![imagen](./img/path.png)"
   ]
  },
  {
   "cell_type": "markdown",
   "metadata": {},
   "source": [
    "<table align=\"left\">\n",
    " <tr><td width=\"80\"><img src=\"./img/ejercicio.png\" style=\"width:auto;height:auto\"></td>\n",
    "     <td style=\"text-align:left\">\n",
    "         <h3>Añadir un nuevo path</h3>\n",
    "         \n",
    "Crea un nuevo directorio en otra ruta del ordenador, por ejemplo en el escritorio. Llámalo \"direc_tercero\" e introduce dentro un nuevo script que se llame \"tercer_script.py\". Tendrás que añadir el path de ese directorio a los paths de sys.\n",
    "         \n",
    "         Declara dos variables en el script\n",
    "         e = 5\n",
    "         f = 6\n",
    "\n",
    "\n",
    "Importa ambas variables e imprimelas por pantalla.\n",
    "         \n",
    " </td></tr>\n",
    "</table>"
   ]
  },
  {
   "cell_type": "code",
   "execution_count": null,
   "metadata": {},
   "outputs": [],
   "source": []
  },
  {
   "cell_type": "markdown",
   "metadata": {},
   "source": [
    "Con lo visto en este Notebook tienes conocimiento de sobra para manejar tu programa en varios scripts, pero si quieres aprender más sobre el concepto `import`, te recomiendo que te leas [este artículo](https://chrisyeh96.github.io/2017/08/08/definitive-guide-python-imports.html)."
   ]
  },
  {
   "cell_type": "markdown",
   "metadata": {},
   "source": [
    "## 2. Bibliotecas\n",
    "Hasta ahora, todas las funcionalidades que necesitabas en Python las has ido desarrollando con tu propio código. Esto está bien, pero no siempre es necesario. **Existen muchísimas librerías que pueden hacer el trabajo por ti**, por lo que antes de implementar algo, ***no reinventes la rueda***. Se listo y busca si ya hay algo hecho en la web. Esto es lo bueno de trabajar con un lenguaje open source, que existe una comunidad con muchísimos desarrolladores y hay una gran cantidad de código publicado de manera gratuita. Por tanto, ¿De dónde podemos sacar estos códigos mágicos?\n",
    "\n",
    "* **[Biblioteca estándar de Python](https://docs.python.org/3/library/index.html#the-python-standard-library)**: aqui tienes muchas de las cosas que hemos visto ya (tipos de datos, el módulo math...) y mucho más (lectura de archivos, compresión, acceso a BBDD...).\n",
    "* **Bibliotecas de terceros**: librerías que no vienen en el paquete por defecto de Python. Estas librerías o bien las implementa un particular o una empresa, y son de código abierto. Anaconda está muy orientado a la ciencia de datos, por lo que tiene librerías muy interesantes que utilizaremos durante el curso (pandas, numpy o sklearn). Además de estás librerías, podrás añadir al intérprete de Python todas las que necesites\n",
    "\n",
    "Veamos un ejemplo de importación de una librería"
   ]
  },
  {
   "cell_type": "code",
   "execution_count": null,
   "metadata": {},
   "outputs": [],
   "source": [
    "import math\n",
    "math.sqrt(36)"
   ]
  },
  {
   "cell_type": "markdown",
   "metadata": {},
   "source": [
    "Importando `math`, podremos acceder a todas sus funciones mediante la sintaxis `math.funcion()`. [En la documentación](https://docs.python.org/3/library/math.html#math.log) verás todo lo que puedes hacer con `math`. \n",
    "\n",
    "Veamos un ejemplo en el que nos ayude a no escribir código de más."
   ]
  },
  {
   "cell_type": "code",
   "execution_count": null,
   "metadata": {
    "collapsed": true,
    "jupyter": {
     "outputs_hidden": true
    },
    "tags": []
   },
   "outputs": [],
   "source": [
    "help(math)"
   ]
  },
  {
   "cell_type": "code",
   "execution_count": null,
   "metadata": {},
   "outputs": [],
   "source": [
    "help(math.sqrt)"
   ]
  },
  {
   "cell_type": "code",
   "execution_count": null,
   "metadata": {},
   "outputs": [],
   "source": [
    "print(dir(math))"
   ]
  },
  {
   "cell_type": "markdown",
   "metadata": {},
   "source": [
    "Otro ejemplo en el que vemos la potencia de `pandas`, a la hora de leer archivos"
   ]
  },
  {
   "cell_type": "code",
   "execution_count": 12,
   "metadata": {
    "collapsed": true,
    "jupyter": {
     "outputs_hidden": true
    },
    "tags": []
   },
   "outputs": [
    {
     "name": "stdout",
     "output_type": "stream",
     "text": [
      "['schedtime', 'carrier', 'deptime', 'dest', 'distance', 'date', 'flightnumber', 'origin', 'weather', 'dayweek', 'daymonth', 'tailnu', 'delay']\n",
      "['1455', 'OH', '1455', 'JFK', '184', '1/1/2004', '5935', 'BWI', '0', '4', '1', 'N940CA', 'ontime']\n",
      "['1640', 'DH', '1640', 'JFK', '213', '1/1/2004', '6155', 'DCA', '0', '4', '1', 'N405FJ', 'ontime']\n",
      "['1245', 'DH', '1245', 'LGA', '229', '1/1/2004', '7208', 'IAD', '0', '4', '1', 'N695BR', 'ontime']\n",
      "['1715', 'DH', '1709', 'LGA', '229', '1/1/2004', '7215', 'IAD', '0', '4', '1', 'N662BR', 'ontime']\n",
      "['1039', 'DH', '1035', 'LGA', '229', '1/1/2004', '7792', 'IAD', '0', '4', '1', 'N698BR', 'ontime']\n",
      "['840', 'DH', '839', 'JFK', '228', '1/1/2004', '7800', 'IAD', '0', '4', '1', 'N687BR', 'ontime']\n",
      "['1240', 'DH', '1243', 'JFK', '228', '1/1/2004', '7806', 'IAD', '0', '4', '1', 'N321UE', 'ontime']\n",
      "['1645', 'DH', '1644', 'JFK', '228', '1/1/2004', '7810', 'IAD', '0', '4', '1', 'N301UE', 'ontime']\n",
      "['1715', 'DH', '1710', 'JFK', '228', '1/1/2004', '7812', 'IAD', '0', '4', '1', 'N328UE', 'ontime']\n",
      "['2120', 'DH', '2129', 'JFK', '228', '1/1/2004', '7814', 'IAD', '0', '4', '1', 'N685BR', 'ontime']\n",
      "['2120', 'DH', '2114', 'LGA', '229', '1/1/2004', '7924', 'IAD', '0', '4', '1', 'N645BR', 'ontime']\n",
      "['1455', 'DL', '1458', 'JFK', '213', '1/1/2004', '746', 'DCA', '0', '4', '1', 'N918DE', 'ontime']\n",
      "['930', 'DL', '932', 'LGA', '214', '1/1/2004', '1746', 'DCA', '0', '4', '1', 'N242DL', 'ontime']\n",
      "['1230', 'DL', '1228', 'LGA', '214', '1/1/2004', '1752', 'DCA', '0', '4', '1', 'N241DL', 'ontime']\n",
      "['1430', 'DL', '1429', 'LGA', '214', '1/1/2004', '1756', 'DCA', '0', '4', '1', 'N242DL', 'ontime']\n",
      "['1730', 'DL', '1728', 'LGA', '214', '1/1/2004', '1762', 'DCA', '0', '4', '1', 'N241DL', 'ontime']\n",
      "['2030', 'DL', '2029', 'LGA', '214', '1/1/2004', '1768', 'DCA', '0', '4', '1', 'N242DL', 'ontime']\n",
      "['1530', 'MQ', '1525', 'JFK', '213', '1/1/2004', '4752', 'DCA', '0', '4', '1', 'N709MQ', 'ontime']\n",
      "['600', 'MQ', '556', 'JFK', '213', '1/1/2004', '4760', 'DCA', '0', '4', '1', 'N717MQ', 'ontime']\n",
      "['1830', 'MQ', '1822', 'JFK', '213', '1/1/2004', '4784', 'DCA', '0', '4', '1', 'N707MQ', 'ontime']\n",
      "['900', 'MQ', '853', 'LGA', '214', '1/1/2004', '4956', 'DCA', '0', '4', '1', 'N737MQ', 'ontime']\n",
      "['1300', 'MQ', '1254', 'LGA', '214', '1/1/2004', '4964', 'DCA', '0', '4', '1', 'N717MQ', 'ontime']\n",
      "['1400', 'MQ', '1356', 'LGA', '214', '1/1/2004', '4966', 'DCA', '0', '4', '1', 'N726MQ', 'ontime']\n",
      "['1500', 'MQ', '1452', 'LGA', '214', '1/1/2004', '4968', 'DCA', '0', '4', '1', 'N724MQ', 'ontime']\n",
      "['1900', 'MQ', '1853', 'LGA', '214', '1/1/2004', '4976', 'DCA', '0', '4', '1', 'N724MQ', 'ontime']\n",
      "['850', 'UA', '841', 'LGA', '229', '1/1/2004', '846', 'IAD', '0', '4', '1', 'N513UA', 'ontime']\n",
      "['900', 'US', '858', 'LGA', '214', '1/1/2004', '2164', 'DCA', '0', '4', '1', 'N709UW', 'ontime']\n",
      "['1100', 'US', '1056', 'LGA', '214', '1/1/2004', '2168', 'DCA', '0', '4', '1', 'N748UW', 'ontime']\n",
      "['1300', 'US', '1253', 'LGA', '214', '1/1/2004', '2172', 'DCA', '0', '4', '1', 'N709UW', 'ontime']\n",
      "['1500', 'US', '1458', 'LGA', '214', '1/1/2004', '2176', 'DCA', '0', '4', '1', 'N748UW', 'ontime']\n",
      "['1700', 'US', '1655', 'LGA', '214', '1/1/2004', '2180', 'DCA', '0', '4', '1', 'N709UW', 'ontime']\n",
      "['2100', 'US', '2055', 'LGA', '214', '1/1/2004', '2188', 'DCA', '0', '4', '1', 'N709UW', 'ontime']\n",
      "['1455', 'RU', '1452', 'EWR', '169', '1/1/2004', '2403', 'BWI', '0', '4', '1', 'N14916', 'ontime']\n",
      "['1720', 'RU', '1710', 'EWR', '169', '1/1/2004', '2675', 'BWI', '0', '4', '1', 'N16954', 'ontime']\n",
      "['1030', 'RU', '1030', 'EWR', '169', '1/1/2004', '2303', 'BWI', '0', '4', '1', 'N26549', 'ontime']\n",
      "['700', 'RU', '656', 'EWR', '169', '1/1/2004', '2703', 'BWI', '0', '4', '1', 'N16954', 'ontime']\n",
      "['1300', 'CO', '1256', 'EWR', '199', '1/1/2004', '808', 'DCA', '0', '4', '1', 'N18611', 'ontime']\n",
      "['1730', 'CO', '1726', 'EWR', '199', '1/1/2004', '814', 'DCA', '0', '4', '1', 'N19357', 'ontime']\n",
      "['840', 'DH', '840', 'EWR', '213', '1/1/2004', '7299', 'IAD', '0', '4', '1', 'N691BR', 'ontime']\n",
      "['1710', 'DH', '1704', 'EWR', '213', '1/1/2004', '7302', 'IAD', '0', '4', '1', 'N691BR', 'ontime']\n",
      "['1245', 'DH', '1245', 'EWR', '213', '1/1/2004', '7303', 'IAD', '0', '4', '1', 'N697BR', 'ontime']\n",
      "['2120', 'DH', '2118', 'EWR', '213', '1/1/2004', '7304', 'IAD', '0', '4', '1', 'N699BR', 'ontime']\n",
      "['1715', 'DH', '1741', 'JFK', '228', '1/3/2004', '7812', 'IAD', '0', '6', '3', 'N327UE', 'ontime']\n",
      "['1730', 'RU', '1736', 'EWR', '199', '1/31/2004', '2097', 'DCA', '0', '6', '31', 'N13994', 'ontime']\n",
      "Fin\n"
     ]
    }
   ],
   "source": [
    "import csv\n",
    "\n",
    "with open('datos_prueba.csv', 'r') as file:\n",
    "    my_reader = csv.reader(file, delimiter = ',')\n",
    "    \n",
    "    for row in my_reader:\n",
    "        print(row)\n",
    "\n",
    "print(\"Fin\")"
   ]
  },
  {
   "cell_type": "code",
   "execution_count": 13,
   "metadata": {},
   "outputs": [
    {
     "data": {
      "text/html": [
       "<div>\n",
       "<style scoped>\n",
       "    .dataframe tbody tr th:only-of-type {\n",
       "        vertical-align: middle;\n",
       "    }\n",
       "\n",
       "    .dataframe tbody tr th {\n",
       "        vertical-align: top;\n",
       "    }\n",
       "\n",
       "    .dataframe thead th {\n",
       "        text-align: right;\n",
       "    }\n",
       "</style>\n",
       "<table border=\"1\" class=\"dataframe\">\n",
       "  <thead>\n",
       "    <tr style=\"text-align: right;\">\n",
       "      <th></th>\n",
       "      <th>schedtime</th>\n",
       "      <th>carrier</th>\n",
       "      <th>deptime</th>\n",
       "      <th>dest</th>\n",
       "      <th>distance</th>\n",
       "      <th>date</th>\n",
       "      <th>flightnumber</th>\n",
       "      <th>origin</th>\n",
       "      <th>weather</th>\n",
       "      <th>dayweek</th>\n",
       "      <th>daymonth</th>\n",
       "      <th>tailnu</th>\n",
       "      <th>delay</th>\n",
       "    </tr>\n",
       "  </thead>\n",
       "  <tbody>\n",
       "    <tr>\n",
       "      <th>0</th>\n",
       "      <td>1455</td>\n",
       "      <td>OH</td>\n",
       "      <td>1455</td>\n",
       "      <td>JFK</td>\n",
       "      <td>184</td>\n",
       "      <td>1/1/2004</td>\n",
       "      <td>5935</td>\n",
       "      <td>BWI</td>\n",
       "      <td>0</td>\n",
       "      <td>4</td>\n",
       "      <td>1</td>\n",
       "      <td>N940CA</td>\n",
       "      <td>ontime</td>\n",
       "    </tr>\n",
       "    <tr>\n",
       "      <th>1</th>\n",
       "      <td>1640</td>\n",
       "      <td>DH</td>\n",
       "      <td>1640</td>\n",
       "      <td>JFK</td>\n",
       "      <td>213</td>\n",
       "      <td>1/1/2004</td>\n",
       "      <td>6155</td>\n",
       "      <td>DCA</td>\n",
       "      <td>0</td>\n",
       "      <td>4</td>\n",
       "      <td>1</td>\n",
       "      <td>N405FJ</td>\n",
       "      <td>ontime</td>\n",
       "    </tr>\n",
       "    <tr>\n",
       "      <th>2</th>\n",
       "      <td>1245</td>\n",
       "      <td>DH</td>\n",
       "      <td>1245</td>\n",
       "      <td>LGA</td>\n",
       "      <td>229</td>\n",
       "      <td>1/1/2004</td>\n",
       "      <td>7208</td>\n",
       "      <td>IAD</td>\n",
       "      <td>0</td>\n",
       "      <td>4</td>\n",
       "      <td>1</td>\n",
       "      <td>N695BR</td>\n",
       "      <td>ontime</td>\n",
       "    </tr>\n",
       "    <tr>\n",
       "      <th>3</th>\n",
       "      <td>1715</td>\n",
       "      <td>DH</td>\n",
       "      <td>1709</td>\n",
       "      <td>LGA</td>\n",
       "      <td>229</td>\n",
       "      <td>1/1/2004</td>\n",
       "      <td>7215</td>\n",
       "      <td>IAD</td>\n",
       "      <td>0</td>\n",
       "      <td>4</td>\n",
       "      <td>1</td>\n",
       "      <td>N662BR</td>\n",
       "      <td>ontime</td>\n",
       "    </tr>\n",
       "    <tr>\n",
       "      <th>4</th>\n",
       "      <td>1039</td>\n",
       "      <td>DH</td>\n",
       "      <td>1035</td>\n",
       "      <td>LGA</td>\n",
       "      <td>229</td>\n",
       "      <td>1/1/2004</td>\n",
       "      <td>7792</td>\n",
       "      <td>IAD</td>\n",
       "      <td>0</td>\n",
       "      <td>4</td>\n",
       "      <td>1</td>\n",
       "      <td>N698BR</td>\n",
       "      <td>ontime</td>\n",
       "    </tr>\n",
       "  </tbody>\n",
       "</table>\n",
       "</div>"
      ],
      "text/plain": [
       "   schedtime carrier  deptime dest  distance      date  flightnumber origin  \\\n",
       "0       1455      OH     1455  JFK       184  1/1/2004          5935    BWI   \n",
       "1       1640      DH     1640  JFK       213  1/1/2004          6155    DCA   \n",
       "2       1245      DH     1245  LGA       229  1/1/2004          7208    IAD   \n",
       "3       1715      DH     1709  LGA       229  1/1/2004          7215    IAD   \n",
       "4       1039      DH     1035  LGA       229  1/1/2004          7792    IAD   \n",
       "\n",
       "   weather  dayweek  daymonth  tailnu   delay  \n",
       "0        0        4         1  N940CA  ontime  \n",
       "1        0        4         1  N405FJ  ontime  \n",
       "2        0        4         1  N695BR  ontime  \n",
       "3        0        4         1  N662BR  ontime  \n",
       "4        0        4         1  N698BR  ontime  "
      ]
     },
     "execution_count": 13,
     "metadata": {},
     "output_type": "execute_result"
    }
   ],
   "source": [
    "import pandas as pd\n",
    "\n",
    "mi_data = pd.read_csv(\"datos_prueba.csv\")\n",
    "mi_data.head()"
   ]
  },
  {
   "cell_type": "code",
   "execution_count": 14,
   "metadata": {
    "collapsed": true,
    "jupyter": {
     "outputs_hidden": true
    },
    "tags": []
   },
   "outputs": [
    {
     "data": {
      "text/plain": [
       "<AxesSubplot: xlabel='origin', ylabel='distance'>"
      ]
     },
     "execution_count": 14,
     "metadata": {},
     "output_type": "execute_result"
    },
    {
     "data": {
      "image/png": "[encoded data removed]",
      "text/plain": [
       "<Figure size 640x480 with 1 Axes>"
      ]
     },
     "metadata": {},
     "output_type": "display_data"
    }
   ],
   "source": [
    "import seaborn as sns\n",
    "\n",
    "sns.barplot(x = \"origin\", y = \"distance\", data = mi_data)"
   ]
  },
  {
   "cell_type": "markdown",
   "metadata": {},
   "source": [
    "### Bibliotecas de terceros\n",
    "**¿Y si encontramos una librería interesante, pero no viene en el paquete de Anaconda?** La podremos instalar. Anaconda viene con muchas bibliotecas ya instaladas, la mayoría orientadas a trabajar con datos, pero por supuesto, no contiene todas las bibliotecas. Si quieres ver los paquetes de Anaconda, abre un *Prompt de Anaconda* y escribe `pip freeze`.\n",
    "\n",
    "Entonces, **¿cómo se instala un paquete nuevo?** La mayoría de paquetes los vas a encontrar en [PyPI (Python Package Index)](https://pypi.org), que es el repositorio oficial de paquetes de Python. Existen paquetes de particulares (no empresas, ni comunidades) en PyPI. Eso no quiere decir que no los puedas instalar, sino que probablemente estén menos testados que los \"oficiales\".\n",
    "\n",
    "Veamos un ejemplo de cómo instalar una nueva librería. En este caso, instalaremos **wget**, que nos sirve para obtener archivos de la web."
   ]
  },
  {
   "cell_type": "code",
   "execution_count": null,
   "metadata": {
    "collapsed": true,
    "jupyter": {
     "outputs_hidden": true
    },
    "tags": []
   },
   "outputs": [],
   "source": [
    "!pip freeze"
   ]
  },
  {
   "cell_type": "code",
   "execution_count": null,
   "metadata": {},
   "outputs": [],
   "source": [
    "!where python"
   ]
  },
  {
   "cell_type": "code",
   "execution_count": null,
   "metadata": {},
   "outputs": [],
   "source": [
    "import wget"
   ]
  },
  {
   "cell_type": "markdown",
   "metadata": {},
   "source": [
    "Al hacer el `import`, no existe, por lo que tendremos que instalarla. Para instalarla:\n",
    "\n",
    "1. ¿Recordáis que insistimos mucho en añadir python al path cuándo lo instalamos? Ahora nos sirve para poder ejecutar `pip install wget` desde la consola de Windows \n",
    "\n",
    "![imagen](./img/wget_consola.png)\n",
    "\n",
    "2. Si instalaste Anaconda, abre un prompt de Anaconda y ejecuta `pip install wget`\n",
    "\n",
    "\n",
    "![imagen](./img/wget.png)\n",
    "\n",
    "3. Incluso desde la propia terminal del VS Code!\n",
    "\n",
    "![imagen](./img/wget_vs.png)"
   ]
  },
  {
   "cell_type": "code",
   "execution_count": null,
   "metadata": {},
   "outputs": [],
   "source": [
    "# !pip install wget"
   ]
  },
  {
   "cell_type": "code",
   "execution_count": 1,
   "metadata": {},
   "outputs": [
    {
     "data": {
      "text/plain": [
       "'razorback.mp3'"
      ]
     },
     "execution_count": 1,
     "metadata": {},
     "output_type": "execute_result"
    }
   ],
   "source": [
    "import wget\n",
    "\n",
    "url = 'http://www.futurecrew.com/skaven/song_files/mp3/razorback.mp3'\n",
    "filename = wget.download(url)\n",
    "filename"
   ]
  },
  {
   "cell_type": "markdown",
   "metadata": {},
   "source": [
    "¡Perfecto! has podido instalar tu primer paquete en el intérprete de Python 3.7"
   ]
  },
  {
   "cell_type": "markdown",
   "metadata": {},
   "source": [
    "## 3. Resumen\n",
    "Como ves, **gran parte de la potencia de Python reside en sus librerías**. Combinando los conocimientos ya aprendidos con las librerías adecuadas, podremos crear dashboards interactivos, modelos de machine learning, páginas webs, automatizar procesos... ¡Los límites los pones tu! :)"
   ]
  },
  {
   "cell_type": "code",
   "execution_count": null,
   "metadata": {},
   "outputs": [],
   "source": [
    "# Sintaxis básica para importar un modulo\n",
    "import primer_script\n",
    "\n",
    "# PAra acceder a su documentación\n",
    "help(primer_script)\n",
    "\n",
    "# PAra acceder a los objetos del modulo\n",
    "print(primer_script.my_variable)\n",
    "print(primer_script.my_function)\n",
    "print(primer_script.MyClass)\n",
    "\n",
    "# Una manera de acceder a todo\n",
    "from primer_script import *\n",
    "\n",
    "# Renombrar el modulo también es util\n",
    "import direc_segundo.segundo_script as variables\n",
    "print(variables.c)\n",
    "\n",
    "# Si queremos acceder rutas en otras partes del ordenador, hay que añadirlas a sys.path\n",
    "sys.path.append('C:/Users/Daney/Desktop/direc_tercero')\n",
    "sys.path\n",
    "\n",
    "# Por otro lado, tenemos las librerías del estandar de Python\n",
    "import math\n",
    "math.sqrt(36)\n",
    "\n",
    "# O librerias de terceros que podrás instalar mediante un pip install libreria, en un Prompt de Anaconda.\n",
    "import wget"
   ]
  },
  {
   "cell_type": "code",
   "execution_count": null,
   "metadata": {},
   "outputs": [],
   "source": [
    "# https://towardsdatascience.com/dont-use-python-os-library-any-more-when-pathlib-can-do-141fefb6bdb5"
   ]
  },
  {
   "cell_type": "markdown",
   "metadata": {},
   "source": [
    "## 4. Aviso a Navegantes\n",
    "![imagen](img/EnriqueNavegante.jpg)\n",
    "\n",
    "Como hemos comentado en diversas ocasiones, Python es open source y gran parte de su potencia reside en la amplia gama de librerias a dispoción de todo el mundo de forma gratuita. No obstante: ¡nada es gratis!\n",
    "\n",
    "El inconveniente de la utilización de librerias gratuitas que se producen de manera descentralizada es que no existe una coordinación entre los diversos códigos, librerias, versiones, actualizaciones... por ello, es muy frecuente que diversas librerias de Python dejen de ser compatibles entre sí cuando las versiones cambian y sea complicado mantener el código.\n",
    "\n",
    "Por ello, se recomienda crear un environment de Python para cada proyecto de envergadura que realices. Consiste en utilizar una versión de python \"como recién instalada\" para cada proyecto, con las librerias y versiones que funcionan para ese proyecto.\n",
    "\n",
    "De tal forma, si tu proyecto1 sólo funciona bien con la libreria pandas v1.0 en Python 3.9 y tu proyecto2 exige la libreria pandas v1.2 en Python 3.12, tendrás dos environment: uno para cada proyecto: env1 para proyecto1 con la libreria pandas v1.0 en Python 3.9 y env2 con la libreria pandas v1.2 en Python 3.12\n",
    "\n",
    "[Virtual Environment](https://docs.python.org/3/library/venv.html)"
   ]
  }
 ],
 "metadata": {
  "kernelspec": {
   "display_name": "este",
   "language": "python",
   "name": "python3"
  },
  "language_info": {
   "codemirror_mode": {
    "name": "ipython",
    "version": 3
   },
   "file_extension": ".py",
   "mimetype": "text/x-python",
   "name": "python",
   "nbconvert_exporter": "python",
   "pygments_lexer": "ipython3",
   "version": "3.10.8"
  },
  "nbTranslate": {
   "displayLangs": [
    "*"
   ],
   "hotkey": "alt-t",
   "langInMainMenu": true,
   "sourceLang": "en",
   "targetLang": "fr",
   "useGoogleTranslate": true
  },
  "varInspector": {
   "cols": {
    "lenName": 16,
    "lenType": 16,
    "lenVar": 40
   },
   "kernels_config": {
    "python": {
     "delete_cmd_postfix": "",
     "delete_cmd_prefix": "del ",
     "library": "var_list.py",
     "varRefreshCmd": "print(var_dic_list())"
    },
    "r": {
     "delete_cmd_postfix": ") ",
     "delete_cmd_prefix": "rm(",
     "library": "var_list.r",
     "varRefreshCmd": "cat(var_dic_list()) "
    }
   },
   "types_to_exclude": [
    "module",
    "function",
    "builtin_function_or_method",
    "instance",
    "_Feature"
   ],
   "window_display": false
  },
  "vscode": {
   "interpreter": {
    "hash": "a2096eed11e660c16a57aa22341844f97628d296d9189b003c816b71548c0c9d"
   }
  }
 },
 "nbformat": 4,
 "nbformat_minor": 4
}

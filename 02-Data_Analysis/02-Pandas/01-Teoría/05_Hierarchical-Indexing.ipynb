{
 "cells": [
  {
   "cell_type": "markdown",
   "metadata": {},
   "source": [
    "# Indexación jerárquica"
   ]
  },
  {
   "cell_type": "markdown",
   "metadata": {
    "deletable": true,
    "editable": true
   },
   "source": [
    "Hasta ahora nos hemos centrado principalmente en datos unidimensionales y bidimensionales, almacenados en objetos Pandas ``Series`` y ``DataFrame``, respectivamente.\n",
    "A menudo es útil ir más allá y almacenar datos de mayor dimensión, es decir, datos indexados por más de una o dos claves.\n",
    "\n",
    "Aunque Pandas proporciona objetos ``Panel`` y ``Panel4D`` que manejan de forma nativa datos tridimensionales y cuatridimensionales, un patrón mucho más común en la práctica es hacer uso de la *indización jerárquica* (también conocida como *multiindización*) para incorporar múltiples *niveles de índice* dentro de un único índice.\n",
    "De este modo, los datos de mayor dimensión pueden representarse de forma compacta dentro de los conocidos objetos unidimensionales ``Series`` y bidimensionales ``DataFrame``.\n",
    "\n",
    "En esta sección, exploraremos la creación directa de objetos ``MultiIndex``, las consideraciones a tener en cuenta a la hora de indexar, trocear y calcular estadísticas a través de datos indexados de forma múltiple, y rutinas útiles para convertir entre representaciones simples y jerárquicamente indexadas de tus datos.\n",
    "\n",
    "Comenzaremos con las importaciones estándar:"
   ]
  },
  {
   "cell_type": "code",
   "execution_count": 1,
   "metadata": {
    "deletable": true,
    "editable": true
   },
   "outputs": [],
   "source": [
    "import pandas as pd\n",
    "import numpy as np"
   ]
  },
  {
   "cell_type": "markdown",
   "metadata": {
    "deletable": true,
    "editable": true
   },
   "source": [
    "## A Multiply Indexed Series\n",
    "\n",
    "Empecemos por considerar cómo podríamos representar datos bidimensionales dentro de una ``Serie`` unidimensional.\n",
    "Para concretar, consideraremos una serie de datos donde cada punto tiene un carácter y una clave numérica."
   ]
  },
  {
   "cell_type": "markdown",
   "metadata": {
    "deletable": true,
    "editable": true
   },
   "source": [
    "### The bad way\n",
    "\n",
    "Supongamos que quieres rastrear datos sobre estados de dos años diferentes.\n",
    "Usando las herramientas de Pandas que ya hemos cubierto, podrías estar tentado a usar simplemente tuplas de Python como claves:"
   ]
  },
  {
   "cell_type": "code",
   "execution_count": 2,
   "metadata": {
    "collapsed": false,
    "deletable": true,
    "editable": true,
    "jupyter": {
     "outputs_hidden": false
    }
   },
   "outputs": [
    {
     "data": {
      "text/plain": [
       "(California, 2000)    33871648\n",
       "(California, 2010)    37253956\n",
       "(New York, 2000)      18976457\n",
       "(New York, 2010)      19378102\n",
       "(Texas, 2000)         20851820\n",
       "(Texas, 2010)         25145561\n",
       "dtype: int64"
      ]
     },
     "execution_count": 2,
     "metadata": {},
     "output_type": "execute_result"
    }
   ],
   "source": [
    "index = [('California', 2000), ('California', 2010),\n",
    "         ('New York', 2000), ('New York', 2010),\n",
    "         ('Texas', 2000), ('Texas', 2010)]\n",
    "populations = [33871648, 37253956,\n",
    "               18976457, 19378102,\n",
    "               20851820, 25145561]\n",
    "pop = pd.Series(populations, index=index)\n",
    "pop"
   ]
  },
  {
   "cell_type": "markdown",
   "metadata": {
    "deletable": true,
    "editable": true
   },
   "source": [
    "Con este esquema de indexación, puede indexar o trocear directamente las series basándose en este índice múltiple:"
   ]
  },
  {
   "cell_type": "code",
   "execution_count": 3,
   "metadata": {
    "collapsed": false,
    "deletable": true,
    "editable": true,
    "jupyter": {
     "outputs_hidden": false
    }
   },
   "outputs": [
    {
     "data": {
      "text/plain": [
       "(California, 2010)    37253956\n",
       "(New York, 2000)      18976457\n",
       "(New York, 2010)      19378102\n",
       "(Texas, 2000)         20851820\n",
       "dtype: int64"
      ]
     },
     "execution_count": 3,
     "metadata": {},
     "output_type": "execute_result"
    }
   ],
   "source": [
    "pop[('California', 2010):('Texas', 2000)]"
   ]
  },
  {
   "cell_type": "markdown",
   "metadata": {
    "deletable": true,
    "editable": true
   },
   "source": [
    "Pero la comodidad termina ahí. Por ejemplo, si necesitas seleccionar todos los valores a partir de 2010, tendrás que hacer algunas operaciones complicadas (y potencialmente lentas) para conseguirlo:"
   ]
  },
  {
   "cell_type": "code",
   "execution_count": 4,
   "metadata": {
    "collapsed": false,
    "deletable": true,
    "editable": true,
    "jupyter": {
     "outputs_hidden": false
    }
   },
   "outputs": [
    {
     "data": {
      "text/plain": [
       "(California, 2010)    37253956\n",
       "(New York, 2010)      19378102\n",
       "(Texas, 2010)         25145561\n",
       "dtype: int64"
      ]
     },
     "execution_count": 4,
     "metadata": {},
     "output_type": "execute_result"
    }
   ],
   "source": [
    "pop[[i for i in pop.index if i[1] == 2010]]"
   ]
  },
  {
   "cell_type": "markdown",
   "metadata": {
    "deletable": true,
    "editable": true
   },
   "source": [
    "Esto produce el resultado deseado, pero no es tan limpio (o tan eficiente para grandes conjuntos de datos) como la sintaxis de corte que tanto nos gusta en Pandas."
   ]
  },
  {
   "cell_type": "markdown",
   "metadata": {
    "deletable": true,
    "editable": true
   },
   "source": [
    "### The Better Way: Pandas MultiIndex\n",
    "Afortunadamente, Pandas proporciona una forma mejor.\n",
    "Nuestra indexación basada en tuplas es esencialmente un multiíndice rudimentario, y el tipo ``MultiIndex`` de Pandas nos proporciona el tipo de operaciones que deseamos tener.\n",
    "Podemos crear un multiíndice a partir de las tuplas de la siguiente manera:"
   ]
  },
  {
   "cell_type": "code",
   "execution_count": 5,
   "metadata": {
    "collapsed": false,
    "deletable": true,
    "editable": true,
    "jupyter": {
     "outputs_hidden": false
    }
   },
   "outputs": [
    {
     "data": {
      "text/plain": [
       "MultiIndex([('California', 2000),\n",
       "            ('California', 2010),\n",
       "            (  'New York', 2000),\n",
       "            (  'New York', 2010),\n",
       "            (     'Texas', 2000),\n",
       "            (     'Texas', 2010)],\n",
       "           )"
      ]
     },
     "execution_count": 5,
     "metadata": {},
     "output_type": "execute_result"
    }
   ],
   "source": [
    "index = pd.MultiIndex.from_tuples(index)\n",
    "index"
   ]
  },
  {
   "cell_type": "markdown",
   "metadata": {
    "deletable": true,
    "editable": true
   },
   "source": [
    "Observe que ``MultiIndex`` contiene varios *niveles* de indexación, en este caso, los nombres de los estados y los años, así como varias *etiquetas* para cada punto de datos que codifican estos niveles.\n",
    "\n",
    "Si volvemos a indexar nuestra serie con este ``MultiIndex``, veremos la representación jerárquica de los datos:"
   ]
  },
  {
   "cell_type": "code",
   "execution_count": 6,
   "metadata": {
    "collapsed": false,
    "deletable": true,
    "editable": true,
    "jupyter": {
     "outputs_hidden": false
    }
   },
   "outputs": [
    {
     "data": {
      "text/plain": [
       "California  2000    33871648\n",
       "            2010    37253956\n",
       "New York    2000    18976457\n",
       "            2010    19378102\n",
       "Texas       2000    20851820\n",
       "            2010    25145561\n",
       "dtype: int64"
      ]
     },
     "execution_count": 6,
     "metadata": {},
     "output_type": "execute_result"
    }
   ],
   "source": [
    "pop = pop.reindex(index)\n",
    "pop"
   ]
  },
  {
   "cell_type": "markdown",
   "metadata": {
    "deletable": true,
    "editable": true
   },
   "source": [
    "Aquí, las dos primeras columnas de la representación ``Series`` muestran los valores de los índices múltiples, mientras que la tercera columna muestra los datos..\n",
    "\n",
    "Observe que faltan algunas entradas en la primera columna: en esta representación de índices múltiples, cualquier entrada en blanco indica el mismo valor que la línea situada encima."
   ]
  },
  {
   "cell_type": "markdown",
   "metadata": {
    "deletable": true,
    "editable": true
   },
   "source": [
    "Ahora, para acceder a todos los datos para los que el segundo índice es 2010, podemos simplemente utilizar la notación de Pandas slicing:"
   ]
  },
  {
   "cell_type": "code",
   "execution_count": 7,
   "metadata": {
    "collapsed": false,
    "deletable": true,
    "editable": true,
    "jupyter": {
     "outputs_hidden": false
    }
   },
   "outputs": [
    {
     "data": {
      "text/plain": [
       "California    37253956\n",
       "New York      19378102\n",
       "Texas         25145561\n",
       "dtype: int64"
      ]
     },
     "execution_count": 7,
     "metadata": {},
     "output_type": "execute_result"
    }
   ],
   "source": [
    "pop[:, 2010]"
   ]
  },
  {
   "cell_type": "code",
   "execution_count": 5,
   "metadata": {},
   "outputs": [],
   "source": [
    "# Ejemplo real: Población de Cuenca\n",
    "cuenca = pd.read_csv(\"data/cuenca.csv\", dtype={\"Total\":str})\n"
   ]
  },
  {
   "cell_type": "code",
   "execution_count": 107,
   "metadata": {},
   "outputs": [],
   "source": [
    "cuenca_original = pd.read_csv(\"data/cuenca.csv\", dtype={\"Total\":str})"
   ]
  },
  {
   "cell_type": "code",
   "execution_count": 42,
   "metadata": {},
   "outputs": [
    {
     "data": {
      "text/html": [
       "<div>\n",
       "<style scoped>\n",
       "    .dataframe tbody tr th:only-of-type {\n",
       "        vertical-align: middle;\n",
       "    }\n",
       "\n",
       "    .dataframe tbody tr th {\n",
       "        vertical-align: top;\n",
       "    }\n",
       "\n",
       "    .dataframe thead th {\n",
       "        text-align: right;\n",
       "    }\n",
       "</style>\n",
       "<table border=\"1\" class=\"dataframe\">\n",
       "  <thead>\n",
       "    <tr style=\"text-align: right;\">\n",
       "      <th></th>\n",
       "      <th>municipios</th>\n",
       "      <th>sexo</th>\n",
       "      <th>anno</th>\n",
       "      <th>total</th>\n",
       "    </tr>\n",
       "  </thead>\n",
       "  <tbody>\n",
       "    <tr>\n",
       "      <th>0</th>\n",
       "      <td>16</td>\n",
       "      <td>Total</td>\n",
       "      <td>2023</td>\n",
       "      <td>197139.0</td>\n",
       "    </tr>\n",
       "    <tr>\n",
       "      <th>1</th>\n",
       "      <td>16</td>\n",
       "      <td>Total</td>\n",
       "      <td>2022</td>\n",
       "      <td>195215.0</td>\n",
       "    </tr>\n",
       "    <tr>\n",
       "      <th>2</th>\n",
       "      <td>16</td>\n",
       "      <td>Total</td>\n",
       "      <td>2021</td>\n",
       "      <td>195516.0</td>\n",
       "    </tr>\n",
       "    <tr>\n",
       "      <th>3</th>\n",
       "      <td>16</td>\n",
       "      <td>Total</td>\n",
       "      <td>2020</td>\n",
       "      <td>196139.0</td>\n",
       "    </tr>\n",
       "    <tr>\n",
       "      <th>4</th>\n",
       "      <td>16</td>\n",
       "      <td>Total</td>\n",
       "      <td>2019</td>\n",
       "      <td>196329.0</td>\n",
       "    </tr>\n",
       "    <tr>\n",
       "      <th>5</th>\n",
       "      <td>16</td>\n",
       "      <td>Total</td>\n",
       "      <td>2018</td>\n",
       "      <td>197222.0</td>\n",
       "    </tr>\n",
       "    <tr>\n",
       "      <th>6</th>\n",
       "      <td>16</td>\n",
       "      <td>Total</td>\n",
       "      <td>2017</td>\n",
       "      <td>198718.0</td>\n",
       "    </tr>\n",
       "    <tr>\n",
       "      <th>7</th>\n",
       "      <td>16</td>\n",
       "      <td>Total</td>\n",
       "      <td>2016</td>\n",
       "      <td>201071.0</td>\n",
       "    </tr>\n",
       "    <tr>\n",
       "      <th>8</th>\n",
       "      <td>16</td>\n",
       "      <td>Total</td>\n",
       "      <td>2015</td>\n",
       "      <td>203841.0</td>\n",
       "    </tr>\n",
       "    <tr>\n",
       "      <th>9</th>\n",
       "      <td>16</td>\n",
       "      <td>Total</td>\n",
       "      <td>2014</td>\n",
       "      <td>207449.0</td>\n",
       "    </tr>\n",
       "    <tr>\n",
       "      <th>10</th>\n",
       "      <td>16</td>\n",
       "      <td>Total</td>\n",
       "      <td>2013</td>\n",
       "      <td>211899.0</td>\n",
       "    </tr>\n",
       "    <tr>\n",
       "      <th>11</th>\n",
       "      <td>16</td>\n",
       "      <td>Total</td>\n",
       "      <td>2012</td>\n",
       "      <td>218036.0</td>\n",
       "    </tr>\n",
       "    <tr>\n",
       "      <th>12</th>\n",
       "      <td>16</td>\n",
       "      <td>Total</td>\n",
       "      <td>2011</td>\n",
       "      <td>219138.0</td>\n",
       "    </tr>\n",
       "    <tr>\n",
       "      <th>13</th>\n",
       "      <td>16</td>\n",
       "      <td>Total</td>\n",
       "      <td>2010</td>\n",
       "      <td>217716.0</td>\n",
       "    </tr>\n",
       "    <tr>\n",
       "      <th>14</th>\n",
       "      <td>16</td>\n",
       "      <td>Total</td>\n",
       "      <td>2009</td>\n",
       "      <td>217363.0</td>\n",
       "    </tr>\n",
       "    <tr>\n",
       "      <th>15</th>\n",
       "      <td>16</td>\n",
       "      <td>Total</td>\n",
       "      <td>2008</td>\n",
       "      <td>215274.0</td>\n",
       "    </tr>\n",
       "    <tr>\n",
       "      <th>16</th>\n",
       "      <td>16</td>\n",
       "      <td>Total</td>\n",
       "      <td>2007</td>\n",
       "      <td>211375.0</td>\n",
       "    </tr>\n",
       "    <tr>\n",
       "      <th>17</th>\n",
       "      <td>16</td>\n",
       "      <td>Total</td>\n",
       "      <td>2006</td>\n",
       "      <td>208616.0</td>\n",
       "    </tr>\n",
       "    <tr>\n",
       "      <th>18</th>\n",
       "      <td>16</td>\n",
       "      <td>Total</td>\n",
       "      <td>2005</td>\n",
       "      <td>207974.0</td>\n",
       "    </tr>\n",
       "    <tr>\n",
       "      <th>19</th>\n",
       "      <td>16</td>\n",
       "      <td>Total</td>\n",
       "      <td>2004</td>\n",
       "      <td>204546.0</td>\n",
       "    </tr>\n",
       "    <tr>\n",
       "      <th>20</th>\n",
       "      <td>16</td>\n",
       "      <td>Total</td>\n",
       "      <td>2003</td>\n",
       "      <td>202982.0</td>\n",
       "    </tr>\n",
       "    <tr>\n",
       "      <th>21</th>\n",
       "      <td>16</td>\n",
       "      <td>Total</td>\n",
       "      <td>2002</td>\n",
       "      <td>201614.0</td>\n",
       "    </tr>\n",
       "    <tr>\n",
       "      <th>22</th>\n",
       "      <td>16</td>\n",
       "      <td>Total</td>\n",
       "      <td>2001</td>\n",
       "      <td>201526.0</td>\n",
       "    </tr>\n",
       "    <tr>\n",
       "      <th>23</th>\n",
       "      <td>16</td>\n",
       "      <td>Total</td>\n",
       "      <td>2000</td>\n",
       "      <td>201053.0</td>\n",
       "    </tr>\n",
       "    <tr>\n",
       "      <th>24</th>\n",
       "      <td>16</td>\n",
       "      <td>Total</td>\n",
       "      <td>1999</td>\n",
       "      <td>200963.0</td>\n",
       "    </tr>\n",
       "    <tr>\n",
       "      <th>25</th>\n",
       "      <td>16</td>\n",
       "      <td>Total</td>\n",
       "      <td>1998</td>\n",
       "      <td>199086.0</td>\n",
       "    </tr>\n",
       "    <tr>\n",
       "      <th>26</th>\n",
       "      <td>16</td>\n",
       "      <td>Total</td>\n",
       "      <td>1997</td>\n",
       "      <td>NaN</td>\n",
       "    </tr>\n",
       "    <tr>\n",
       "      <th>27</th>\n",
       "      <td>16</td>\n",
       "      <td>Total</td>\n",
       "      <td>1996</td>\n",
       "      <td>201712.0</td>\n",
       "    </tr>\n",
       "    <tr>\n",
       "      <th>28</th>\n",
       "      <td>16</td>\n",
       "      <td>Hombres</td>\n",
       "      <td>2023</td>\n",
       "      <td>99137.0</td>\n",
       "    </tr>\n",
       "    <tr>\n",
       "      <th>29</th>\n",
       "      <td>16</td>\n",
       "      <td>Hombres</td>\n",
       "      <td>2022</td>\n",
       "      <td>98029.0</td>\n",
       "    </tr>\n",
       "    <tr>\n",
       "      <th>30</th>\n",
       "      <td>16</td>\n",
       "      <td>Hombres</td>\n",
       "      <td>2021</td>\n",
       "      <td>98118.0</td>\n",
       "    </tr>\n",
       "    <tr>\n",
       "      <th>31</th>\n",
       "      <td>16</td>\n",
       "      <td>Hombres</td>\n",
       "      <td>2020</td>\n",
       "      <td>9843.0</td>\n",
       "    </tr>\n",
       "    <tr>\n",
       "      <th>32</th>\n",
       "      <td>16</td>\n",
       "      <td>Hombres</td>\n",
       "      <td>2019</td>\n",
       "      <td>98542.0</td>\n",
       "    </tr>\n",
       "    <tr>\n",
       "      <th>33</th>\n",
       "      <td>16</td>\n",
       "      <td>Hombres</td>\n",
       "      <td>2018</td>\n",
       "      <td>98999.0</td>\n",
       "    </tr>\n",
       "    <tr>\n",
       "      <th>34</th>\n",
       "      <td>16</td>\n",
       "      <td>Hombres</td>\n",
       "      <td>2017</td>\n",
       "      <td>99821.0</td>\n",
       "    </tr>\n",
       "    <tr>\n",
       "      <th>35</th>\n",
       "      <td>16</td>\n",
       "      <td>Hombres</td>\n",
       "      <td>2016</td>\n",
       "      <td>101097.0</td>\n",
       "    </tr>\n",
       "    <tr>\n",
       "      <th>36</th>\n",
       "      <td>16</td>\n",
       "      <td>Hombres</td>\n",
       "      <td>2015</td>\n",
       "      <td>102583.0</td>\n",
       "    </tr>\n",
       "    <tr>\n",
       "      <th>37</th>\n",
       "      <td>16</td>\n",
       "      <td>Hombres</td>\n",
       "      <td>2014</td>\n",
       "      <td>104586.0</td>\n",
       "    </tr>\n",
       "    <tr>\n",
       "      <th>38</th>\n",
       "      <td>16</td>\n",
       "      <td>Hombres</td>\n",
       "      <td>2013</td>\n",
       "      <td>107111.0</td>\n",
       "    </tr>\n",
       "    <tr>\n",
       "      <th>39</th>\n",
       "      <td>16</td>\n",
       "      <td>Hombres</td>\n",
       "      <td>2012</td>\n",
       "      <td>11046.0</td>\n",
       "    </tr>\n",
       "    <tr>\n",
       "      <th>40</th>\n",
       "      <td>16</td>\n",
       "      <td>Hombres</td>\n",
       "      <td>2011</td>\n",
       "      <td>111052.0</td>\n",
       "    </tr>\n",
       "    <tr>\n",
       "      <th>41</th>\n",
       "      <td>16</td>\n",
       "      <td>Hombres</td>\n",
       "      <td>2010</td>\n",
       "      <td>110384.0</td>\n",
       "    </tr>\n",
       "    <tr>\n",
       "      <th>42</th>\n",
       "      <td>16</td>\n",
       "      <td>Hombres</td>\n",
       "      <td>2009</td>\n",
       "      <td>110282.0</td>\n",
       "    </tr>\n",
       "    <tr>\n",
       "      <th>43</th>\n",
       "      <td>16</td>\n",
       "      <td>Hombres</td>\n",
       "      <td>2008</td>\n",
       "      <td>109058.0</td>\n",
       "    </tr>\n",
       "    <tr>\n",
       "      <th>44</th>\n",
       "      <td>16</td>\n",
       "      <td>Hombres</td>\n",
       "      <td>2007</td>\n",
       "      <td>106633.0</td>\n",
       "    </tr>\n",
       "    <tr>\n",
       "      <th>45</th>\n",
       "      <td>16</td>\n",
       "      <td>Hombres</td>\n",
       "      <td>2006</td>\n",
       "      <td>105068.0</td>\n",
       "    </tr>\n",
       "    <tr>\n",
       "      <th>46</th>\n",
       "      <td>16</td>\n",
       "      <td>Hombres</td>\n",
       "      <td>2005</td>\n",
       "      <td>104912.0</td>\n",
       "    </tr>\n",
       "    <tr>\n",
       "      <th>47</th>\n",
       "      <td>16</td>\n",
       "      <td>Hombres</td>\n",
       "      <td>2004</td>\n",
       "      <td>102947.0</td>\n",
       "    </tr>\n",
       "    <tr>\n",
       "      <th>48</th>\n",
       "      <td>16</td>\n",
       "      <td>Hombres</td>\n",
       "      <td>2003</td>\n",
       "      <td>10204.0</td>\n",
       "    </tr>\n",
       "    <tr>\n",
       "      <th>49</th>\n",
       "      <td>16</td>\n",
       "      <td>Hombres</td>\n",
       "      <td>2002</td>\n",
       "      <td>101048.0</td>\n",
       "    </tr>\n",
       "  </tbody>\n",
       "</table>\n",
       "</div>"
      ],
      "text/plain": [
       "    municipios     sexo  anno     total\n",
       "0           16    Total  2023  197139.0\n",
       "1           16    Total  2022  195215.0\n",
       "2           16    Total  2021  195516.0\n",
       "3           16    Total  2020  196139.0\n",
       "4           16    Total  2019  196329.0\n",
       "5           16    Total  2018  197222.0\n",
       "6           16    Total  2017  198718.0\n",
       "7           16    Total  2016  201071.0\n",
       "8           16    Total  2015  203841.0\n",
       "9           16    Total  2014  207449.0\n",
       "10          16    Total  2013  211899.0\n",
       "11          16    Total  2012  218036.0\n",
       "12          16    Total  2011  219138.0\n",
       "13          16    Total  2010  217716.0\n",
       "14          16    Total  2009  217363.0\n",
       "15          16    Total  2008  215274.0\n",
       "16          16    Total  2007  211375.0\n",
       "17          16    Total  2006  208616.0\n",
       "18          16    Total  2005  207974.0\n",
       "19          16    Total  2004  204546.0\n",
       "20          16    Total  2003  202982.0\n",
       "21          16    Total  2002  201614.0\n",
       "22          16    Total  2001  201526.0\n",
       "23          16    Total  2000  201053.0\n",
       "24          16    Total  1999  200963.0\n",
       "25          16    Total  1998  199086.0\n",
       "26          16    Total  1997       NaN\n",
       "27          16    Total  1996  201712.0\n",
       "28          16  Hombres  2023   99137.0\n",
       "29          16  Hombres  2022   98029.0\n",
       "30          16  Hombres  2021   98118.0\n",
       "31          16  Hombres  2020    9843.0\n",
       "32          16  Hombres  2019   98542.0\n",
       "33          16  Hombres  2018   98999.0\n",
       "34          16  Hombres  2017   99821.0\n",
       "35          16  Hombres  2016  101097.0\n",
       "36          16  Hombres  2015  102583.0\n",
       "37          16  Hombres  2014  104586.0\n",
       "38          16  Hombres  2013  107111.0\n",
       "39          16  Hombres  2012   11046.0\n",
       "40          16  Hombres  2011  111052.0\n",
       "41          16  Hombres  2010  110384.0\n",
       "42          16  Hombres  2009  110282.0\n",
       "43          16  Hombres  2008  109058.0\n",
       "44          16  Hombres  2007  106633.0\n",
       "45          16  Hombres  2006  105068.0\n",
       "46          16  Hombres  2005  104912.0\n",
       "47          16  Hombres  2004  102947.0\n",
       "48          16  Hombres  2003   10204.0\n",
       "49          16  Hombres  2002  101048.0"
      ]
     },
     "execution_count": 42,
     "metadata": {},
     "output_type": "execute_result"
    }
   ],
   "source": [
    "cuenca.head(50)"
   ]
  },
  {
   "cell_type": "code",
   "execution_count": 6,
   "metadata": {},
   "outputs": [
    {
     "data": {
      "text/html": [
       "<div>\n",
       "<style scoped>\n",
       "    .dataframe tbody tr th:only-of-type {\n",
       "        vertical-align: middle;\n",
       "    }\n",
       "\n",
       "    .dataframe tbody tr th {\n",
       "        vertical-align: top;\n",
       "    }\n",
       "\n",
       "    .dataframe thead th {\n",
       "        text-align: right;\n",
       "    }\n",
       "</style>\n",
       "<table border=\"1\" class=\"dataframe\">\n",
       "  <thead>\n",
       "    <tr style=\"text-align: right;\">\n",
       "      <th></th>\n",
       "      <th>Municipios</th>\n",
       "      <th>Sexo</th>\n",
       "      <th>Periodo</th>\n",
       "      <th>Total</th>\n",
       "    </tr>\n",
       "  </thead>\n",
       "  <tbody>\n",
       "    <tr>\n",
       "      <th>0</th>\n",
       "      <td>16</td>\n",
       "      <td>Total</td>\n",
       "      <td>2023</td>\n",
       "      <td>197.139</td>\n",
       "    </tr>\n",
       "    <tr>\n",
       "      <th>1</th>\n",
       "      <td>16</td>\n",
       "      <td>Total</td>\n",
       "      <td>2022</td>\n",
       "      <td>195.215</td>\n",
       "    </tr>\n",
       "    <tr>\n",
       "      <th>2</th>\n",
       "      <td>16</td>\n",
       "      <td>Total</td>\n",
       "      <td>2021</td>\n",
       "      <td>195.516</td>\n",
       "    </tr>\n",
       "    <tr>\n",
       "      <th>3</th>\n",
       "      <td>16</td>\n",
       "      <td>Total</td>\n",
       "      <td>2020</td>\n",
       "      <td>196.139</td>\n",
       "    </tr>\n",
       "    <tr>\n",
       "      <th>4</th>\n",
       "      <td>16</td>\n",
       "      <td>Total</td>\n",
       "      <td>2019</td>\n",
       "      <td>196.329</td>\n",
       "    </tr>\n",
       "  </tbody>\n",
       "</table>\n",
       "</div>"
      ],
      "text/plain": [
       "   Municipios   Sexo  Periodo    Total\n",
       "0          16  Total     2023  197.139\n",
       "1          16  Total     2022  195.215\n",
       "2          16  Total     2021  195.516\n",
       "3          16  Total     2020  196.139\n",
       "4          16  Total     2019  196.329"
      ]
     },
     "execution_count": 6,
     "metadata": {},
     "output_type": "execute_result"
    }
   ],
   "source": [
    "cuenca.drop(columns=[\"Unnamed: 0\"], inplace = True,errors=\"ignore\")\n",
    "cuenca.head()"
   ]
  },
  {
   "cell_type": "code",
   "execution_count": 7,
   "metadata": {},
   "outputs": [],
   "source": [
    "cuenca.columns = [\"municipios\", \"sexo\", \"anno\", \"total\"]"
   ]
  },
  {
   "cell_type": "code",
   "execution_count": 8,
   "metadata": {},
   "outputs": [],
   "source": [
    "cuenca['total'] = cuenca['total'].str.replace(\".\", \"\").astype(float)"
   ]
  },
  {
   "cell_type": "code",
   "execution_count": 9,
   "metadata": {},
   "outputs": [
    {
     "data": {
      "text/html": [
       "<div>\n",
       "<style scoped>\n",
       "    .dataframe tbody tr th:only-of-type {\n",
       "        vertical-align: middle;\n",
       "    }\n",
       "\n",
       "    .dataframe tbody tr th {\n",
       "        vertical-align: top;\n",
       "    }\n",
       "\n",
       "    .dataframe thead th {\n",
       "        text-align: right;\n",
       "    }\n",
       "</style>\n",
       "<table border=\"1\" class=\"dataframe\">\n",
       "  <thead>\n",
       "    <tr style=\"text-align: right;\">\n",
       "      <th></th>\n",
       "      <th>municipios</th>\n",
       "      <th>sexo</th>\n",
       "      <th>anno</th>\n",
       "      <th>total</th>\n",
       "    </tr>\n",
       "  </thead>\n",
       "  <tbody>\n",
       "    <tr>\n",
       "      <th>0</th>\n",
       "      <td>16</td>\n",
       "      <td>Total</td>\n",
       "      <td>2023</td>\n",
       "      <td>197139.0</td>\n",
       "    </tr>\n",
       "    <tr>\n",
       "      <th>1</th>\n",
       "      <td>16</td>\n",
       "      <td>Total</td>\n",
       "      <td>2022</td>\n",
       "      <td>195215.0</td>\n",
       "    </tr>\n",
       "    <tr>\n",
       "      <th>2</th>\n",
       "      <td>16</td>\n",
       "      <td>Total</td>\n",
       "      <td>2021</td>\n",
       "      <td>195516.0</td>\n",
       "    </tr>\n",
       "    <tr>\n",
       "      <th>3</th>\n",
       "      <td>16</td>\n",
       "      <td>Total</td>\n",
       "      <td>2020</td>\n",
       "      <td>196139.0</td>\n",
       "    </tr>\n",
       "    <tr>\n",
       "      <th>4</th>\n",
       "      <td>16</td>\n",
       "      <td>Total</td>\n",
       "      <td>2019</td>\n",
       "      <td>196329.0</td>\n",
       "    </tr>\n",
       "  </tbody>\n",
       "</table>\n",
       "</div>"
      ],
      "text/plain": [
       "   municipios   sexo  anno     total\n",
       "0          16  Total  2023  197139.0\n",
       "1          16  Total  2022  195215.0\n",
       "2          16  Total  2021  195516.0\n",
       "3          16  Total  2020  196139.0\n",
       "4          16  Total  2019  196329.0"
      ]
     },
     "execution_count": 9,
     "metadata": {},
     "output_type": "execute_result"
    }
   ],
   "source": [
    "cuenca.head()"
   ]
  },
  {
   "cell_type": "code",
   "execution_count": 10,
   "metadata": {},
   "outputs": [],
   "source": [
    "cuenca = cuenca.set_index([\"municipios\", \"sexo\", \"anno\"])"
   ]
  },
  {
   "cell_type": "code",
   "execution_count": 11,
   "metadata": {},
   "outputs": [
    {
     "data": {
      "text/html": [
       "<div>\n",
       "<style scoped>\n",
       "    .dataframe tbody tr th:only-of-type {\n",
       "        vertical-align: middle;\n",
       "    }\n",
       "\n",
       "    .dataframe tbody tr th {\n",
       "        vertical-align: top;\n",
       "    }\n",
       "\n",
       "    .dataframe thead th {\n",
       "        text-align: right;\n",
       "    }\n",
       "</style>\n",
       "<table border=\"1\" class=\"dataframe\">\n",
       "  <thead>\n",
       "    <tr style=\"text-align: right;\">\n",
       "      <th></th>\n",
       "      <th></th>\n",
       "      <th></th>\n",
       "      <th>total</th>\n",
       "    </tr>\n",
       "    <tr>\n",
       "      <th>municipios</th>\n",
       "      <th>sexo</th>\n",
       "      <th>anno</th>\n",
       "      <th></th>\n",
       "    </tr>\n",
       "  </thead>\n",
       "  <tbody>\n",
       "    <tr>\n",
       "      <th rowspan=\"10\" valign=\"top\">16</th>\n",
       "      <th rowspan=\"10\" valign=\"top\">Total</th>\n",
       "      <th>2023</th>\n",
       "      <td>197139.0</td>\n",
       "    </tr>\n",
       "    <tr>\n",
       "      <th>2022</th>\n",
       "      <td>195215.0</td>\n",
       "    </tr>\n",
       "    <tr>\n",
       "      <th>2021</th>\n",
       "      <td>195516.0</td>\n",
       "    </tr>\n",
       "    <tr>\n",
       "      <th>2020</th>\n",
       "      <td>196139.0</td>\n",
       "    </tr>\n",
       "    <tr>\n",
       "      <th>2019</th>\n",
       "      <td>196329.0</td>\n",
       "    </tr>\n",
       "    <tr>\n",
       "      <th>2018</th>\n",
       "      <td>197222.0</td>\n",
       "    </tr>\n",
       "    <tr>\n",
       "      <th>2017</th>\n",
       "      <td>198718.0</td>\n",
       "    </tr>\n",
       "    <tr>\n",
       "      <th>2016</th>\n",
       "      <td>201071.0</td>\n",
       "    </tr>\n",
       "    <tr>\n",
       "      <th>2015</th>\n",
       "      <td>203841.0</td>\n",
       "    </tr>\n",
       "    <tr>\n",
       "      <th>2014</th>\n",
       "      <td>207449.0</td>\n",
       "    </tr>\n",
       "  </tbody>\n",
       "</table>\n",
       "</div>"
      ],
      "text/plain": [
       "                          total\n",
       "municipios sexo  anno          \n",
       "16         Total 2023  197139.0\n",
       "                 2022  195215.0\n",
       "                 2021  195516.0\n",
       "                 2020  196139.0\n",
       "                 2019  196329.0\n",
       "                 2018  197222.0\n",
       "                 2017  198718.0\n",
       "                 2016  201071.0\n",
       "                 2015  203841.0\n",
       "                 2014  207449.0"
      ]
     },
     "execution_count": 11,
     "metadata": {},
     "output_type": "execute_result"
    }
   ],
   "source": [
    "cuenca.head(10)"
   ]
  },
  {
   "cell_type": "code",
   "execution_count": 62,
   "metadata": {},
   "outputs": [
    {
     "data": {
      "text/html": [
       "<div>\n",
       "<style scoped>\n",
       "    .dataframe tbody tr th:only-of-type {\n",
       "        vertical-align: middle;\n",
       "    }\n",
       "\n",
       "    .dataframe tbody tr th {\n",
       "        vertical-align: top;\n",
       "    }\n",
       "\n",
       "    .dataframe thead th {\n",
       "        text-align: right;\n",
       "    }\n",
       "</style>\n",
       "<table border=\"1\" class=\"dataframe\">\n",
       "  <thead>\n",
       "    <tr style=\"text-align: right;\">\n",
       "      <th></th>\n",
       "      <th></th>\n",
       "      <th></th>\n",
       "      <th>total</th>\n",
       "    </tr>\n",
       "    <tr>\n",
       "      <th>municipios</th>\n",
       "      <th>sexo</th>\n",
       "      <th>anno</th>\n",
       "      <th></th>\n",
       "    </tr>\n",
       "  </thead>\n",
       "  <tbody>\n",
       "    <tr>\n",
       "      <th rowspan=\"10\" valign=\"top\">16280</th>\n",
       "      <th rowspan=\"10\" valign=\"top\">Mujeres</th>\n",
       "      <th>2005</th>\n",
       "      <td>1280.0</td>\n",
       "    </tr>\n",
       "    <tr>\n",
       "      <th>2004</th>\n",
       "      <td>1270.0</td>\n",
       "    </tr>\n",
       "    <tr>\n",
       "      <th>2003</th>\n",
       "      <td>1290.0</td>\n",
       "    </tr>\n",
       "    <tr>\n",
       "      <th>2002</th>\n",
       "      <td>1320.0</td>\n",
       "    </tr>\n",
       "    <tr>\n",
       "      <th>2001</th>\n",
       "      <td>1370.0</td>\n",
       "    </tr>\n",
       "    <tr>\n",
       "      <th>2000</th>\n",
       "      <td>1470.0</td>\n",
       "    </tr>\n",
       "    <tr>\n",
       "      <th>1999</th>\n",
       "      <td>1500.0</td>\n",
       "    </tr>\n",
       "    <tr>\n",
       "      <th>1998</th>\n",
       "      <td>1480.0</td>\n",
       "    </tr>\n",
       "    <tr>\n",
       "      <th>1997</th>\n",
       "      <td>NaN</td>\n",
       "    </tr>\n",
       "    <tr>\n",
       "      <th>1996</th>\n",
       "      <td>1530.0</td>\n",
       "    </tr>\n",
       "  </tbody>\n",
       "</table>\n",
       "</div>"
      ],
      "text/plain": [
       "                          total\n",
       "municipios sexo    anno        \n",
       "16280      Mujeres 2005  1280.0\n",
       "                   2004  1270.0\n",
       "                   2003  1290.0\n",
       "                   2002  1320.0\n",
       "                   2001  1370.0\n",
       "                   2000  1470.0\n",
       "                   1999  1500.0\n",
       "                   1998  1480.0\n",
       "                   1997     NaN\n",
       "                   1996  1530.0"
      ]
     },
     "execution_count": 62,
     "metadata": {},
     "output_type": "execute_result"
    }
   ],
   "source": [
    "cuenca.tail(10)"
   ]
  },
  {
   "cell_type": "code",
   "execution_count": 12,
   "metadata": {},
   "outputs": [],
   "source": [
    "cuenca_series = pd.Series(cuenca['total'])"
   ]
  },
  {
   "cell_type": "code",
   "execution_count": 76,
   "metadata": {},
   "outputs": [
    {
     "data": {
      "text/plain": [
       "municipios  sexo     anno\n",
       "16          Total    2023    197139.0\n",
       "                     2022    195215.0\n",
       "                     2021    195516.0\n",
       "                     2020    196139.0\n",
       "                     2019    196329.0\n",
       "                               ...   \n",
       "16280       Mujeres  2000      1470.0\n",
       "                     1999      1500.0\n",
       "                     1998      1480.0\n",
       "                     1997         NaN\n",
       "                     1996      1530.0\n",
       "Name: total, Length: 20076, dtype: float64"
      ]
     },
     "execution_count": 76,
     "metadata": {},
     "output_type": "execute_result"
    }
   ],
   "source": [
    "cuenca_series"
   ]
  },
  {
   "cell_type": "markdown",
   "metadata": {
    "deletable": true,
    "editable": true
   },
   "source": [
    "El resultado es un array indexado individualmente sólo con las claves que nos interesan.\n",
    "Esta sintaxis es mucho más cómoda (¡y la operación es mucho más eficiente!) que la solución casera de indexación múltiple basada en tuplas con la que empezamos.\n",
    "A continuación analizaremos este tipo de operaciones de indexación en datos indexados jerárquicamente."
   ]
  },
  {
   "cell_type": "markdown",
   "metadata": {
    "deletable": true,
    "editable": true
   },
   "source": [
    "### MultiIndex como dimensión extra\n",
    "\n",
    "Puedes notar algo más aquí: fácilmente podríamos haber almacenado los mismos datos usando un simple ``DataFrame`` con etiquetas de índice y columna.\n",
    "De hecho, Pandas está construido con esta equivalencia en mente. El método ``unstack()`` convertirá rápidamente una ``Serie`` con índices múltiples en un ``DataFrame`` con índices convencionales:"
   ]
  },
  {
   "cell_type": "code",
   "execution_count": 77,
   "metadata": {
    "collapsed": false,
    "deletable": true,
    "editable": true,
    "jupyter": {
     "outputs_hidden": false
    }
   },
   "outputs": [
    {
     "data": {
      "text/html": [
       "<div>\n",
       "<style scoped>\n",
       "    .dataframe tbody tr th:only-of-type {\n",
       "        vertical-align: middle;\n",
       "    }\n",
       "\n",
       "    .dataframe tbody tr th {\n",
       "        vertical-align: top;\n",
       "    }\n",
       "\n",
       "    .dataframe thead th {\n",
       "        text-align: right;\n",
       "    }\n",
       "</style>\n",
       "<table border=\"1\" class=\"dataframe\">\n",
       "  <thead>\n",
       "    <tr style=\"text-align: right;\">\n",
       "      <th></th>\n",
       "      <th>2000</th>\n",
       "      <th>2010</th>\n",
       "    </tr>\n",
       "  </thead>\n",
       "  <tbody>\n",
       "    <tr>\n",
       "      <th>California</th>\n",
       "      <td>33871648</td>\n",
       "      <td>37253956</td>\n",
       "    </tr>\n",
       "    <tr>\n",
       "      <th>New York</th>\n",
       "      <td>18976457</td>\n",
       "      <td>19378102</td>\n",
       "    </tr>\n",
       "    <tr>\n",
       "      <th>Texas</th>\n",
       "      <td>20851820</td>\n",
       "      <td>25145561</td>\n",
       "    </tr>\n",
       "  </tbody>\n",
       "</table>\n",
       "</div>"
      ],
      "text/plain": [
       "                2000      2010\n",
       "California  33871648  37253956\n",
       "New York    18976457  19378102\n",
       "Texas       20851820  25145561"
      ]
     },
     "execution_count": 77,
     "metadata": {},
     "output_type": "execute_result"
    }
   ],
   "source": [
    "pop_df = pop.unstack()\n",
    "pop_df"
   ]
  },
  {
   "cell_type": "code",
   "execution_count": 90,
   "metadata": {},
   "outputs": [],
   "source": [
    "# Poco conveniente para manejar\n",
    "cs_unstack = cuenca_series.unstack()"
   ]
  },
  {
   "cell_type": "markdown",
   "metadata": {
    "deletable": true,
    "editable": true
   },
   "source": [
    "Naturalmente, el método ``stack()`` proporciona la operación contraria:"
   ]
  },
  {
   "cell_type": "code",
   "execution_count": 87,
   "metadata": {
    "collapsed": false,
    "deletable": true,
    "editable": true,
    "jupyter": {
     "outputs_hidden": false
    }
   },
   "outputs": [
    {
     "data": {
      "text/plain": [
       "California  2000    33871648\n",
       "            2010    37253956\n",
       "New York    2000    18976457\n",
       "            2010    19378102\n",
       "Texas       2000    20851820\n",
       "            2010    25145561\n",
       "dtype: int64"
      ]
     },
     "execution_count": 87,
     "metadata": {},
     "output_type": "execute_result"
    }
   ],
   "source": [
    "pop_df.stack()"
   ]
  },
  {
   "cell_type": "code",
   "execution_count": 91,
   "metadata": {},
   "outputs": [
    {
     "data": {
      "text/plain": [
       "municipios  sexo     anno\n",
       "16          Hombres  1996    100387.0\n",
       "                     1998     99031.0\n",
       "                     1999    100088.0\n",
       "                     2000    100126.0\n",
       "                     2001     10063.0\n",
       "                               ...   \n",
       "16910       Total    2019       770.0\n",
       "                     2020       750.0\n",
       "                     2021       730.0\n",
       "                     2022       790.0\n",
       "                     2023       780.0\n",
       "Length: 19359, dtype: float64"
      ]
     },
     "execution_count": 91,
     "metadata": {},
     "output_type": "execute_result"
    }
   ],
   "source": [
    "cs_unstack.stack()"
   ]
  },
  {
   "cell_type": "markdown",
   "metadata": {
    "deletable": true,
    "editable": true
   },
   "source": [
    "Además, todas las ufuncs y otras funcionalidades discutidas en [Operating on Data in Pandas](03_Operations-in-Pandas.ipynb) funcionan también con índices jerárquicos.\n",
    "\n",
    "Aquí calculamos la fracción de personas menores de 18 años por año, dados los datos anteriores:"
   ]
  },
  {
   "cell_type": "code",
   "execution_count": 94,
   "metadata": {
    "collapsed": false,
    "deletable": true,
    "editable": true,
    "jupyter": {
     "outputs_hidden": false
    }
   },
   "outputs": [
    {
     "data": {
      "text/html": [
       "<div>\n",
       "<style scoped>\n",
       "    .dataframe tbody tr th:only-of-type {\n",
       "        vertical-align: middle;\n",
       "    }\n",
       "\n",
       "    .dataframe tbody tr th {\n",
       "        vertical-align: top;\n",
       "    }\n",
       "\n",
       "    .dataframe thead th {\n",
       "        text-align: right;\n",
       "    }\n",
       "</style>\n",
       "<table border=\"1\" class=\"dataframe\">\n",
       "  <thead>\n",
       "    <tr style=\"text-align: right;\">\n",
       "      <th></th>\n",
       "      <th>2000</th>\n",
       "      <th>2010</th>\n",
       "    </tr>\n",
       "  </thead>\n",
       "  <tbody>\n",
       "    <tr>\n",
       "      <th>California</th>\n",
       "      <td>0.273594</td>\n",
       "      <td>0.249211</td>\n",
       "    </tr>\n",
       "    <tr>\n",
       "      <th>New York</th>\n",
       "      <td>0.247010</td>\n",
       "      <td>0.222831</td>\n",
       "    </tr>\n",
       "    <tr>\n",
       "      <th>Texas</th>\n",
       "      <td>0.283251</td>\n",
       "      <td>0.273568</td>\n",
       "    </tr>\n",
       "  </tbody>\n",
       "</table>\n",
       "</div>"
      ],
      "text/plain": [
       "                2000      2010\n",
       "California  0.273594  0.249211\n",
       "New York    0.247010  0.222831\n",
       "Texas       0.283251  0.273568"
      ]
     },
     "execution_count": 94,
     "metadata": {},
     "output_type": "execute_result"
    }
   ],
   "source": [
    "f_u18 = pop_df['under18'] / pop_df['total']\n",
    "f_u18.unstack()"
   ]
  },
  {
   "cell_type": "code",
   "execution_count": 100,
   "metadata": {},
   "outputs": [],
   "source": [
    "cuenca['ciudad'] = cuenca['total'] > 10000"
   ]
  },
  {
   "cell_type": "code",
   "execution_count": 101,
   "metadata": {},
   "outputs": [
    {
     "data": {
      "text/html": [
       "<div>\n",
       "<style scoped>\n",
       "    .dataframe tbody tr th:only-of-type {\n",
       "        vertical-align: middle;\n",
       "    }\n",
       "\n",
       "    .dataframe tbody tr th {\n",
       "        vertical-align: top;\n",
       "    }\n",
       "\n",
       "    .dataframe thead th {\n",
       "        text-align: right;\n",
       "    }\n",
       "</style>\n",
       "<table border=\"1\" class=\"dataframe\">\n",
       "  <thead>\n",
       "    <tr style=\"text-align: right;\">\n",
       "      <th></th>\n",
       "      <th></th>\n",
       "      <th></th>\n",
       "      <th>total</th>\n",
       "      <th>total_miles</th>\n",
       "      <th>ciudad</th>\n",
       "    </tr>\n",
       "    <tr>\n",
       "      <th>municipios</th>\n",
       "      <th>sexo</th>\n",
       "      <th>anno</th>\n",
       "      <th></th>\n",
       "      <th></th>\n",
       "      <th></th>\n",
       "    </tr>\n",
       "  </thead>\n",
       "  <tbody>\n",
       "    <tr>\n",
       "      <th rowspan=\"5\" valign=\"top\">16</th>\n",
       "      <th rowspan=\"5\" valign=\"top\">Total</th>\n",
       "      <th>2023</th>\n",
       "      <td>197139.0</td>\n",
       "      <td>197.139</td>\n",
       "      <td>True</td>\n",
       "    </tr>\n",
       "    <tr>\n",
       "      <th>2022</th>\n",
       "      <td>195215.0</td>\n",
       "      <td>195.215</td>\n",
       "      <td>True</td>\n",
       "    </tr>\n",
       "    <tr>\n",
       "      <th>2021</th>\n",
       "      <td>195516.0</td>\n",
       "      <td>195.516</td>\n",
       "      <td>True</td>\n",
       "    </tr>\n",
       "    <tr>\n",
       "      <th>2020</th>\n",
       "      <td>196139.0</td>\n",
       "      <td>196.139</td>\n",
       "      <td>True</td>\n",
       "    </tr>\n",
       "    <tr>\n",
       "      <th>2019</th>\n",
       "      <td>196329.0</td>\n",
       "      <td>196.329</td>\n",
       "      <td>True</td>\n",
       "    </tr>\n",
       "  </tbody>\n",
       "</table>\n",
       "</div>"
      ],
      "text/plain": [
       "                          total  total_miles  ciudad\n",
       "municipios sexo  anno                               \n",
       "16         Total 2023  197139.0      197.139    True\n",
       "                 2022  195215.0      195.215    True\n",
       "                 2021  195516.0      195.516    True\n",
       "                 2020  196139.0      196.139    True\n",
       "                 2019  196329.0      196.329    True"
      ]
     },
     "execution_count": 101,
     "metadata": {},
     "output_type": "execute_result"
    }
   ],
   "source": [
    "cuenca.head()"
   ]
  },
  {
   "cell_type": "markdown",
   "metadata": {
    "deletable": true,
    "editable": true
   },
   "source": [
    "Esto nos permite manipular y explorar fácil y rápidamente incluso datos de alta dimensión."
   ]
  },
  {
   "cell_type": "markdown",
   "metadata": {
    "deletable": true,
    "editable": true
   },
   "source": [
    "## Métodos de creación de MultiIndex\n",
    "\n",
    "La forma más directa de construir una ``Serie`` o un ``DataFrame`` multiíndice es simplemente pasar una lista de dos o más matrices de índices al constructor. Por ejemplo"
   ]
  },
  {
   "cell_type": "code",
   "execution_count": 102,
   "metadata": {
    "collapsed": false,
    "deletable": true,
    "editable": true,
    "jupyter": {
     "outputs_hidden": false
    }
   },
   "outputs": [
    {
     "data": {
      "text/html": [
       "<div>\n",
       "<style scoped>\n",
       "    .dataframe tbody tr th:only-of-type {\n",
       "        vertical-align: middle;\n",
       "    }\n",
       "\n",
       "    .dataframe tbody tr th {\n",
       "        vertical-align: top;\n",
       "    }\n",
       "\n",
       "    .dataframe thead th {\n",
       "        text-align: right;\n",
       "    }\n",
       "</style>\n",
       "<table border=\"1\" class=\"dataframe\">\n",
       "  <thead>\n",
       "    <tr style=\"text-align: right;\">\n",
       "      <th></th>\n",
       "      <th></th>\n",
       "      <th>data1</th>\n",
       "      <th>data2</th>\n",
       "    </tr>\n",
       "  </thead>\n",
       "  <tbody>\n",
       "    <tr>\n",
       "      <th rowspan=\"2\" valign=\"top\">a</th>\n",
       "      <th>1</th>\n",
       "      <td>0.508632</td>\n",
       "      <td>0.560871</td>\n",
       "    </tr>\n",
       "    <tr>\n",
       "      <th>2</th>\n",
       "      <td>0.480996</td>\n",
       "      <td>0.990155</td>\n",
       "    </tr>\n",
       "    <tr>\n",
       "      <th rowspan=\"2\" valign=\"top\">b</th>\n",
       "      <th>1</th>\n",
       "      <td>0.178778</td>\n",
       "      <td>0.408270</td>\n",
       "    </tr>\n",
       "    <tr>\n",
       "      <th>2</th>\n",
       "      <td>0.965993</td>\n",
       "      <td>0.809896</td>\n",
       "    </tr>\n",
       "  </tbody>\n",
       "</table>\n",
       "</div>"
      ],
      "text/plain": [
       "        data1     data2\n",
       "a 1  0.508632  0.560871\n",
       "  2  0.480996  0.990155\n",
       "b 1  0.178778  0.408270\n",
       "  2  0.965993  0.809896"
      ]
     },
     "execution_count": 102,
     "metadata": {},
     "output_type": "execute_result"
    }
   ],
   "source": [
    "df = pd.DataFrame(np.random.rand(4, 2),\n",
    "                  index=[['a', 'a', 'b', 'b'], [1, 2, 1, 2]],\n",
    "                  columns=['data1', 'data2'])\n",
    "df"
   ]
  },
  {
   "cell_type": "markdown",
   "metadata": {
    "deletable": true,
    "editable": true
   },
   "source": [
    "El trabajo de creación del ``MultiIndex`` se realiza en segundo plano.\n",
    "\n",
    "Del mismo modo, si pasas un diccionario con tuplas apropiadas como claves, Pandas lo reconocerá automáticamente y usará un ``MultiIndex`` por defecto:"
   ]
  },
  {
   "cell_type": "code",
   "execution_count": 103,
   "metadata": {
    "collapsed": false,
    "deletable": true,
    "editable": true,
    "jupyter": {
     "outputs_hidden": false
    }
   },
   "outputs": [
    {
     "data": {
      "text/plain": [
       "California  2000    33871648\n",
       "            2010    37253956\n",
       "Texas       2000    20851820\n",
       "            2010    25145561\n",
       "New York    2000    18976457\n",
       "            2010    19378102\n",
       "dtype: int64"
      ]
     },
     "execution_count": 103,
     "metadata": {},
     "output_type": "execute_result"
    }
   ],
   "source": [
    "data = {('California', 2000): 33871648,\n",
    "        ('California', 2010): 37253956,\n",
    "        ('Texas', 2000): 20851820,\n",
    "        ('Texas', 2010): 25145561,\n",
    "        ('New York', 2000): 18976457,\n",
    "        ('New York', 2010): 19378102}\n",
    "pd.Series(data)"
   ]
  },
  {
   "cell_type": "markdown",
   "metadata": {
    "deletable": true,
    "editable": true
   },
   "source": [
    "Sin embargo, a veces es útil crear explícitamente un ``MultiIndex``; veremos un par de estos métodos aquí."
   ]
  },
  {
   "cell_type": "markdown",
   "metadata": {
    "deletable": true,
    "editable": true
   },
   "source": [
    "### Constructores explícitos MultiIndex\n",
    "\n",
    "Para una mayor flexibilidad en la construcción del índice, puedes utilizar los métodos constructores de la clase ``pd.MultiIndex``.\n",
    "Por ejemplo, como hicimos antes, puedes construir el ``MultiIndex`` a partir de una simple lista de arrays con los valores del índice dentro de cada nivel:"
   ]
  },
  {
   "cell_type": "code",
   "execution_count": null,
   "metadata": {
    "collapsed": false,
    "deletable": true,
    "editable": true,
    "jupyter": {
     "outputs_hidden": false
    }
   },
   "outputs": [],
   "source": [
    "pd.MultiIndex.from_arrays([['a', 'a', 'b', 'b'], [1, 2, 1, 2]])"
   ]
  },
  {
   "cell_type": "markdown",
   "metadata": {
    "deletable": true,
    "editable": true
   },
   "source": [
    "Se puede construir a partir de una lista de tuplas que den los valores de índice múltiple de cada punto:"
   ]
  },
  {
   "cell_type": "code",
   "execution_count": null,
   "metadata": {
    "collapsed": false,
    "deletable": true,
    "editable": true,
    "jupyter": {
     "outputs_hidden": false
    }
   },
   "outputs": [],
   "source": [
    "pd.MultiIndex.from_tuples([('a', 1), ('a', 2), ('b', 1), ('b', 2)])"
   ]
  },
  {
   "cell_type": "markdown",
   "metadata": {
    "deletable": true,
    "editable": true
   },
   "source": [
    "Incluso se puede construir a partir de un producto cartesiano de índices simples:"
   ]
  },
  {
   "cell_type": "code",
   "execution_count": null,
   "metadata": {
    "collapsed": false,
    "deletable": true,
    "editable": true,
    "jupyter": {
     "outputs_hidden": false
    }
   },
   "outputs": [],
   "source": [
    "pd.MultiIndex.from_product([['a', 'b'], [1, 2]])"
   ]
  },
  {
   "cell_type": "markdown",
   "metadata": {
    "deletable": true,
    "editable": true
   },
   "source": [
    "Del mismo modo, puedes construir el ``MultiIndex`` directamente utilizando su codificación interna pasando ``levels`` (una lista de listas que contienen los valores de índice disponibles para cada nivel) y ``codes`` (una lista de listas que hacen referencia a estas etiquetas):"
   ]
  },
  {
   "cell_type": "code",
   "execution_count": null,
   "metadata": {
    "collapsed": false,
    "deletable": true,
    "editable": true,
    "jupyter": {
     "outputs_hidden": false
    }
   },
   "outputs": [],
   "source": [
    "pd.MultiIndex(levels=[['a', 'b'], [1, 2]],\n",
    "              codes=[[0, 0, 1, 1], [0, 1, 0, 1]])"
   ]
  },
  {
   "cell_type": "markdown",
   "metadata": {
    "deletable": true,
    "editable": true
   },
   "source": [
    "Cualquiera de estos objetos puede pasarse como argumento ``index`` al crear una ``Series`` o un ``Dataframe``, o pasarse al método ``reindex`` de una ``Series`` o un ``DataFrame`` ya existentes."
   ]
  },
  {
   "cell_type": "markdown",
   "metadata": {},
   "source": [
    "Como lo más habitual es mediante la lectura de fuentes de datos externas, tenemos el método `set_index()`"
   ]
  },
  {
   "cell_type": "code",
   "execution_count": 109,
   "metadata": {},
   "outputs": [],
   "source": [
    "cuenca_original = pd.read_csv(\"data/cuenca.csv\", dtype={\"Total\":str})"
   ]
  },
  {
   "cell_type": "code",
   "execution_count": 111,
   "metadata": {},
   "outputs": [
    {
     "data": {
      "text/html": [
       "<div>\n",
       "<style scoped>\n",
       "    .dataframe tbody tr th:only-of-type {\n",
       "        vertical-align: middle;\n",
       "    }\n",
       "\n",
       "    .dataframe tbody tr th {\n",
       "        vertical-align: top;\n",
       "    }\n",
       "\n",
       "    .dataframe thead th {\n",
       "        text-align: right;\n",
       "    }\n",
       "</style>\n",
       "<table border=\"1\" class=\"dataframe\">\n",
       "  <thead>\n",
       "    <tr style=\"text-align: right;\">\n",
       "      <th></th>\n",
       "      <th>Unnamed: 0</th>\n",
       "      <th>Municipios</th>\n",
       "      <th>Sexo</th>\n",
       "      <th>Periodo</th>\n",
       "      <th>Total</th>\n",
       "    </tr>\n",
       "  </thead>\n",
       "  <tbody>\n",
       "    <tr>\n",
       "      <th>0</th>\n",
       "      <td>0</td>\n",
       "      <td>16</td>\n",
       "      <td>Total</td>\n",
       "      <td>2023</td>\n",
       "      <td>197.139</td>\n",
       "    </tr>\n",
       "    <tr>\n",
       "      <th>1</th>\n",
       "      <td>1</td>\n",
       "      <td>16</td>\n",
       "      <td>Total</td>\n",
       "      <td>2022</td>\n",
       "      <td>195.215</td>\n",
       "    </tr>\n",
       "    <tr>\n",
       "      <th>2</th>\n",
       "      <td>2</td>\n",
       "      <td>16</td>\n",
       "      <td>Total</td>\n",
       "      <td>2021</td>\n",
       "      <td>195.516</td>\n",
       "    </tr>\n",
       "    <tr>\n",
       "      <th>3</th>\n",
       "      <td>3</td>\n",
       "      <td>16</td>\n",
       "      <td>Total</td>\n",
       "      <td>2020</td>\n",
       "      <td>196.139</td>\n",
       "    </tr>\n",
       "    <tr>\n",
       "      <th>4</th>\n",
       "      <td>4</td>\n",
       "      <td>16</td>\n",
       "      <td>Total</td>\n",
       "      <td>2019</td>\n",
       "      <td>196.329</td>\n",
       "    </tr>\n",
       "    <tr>\n",
       "      <th>...</th>\n",
       "      <td>...</td>\n",
       "      <td>...</td>\n",
       "      <td>...</td>\n",
       "      <td>...</td>\n",
       "      <td>...</td>\n",
       "    </tr>\n",
       "    <tr>\n",
       "      <th>20071</th>\n",
       "      <td>20071</td>\n",
       "      <td>16280</td>\n",
       "      <td>Mujeres</td>\n",
       "      <td>2000</td>\n",
       "      <td>147.0</td>\n",
       "    </tr>\n",
       "    <tr>\n",
       "      <th>20072</th>\n",
       "      <td>20072</td>\n",
       "      <td>16280</td>\n",
       "      <td>Mujeres</td>\n",
       "      <td>1999</td>\n",
       "      <td>150.0</td>\n",
       "    </tr>\n",
       "    <tr>\n",
       "      <th>20073</th>\n",
       "      <td>20073</td>\n",
       "      <td>16280</td>\n",
       "      <td>Mujeres</td>\n",
       "      <td>1998</td>\n",
       "      <td>148.0</td>\n",
       "    </tr>\n",
       "    <tr>\n",
       "      <th>20074</th>\n",
       "      <td>20074</td>\n",
       "      <td>16280</td>\n",
       "      <td>Mujeres</td>\n",
       "      <td>1997</td>\n",
       "      <td>NaN</td>\n",
       "    </tr>\n",
       "    <tr>\n",
       "      <th>20075</th>\n",
       "      <td>20075</td>\n",
       "      <td>16280</td>\n",
       "      <td>Mujeres</td>\n",
       "      <td>1996</td>\n",
       "      <td>153.0</td>\n",
       "    </tr>\n",
       "  </tbody>\n",
       "</table>\n",
       "<p>20076 rows × 5 columns</p>\n",
       "</div>"
      ],
      "text/plain": [
       "       Unnamed: 0  Municipios     Sexo  Periodo    Total\n",
       "0               0          16    Total     2023  197.139\n",
       "1               1          16    Total     2022  195.215\n",
       "2               2          16    Total     2021  195.516\n",
       "3               3          16    Total     2020  196.139\n",
       "4               4          16    Total     2019  196.329\n",
       "...           ...         ...      ...      ...      ...\n",
       "20071       20071       16280  Mujeres     2000    147.0\n",
       "20072       20072       16280  Mujeres     1999    150.0\n",
       "20073       20073       16280  Mujeres     1998    148.0\n",
       "20074       20074       16280  Mujeres     1997      NaN\n",
       "20075       20075       16280  Mujeres     1996    153.0\n",
       "\n",
       "[20076 rows x 5 columns]"
      ]
     },
     "execution_count": 111,
     "metadata": {},
     "output_type": "execute_result"
    }
   ],
   "source": [
    "cuenca_original"
   ]
  },
  {
   "cell_type": "code",
   "execution_count": 112,
   "metadata": {},
   "outputs": [
    {
     "data": {
      "text/html": [
       "<div>\n",
       "<style scoped>\n",
       "    .dataframe tbody tr th:only-of-type {\n",
       "        vertical-align: middle;\n",
       "    }\n",
       "\n",
       "    .dataframe tbody tr th {\n",
       "        vertical-align: top;\n",
       "    }\n",
       "\n",
       "    .dataframe thead th {\n",
       "        text-align: right;\n",
       "    }\n",
       "</style>\n",
       "<table border=\"1\" class=\"dataframe\">\n",
       "  <thead>\n",
       "    <tr style=\"text-align: right;\">\n",
       "      <th></th>\n",
       "      <th></th>\n",
       "      <th></th>\n",
       "      <th>Unnamed: 0</th>\n",
       "      <th>Total</th>\n",
       "    </tr>\n",
       "    <tr>\n",
       "      <th>Municipios</th>\n",
       "      <th>Sexo</th>\n",
       "      <th>Periodo</th>\n",
       "      <th></th>\n",
       "      <th></th>\n",
       "    </tr>\n",
       "  </thead>\n",
       "  <tbody>\n",
       "    <tr>\n",
       "      <th rowspan=\"5\" valign=\"top\">16</th>\n",
       "      <th rowspan=\"5\" valign=\"top\">Total</th>\n",
       "      <th>2023</th>\n",
       "      <td>0</td>\n",
       "      <td>197.139</td>\n",
       "    </tr>\n",
       "    <tr>\n",
       "      <th>2022</th>\n",
       "      <td>1</td>\n",
       "      <td>195.215</td>\n",
       "    </tr>\n",
       "    <tr>\n",
       "      <th>2021</th>\n",
       "      <td>2</td>\n",
       "      <td>195.516</td>\n",
       "    </tr>\n",
       "    <tr>\n",
       "      <th>2020</th>\n",
       "      <td>3</td>\n",
       "      <td>196.139</td>\n",
       "    </tr>\n",
       "    <tr>\n",
       "      <th>2019</th>\n",
       "      <td>4</td>\n",
       "      <td>196.329</td>\n",
       "    </tr>\n",
       "    <tr>\n",
       "      <th>...</th>\n",
       "      <th>...</th>\n",
       "      <th>...</th>\n",
       "      <td>...</td>\n",
       "      <td>...</td>\n",
       "    </tr>\n",
       "    <tr>\n",
       "      <th rowspan=\"5\" valign=\"top\">16280</th>\n",
       "      <th rowspan=\"5\" valign=\"top\">Mujeres</th>\n",
       "      <th>2000</th>\n",
       "      <td>20071</td>\n",
       "      <td>147.0</td>\n",
       "    </tr>\n",
       "    <tr>\n",
       "      <th>1999</th>\n",
       "      <td>20072</td>\n",
       "      <td>150.0</td>\n",
       "    </tr>\n",
       "    <tr>\n",
       "      <th>1998</th>\n",
       "      <td>20073</td>\n",
       "      <td>148.0</td>\n",
       "    </tr>\n",
       "    <tr>\n",
       "      <th>1997</th>\n",
       "      <td>20074</td>\n",
       "      <td>NaN</td>\n",
       "    </tr>\n",
       "    <tr>\n",
       "      <th>1996</th>\n",
       "      <td>20075</td>\n",
       "      <td>153.0</td>\n",
       "    </tr>\n",
       "  </tbody>\n",
       "</table>\n",
       "<p>20076 rows × 2 columns</p>\n",
       "</div>"
      ],
      "text/plain": [
       "                            Unnamed: 0    Total\n",
       "Municipios Sexo    Periodo                     \n",
       "16         Total   2023              0  197.139\n",
       "                   2022              1  195.215\n",
       "                   2021              2  195.516\n",
       "                   2020              3  196.139\n",
       "                   2019              4  196.329\n",
       "...                                ...      ...\n",
       "16280      Mujeres 2000          20071    147.0\n",
       "                   1999          20072    150.0\n",
       "                   1998          20073    148.0\n",
       "                   1997          20074      NaN\n",
       "                   1996          20075    153.0\n",
       "\n",
       "[20076 rows x 2 columns]"
      ]
     },
     "execution_count": 112,
     "metadata": {},
     "output_type": "execute_result"
    }
   ],
   "source": [
    "cuenca_original.set_index([\"Municipios\", \"Sexo\", \"Periodo\"])"
   ]
  },
  {
   "cell_type": "code",
   "execution_count": 3,
   "metadata": {},
   "outputs": [],
   "source": [
    "cuenca_original = pd.read_csv(\"data/cuenca.csv\", dtype={\"Total\":str}, index_col =[\"Municipios\", \"Sexo\", \"Periodo\"])"
   ]
  },
  {
   "cell_type": "code",
   "execution_count": 115,
   "metadata": {},
   "outputs": [
    {
     "data": {
      "text/html": [
       "<div>\n",
       "<style scoped>\n",
       "    .dataframe tbody tr th:only-of-type {\n",
       "        vertical-align: middle;\n",
       "    }\n",
       "\n",
       "    .dataframe tbody tr th {\n",
       "        vertical-align: top;\n",
       "    }\n",
       "\n",
       "    .dataframe thead th {\n",
       "        text-align: right;\n",
       "    }\n",
       "</style>\n",
       "<table border=\"1\" class=\"dataframe\">\n",
       "  <thead>\n",
       "    <tr style=\"text-align: right;\">\n",
       "      <th></th>\n",
       "      <th></th>\n",
       "      <th></th>\n",
       "      <th>Unnamed: 0</th>\n",
       "      <th>Total</th>\n",
       "    </tr>\n",
       "    <tr>\n",
       "      <th>Municipios</th>\n",
       "      <th>Sexo</th>\n",
       "      <th>Periodo</th>\n",
       "      <th></th>\n",
       "      <th></th>\n",
       "    </tr>\n",
       "  </thead>\n",
       "  <tbody>\n",
       "    <tr>\n",
       "      <th rowspan=\"5\" valign=\"top\">16</th>\n",
       "      <th rowspan=\"5\" valign=\"top\">Total</th>\n",
       "      <th>2023</th>\n",
       "      <td>0</td>\n",
       "      <td>197.139</td>\n",
       "    </tr>\n",
       "    <tr>\n",
       "      <th>2022</th>\n",
       "      <td>1</td>\n",
       "      <td>195.215</td>\n",
       "    </tr>\n",
       "    <tr>\n",
       "      <th>2021</th>\n",
       "      <td>2</td>\n",
       "      <td>195.516</td>\n",
       "    </tr>\n",
       "    <tr>\n",
       "      <th>2020</th>\n",
       "      <td>3</td>\n",
       "      <td>196.139</td>\n",
       "    </tr>\n",
       "    <tr>\n",
       "      <th>2019</th>\n",
       "      <td>4</td>\n",
       "      <td>196.329</td>\n",
       "    </tr>\n",
       "  </tbody>\n",
       "</table>\n",
       "</div>"
      ],
      "text/plain": [
       "                          Unnamed: 0    Total\n",
       "Municipios Sexo  Periodo                     \n",
       "16         Total 2023              0  197.139\n",
       "                 2022              1  195.215\n",
       "                 2021              2  195.516\n",
       "                 2020              3  196.139\n",
       "                 2019              4  196.329"
      ]
     },
     "execution_count": 115,
     "metadata": {},
     "output_type": "execute_result"
    }
   ],
   "source": [
    "cuenca_original.head()"
   ]
  },
  {
   "cell_type": "markdown",
   "metadata": {
    "deletable": true,
    "editable": true
   },
   "source": [
    "### Nombres de niveles MultiIndex\n",
    "\n",
    "A veces es conveniente nombrar los niveles del ``MultiIndex``.\n",
    "Esto se puede conseguir pasando el argumento ``names`` a cualquiera de los constructores de ``MultiIndex``, o estableciendo el atributo ``names`` del índice a posteriori:"
   ]
  },
  {
   "cell_type": "code",
   "execution_count": null,
   "metadata": {
    "collapsed": false,
    "deletable": true,
    "editable": true,
    "jupyter": {
     "outputs_hidden": false
    }
   },
   "outputs": [],
   "source": [
    "pop.index.names = ['state', 'year']\n",
    "pop"
   ]
  },
  {
   "cell_type": "markdown",
   "metadata": {
    "deletable": true,
    "editable": true
   },
   "source": [
    "Con conjuntos de datos más complejos, puede ser una forma útil de seguir el significado de varios valores de índice."
   ]
  },
  {
   "cell_type": "markdown",
   "metadata": {
    "deletable": true,
    "editable": true
   },
   "source": [
    "### MultiIndex para columnas\n",
    "\n",
    "En un ``DataFrame``, las filas y columnas son completamente simétricas, y al igual que las filas pueden tener múltiples niveles de índices, las columnas también pueden tener múltiples niveles.\n",
    "\n",
    "Considere lo siguiente, que es una maqueta de algunos datos médicos:"
   ]
  },
  {
   "cell_type": "code",
   "execution_count": 45,
   "metadata": {
    "collapsed": false,
    "deletable": true,
    "editable": true,
    "jupyter": {
     "outputs_hidden": false
    }
   },
   "outputs": [
    {
     "data": {
      "text/html": [
       "<div>\n",
       "<style scoped>\n",
       "    .dataframe tbody tr th:only-of-type {\n",
       "        vertical-align: middle;\n",
       "    }\n",
       "\n",
       "    .dataframe tbody tr th {\n",
       "        vertical-align: top;\n",
       "    }\n",
       "\n",
       "    .dataframe thead tr th {\n",
       "        text-align: left;\n",
       "    }\n",
       "\n",
       "    .dataframe thead tr:last-of-type th {\n",
       "        text-align: right;\n",
       "    }\n",
       "</style>\n",
       "<table border=\"1\" class=\"dataframe\">\n",
       "  <thead>\n",
       "    <tr>\n",
       "      <th></th>\n",
       "      <th>subject</th>\n",
       "      <th colspan=\"2\" halign=\"left\">Bob</th>\n",
       "      <th colspan=\"2\" halign=\"left\">Guido</th>\n",
       "      <th colspan=\"2\" halign=\"left\">Sue</th>\n",
       "    </tr>\n",
       "    <tr>\n",
       "      <th></th>\n",
       "      <th>type</th>\n",
       "      <th>HR</th>\n",
       "      <th>Temp</th>\n",
       "      <th>HR</th>\n",
       "      <th>Temp</th>\n",
       "      <th>HR</th>\n",
       "      <th>Temp</th>\n",
       "    </tr>\n",
       "    <tr>\n",
       "      <th>year</th>\n",
       "      <th>visit</th>\n",
       "      <th></th>\n",
       "      <th></th>\n",
       "      <th></th>\n",
       "      <th></th>\n",
       "      <th></th>\n",
       "      <th></th>\n",
       "    </tr>\n",
       "  </thead>\n",
       "  <tbody>\n",
       "    <tr>\n",
       "      <th rowspan=\"2\" valign=\"top\">2013</th>\n",
       "      <th>1</th>\n",
       "      <td>39.0</td>\n",
       "      <td>37.7</td>\n",
       "      <td>39.0</td>\n",
       "      <td>35.7</td>\n",
       "      <td>28.0</td>\n",
       "      <td>37.4</td>\n",
       "    </tr>\n",
       "    <tr>\n",
       "      <th>2</th>\n",
       "      <td>19.0</td>\n",
       "      <td>36.7</td>\n",
       "      <td>39.0</td>\n",
       "      <td>35.7</td>\n",
       "      <td>32.0</td>\n",
       "      <td>37.8</td>\n",
       "    </tr>\n",
       "    <tr>\n",
       "      <th rowspan=\"2\" valign=\"top\">2014</th>\n",
       "      <th>1</th>\n",
       "      <td>38.0</td>\n",
       "      <td>37.8</td>\n",
       "      <td>41.0</td>\n",
       "      <td>36.6</td>\n",
       "      <td>44.0</td>\n",
       "      <td>38.3</td>\n",
       "    </tr>\n",
       "    <tr>\n",
       "      <th>2</th>\n",
       "      <td>38.0</td>\n",
       "      <td>38.0</td>\n",
       "      <td>33.0</td>\n",
       "      <td>35.7</td>\n",
       "      <td>36.0</td>\n",
       "      <td>37.2</td>\n",
       "    </tr>\n",
       "  </tbody>\n",
       "</table>\n",
       "</div>"
      ],
      "text/plain": [
       "subject      Bob       Guido         Sue      \n",
       "type          HR  Temp    HR  Temp    HR  Temp\n",
       "year visit                                    \n",
       "2013 1      39.0  37.7  39.0  35.7  28.0  37.4\n",
       "     2      19.0  36.7  39.0  35.7  32.0  37.8\n",
       "2014 1      38.0  37.8  41.0  36.6  44.0  38.3\n",
       "     2      38.0  38.0  33.0  35.7  36.0  37.2"
      ]
     },
     "execution_count": 45,
     "metadata": {},
     "output_type": "execute_result"
    }
   ],
   "source": [
    "# índices jerárquicos y columnas\n",
    "index = pd.MultiIndex.from_product([[2013, 2014], [1, 2]],\n",
    "                                   names=['year', 'visit'])\n",
    "columns = pd.MultiIndex.from_product([['Bob', 'Guido', 'Sue'], ['HR', 'Temp']],\n",
    "                                     names=['subject', 'type'])\n",
    "\n",
    "# simular algunos datos\n",
    "data = np.round(np.random.randn(4, 6), 1)\n",
    "data[:, ::2] *= 10\n",
    "data += 37\n",
    "\n",
    "# crear el DataFrame\n",
    "health_data = pd.DataFrame(data, index=index, columns=columns)\n",
    "health_data"
   ]
  },
  {
   "cell_type": "markdown",
   "metadata": {
    "deletable": true,
    "editable": true
   },
   "source": [
    "En este caso, la indexación múltiple de filas y columnas puede resultar útil en algunas ocasiones. No obstante, suele ser más cómodo utilizar modelos de DS usando `DataFrame` sin índices\n",
    "\n",
    "\n",
    "Se trata fundamentalmente de datos cuatridimensionales, en los que las dimensiones son el sujeto, el tipo de medición, el año y el número de visita.\n",
    "De este modo podemos, por ejemplo, indexar la columna superior por el nombre de la persona y obtener un ``DataFrame`` completo que contenga sólo la información de esa persona:"
   ]
  },
  {
   "cell_type": "code",
   "execution_count": 118,
   "metadata": {
    "collapsed": false,
    "deletable": true,
    "editable": true,
    "jupyter": {
     "outputs_hidden": false
    }
   },
   "outputs": [
    {
     "data": {
      "text/html": [
       "<div>\n",
       "<style scoped>\n",
       "    .dataframe tbody tr th:only-of-type {\n",
       "        vertical-align: middle;\n",
       "    }\n",
       "\n",
       "    .dataframe tbody tr th {\n",
       "        vertical-align: top;\n",
       "    }\n",
       "\n",
       "    .dataframe thead th {\n",
       "        text-align: right;\n",
       "    }\n",
       "</style>\n",
       "<table border=\"1\" class=\"dataframe\">\n",
       "  <thead>\n",
       "    <tr style=\"text-align: right;\">\n",
       "      <th></th>\n",
       "      <th>type</th>\n",
       "      <th>HR</th>\n",
       "      <th>Temp</th>\n",
       "    </tr>\n",
       "    <tr>\n",
       "      <th>year</th>\n",
       "      <th>visit</th>\n",
       "      <th></th>\n",
       "      <th></th>\n",
       "    </tr>\n",
       "  </thead>\n",
       "  <tbody>\n",
       "    <tr>\n",
       "      <th rowspan=\"2\" valign=\"top\">2013</th>\n",
       "      <th>1</th>\n",
       "      <td>45.0</td>\n",
       "      <td>37.8</td>\n",
       "    </tr>\n",
       "    <tr>\n",
       "      <th>2</th>\n",
       "      <td>51.0</td>\n",
       "      <td>38.2</td>\n",
       "    </tr>\n",
       "    <tr>\n",
       "      <th rowspan=\"2\" valign=\"top\">2014</th>\n",
       "      <th>1</th>\n",
       "      <td>42.0</td>\n",
       "      <td>34.9</td>\n",
       "    </tr>\n",
       "    <tr>\n",
       "      <th>2</th>\n",
       "      <td>44.0</td>\n",
       "      <td>36.7</td>\n",
       "    </tr>\n",
       "  </tbody>\n",
       "</table>\n",
       "</div>"
      ],
      "text/plain": [
       "type          HR  Temp\n",
       "year visit            \n",
       "2013 1      45.0  37.8\n",
       "     2      51.0  38.2\n",
       "2014 1      42.0  34.9\n",
       "     2      44.0  36.7"
      ]
     },
     "execution_count": 118,
     "metadata": {},
     "output_type": "execute_result"
    }
   ],
   "source": [
    "health_data['Guido']"
   ]
  },
  {
   "cell_type": "code",
   "execution_count": 122,
   "metadata": {},
   "outputs": [],
   "source": [
    "cuenca_original = pd.read_csv(\"data/cuenca.csv\", dtype={\"Total\":str})"
   ]
  },
  {
   "cell_type": "code",
   "execution_count": 128,
   "metadata": {},
   "outputs": [
    {
     "data": {
      "text/html": [
       "<div>\n",
       "<style scoped>\n",
       "    .dataframe tbody tr th:only-of-type {\n",
       "        vertical-align: middle;\n",
       "    }\n",
       "\n",
       "    .dataframe tbody tr th {\n",
       "        vertical-align: top;\n",
       "    }\n",
       "\n",
       "    .dataframe thead tr th {\n",
       "        text-align: left;\n",
       "    }\n",
       "\n",
       "    .dataframe thead tr:last-of-type th {\n",
       "        text-align: right;\n",
       "    }\n",
       "</style>\n",
       "<table border=\"1\" class=\"dataframe\">\n",
       "  <thead>\n",
       "    <tr>\n",
       "      <th></th>\n",
       "      <th></th>\n",
       "      <th colspan=\"10\" halign=\"left\">Unnamed: 0</th>\n",
       "      <th>...</th>\n",
       "      <th colspan=\"10\" halign=\"left\">Total</th>\n",
       "    </tr>\n",
       "    <tr>\n",
       "      <th></th>\n",
       "      <th>Periodo</th>\n",
       "      <th>1996</th>\n",
       "      <th>1997</th>\n",
       "      <th>1998</th>\n",
       "      <th>1999</th>\n",
       "      <th>2000</th>\n",
       "      <th>2001</th>\n",
       "      <th>2002</th>\n",
       "      <th>2003</th>\n",
       "      <th>2004</th>\n",
       "      <th>2005</th>\n",
       "      <th>...</th>\n",
       "      <th>2014</th>\n",
       "      <th>2015</th>\n",
       "      <th>2016</th>\n",
       "      <th>2017</th>\n",
       "      <th>2018</th>\n",
       "      <th>2019</th>\n",
       "      <th>2020</th>\n",
       "      <th>2021</th>\n",
       "      <th>2022</th>\n",
       "      <th>2023</th>\n",
       "    </tr>\n",
       "    <tr>\n",
       "      <th>Municipios</th>\n",
       "      <th>Sexo</th>\n",
       "      <th></th>\n",
       "      <th></th>\n",
       "      <th></th>\n",
       "      <th></th>\n",
       "      <th></th>\n",
       "      <th></th>\n",
       "      <th></th>\n",
       "      <th></th>\n",
       "      <th></th>\n",
       "      <th></th>\n",
       "      <th></th>\n",
       "      <th></th>\n",
       "      <th></th>\n",
       "      <th></th>\n",
       "      <th></th>\n",
       "      <th></th>\n",
       "      <th></th>\n",
       "      <th></th>\n",
       "      <th></th>\n",
       "      <th></th>\n",
       "      <th></th>\n",
       "    </tr>\n",
       "  </thead>\n",
       "  <tbody>\n",
       "    <tr>\n",
       "      <th rowspan=\"3\" valign=\"top\">16</th>\n",
       "      <th>Hombres</th>\n",
       "      <td>55</td>\n",
       "      <td>54</td>\n",
       "      <td>53</td>\n",
       "      <td>52</td>\n",
       "      <td>51</td>\n",
       "      <td>50</td>\n",
       "      <td>49</td>\n",
       "      <td>48</td>\n",
       "      <td>47</td>\n",
       "      <td>46</td>\n",
       "      <td>...</td>\n",
       "      <td>104.586</td>\n",
       "      <td>102.583</td>\n",
       "      <td>101.097</td>\n",
       "      <td>99.821</td>\n",
       "      <td>98.999</td>\n",
       "      <td>98.542</td>\n",
       "      <td>98.43</td>\n",
       "      <td>98.118</td>\n",
       "      <td>98.029</td>\n",
       "      <td>99.137</td>\n",
       "    </tr>\n",
       "    <tr>\n",
       "      <th>Mujeres</th>\n",
       "      <td>83</td>\n",
       "      <td>82</td>\n",
       "      <td>81</td>\n",
       "      <td>80</td>\n",
       "      <td>79</td>\n",
       "      <td>78</td>\n",
       "      <td>77</td>\n",
       "      <td>76</td>\n",
       "      <td>75</td>\n",
       "      <td>74</td>\n",
       "      <td>...</td>\n",
       "      <td>102.863</td>\n",
       "      <td>101.258</td>\n",
       "      <td>99.974</td>\n",
       "      <td>98.897</td>\n",
       "      <td>98.223</td>\n",
       "      <td>97.787</td>\n",
       "      <td>97.709</td>\n",
       "      <td>97.398</td>\n",
       "      <td>97.186</td>\n",
       "      <td>98.002</td>\n",
       "    </tr>\n",
       "    <tr>\n",
       "      <th>Total</th>\n",
       "      <td>27</td>\n",
       "      <td>26</td>\n",
       "      <td>25</td>\n",
       "      <td>24</td>\n",
       "      <td>23</td>\n",
       "      <td>22</td>\n",
       "      <td>21</td>\n",
       "      <td>20</td>\n",
       "      <td>19</td>\n",
       "      <td>18</td>\n",
       "      <td>...</td>\n",
       "      <td>207.449</td>\n",
       "      <td>203.841</td>\n",
       "      <td>201.071</td>\n",
       "      <td>198.718</td>\n",
       "      <td>197.222</td>\n",
       "      <td>196.329</td>\n",
       "      <td>196.139</td>\n",
       "      <td>195.516</td>\n",
       "      <td>195.215</td>\n",
       "      <td>197.139</td>\n",
       "    </tr>\n",
       "    <tr>\n",
       "      <th rowspan=\"2\" valign=\"top\">16001</th>\n",
       "      <th>Hombres</th>\n",
       "      <td>139</td>\n",
       "      <td>138</td>\n",
       "      <td>137</td>\n",
       "      <td>136</td>\n",
       "      <td>135</td>\n",
       "      <td>134</td>\n",
       "      <td>133</td>\n",
       "      <td>132</td>\n",
       "      <td>131</td>\n",
       "      <td>130</td>\n",
       "      <td>...</td>\n",
       "      <td>50.0</td>\n",
       "      <td>49.0</td>\n",
       "      <td>48.0</td>\n",
       "      <td>40.0</td>\n",
       "      <td>39.0</td>\n",
       "      <td>40.0</td>\n",
       "      <td>37.0</td>\n",
       "      <td>35.0</td>\n",
       "      <td>37.0</td>\n",
       "      <td>38.0</td>\n",
       "    </tr>\n",
       "    <tr>\n",
       "      <th>Mujeres</th>\n",
       "      <td>167</td>\n",
       "      <td>166</td>\n",
       "      <td>165</td>\n",
       "      <td>164</td>\n",
       "      <td>163</td>\n",
       "      <td>162</td>\n",
       "      <td>161</td>\n",
       "      <td>160</td>\n",
       "      <td>159</td>\n",
       "      <td>158</td>\n",
       "      <td>...</td>\n",
       "      <td>30.0</td>\n",
       "      <td>28.0</td>\n",
       "      <td>29.0</td>\n",
       "      <td>26.0</td>\n",
       "      <td>25.0</td>\n",
       "      <td>25.0</td>\n",
       "      <td>24.0</td>\n",
       "      <td>22.0</td>\n",
       "      <td>23.0</td>\n",
       "      <td>23.0</td>\n",
       "    </tr>\n",
       "    <tr>\n",
       "      <th>...</th>\n",
       "      <th>...</th>\n",
       "      <td>...</td>\n",
       "      <td>...</td>\n",
       "      <td>...</td>\n",
       "      <td>...</td>\n",
       "      <td>...</td>\n",
       "      <td>...</td>\n",
       "      <td>...</td>\n",
       "      <td>...</td>\n",
       "      <td>...</td>\n",
       "      <td>...</td>\n",
       "      <td>...</td>\n",
       "      <td>...</td>\n",
       "      <td>...</td>\n",
       "      <td>...</td>\n",
       "      <td>...</td>\n",
       "      <td>...</td>\n",
       "      <td>...</td>\n",
       "      <td>...</td>\n",
       "      <td>...</td>\n",
       "      <td>...</td>\n",
       "      <td>...</td>\n",
       "    </tr>\n",
       "    <tr>\n",
       "      <th rowspan=\"2\" valign=\"top\">16909</th>\n",
       "      <th>Mujeres</th>\n",
       "      <td>14951</td>\n",
       "      <td>14950</td>\n",
       "      <td>14949</td>\n",
       "      <td>14948</td>\n",
       "      <td>14947</td>\n",
       "      <td>14946</td>\n",
       "      <td>14945</td>\n",
       "      <td>14944</td>\n",
       "      <td>14943</td>\n",
       "      <td>14942</td>\n",
       "      <td>...</td>\n",
       "      <td>406.0</td>\n",
       "      <td>393.0</td>\n",
       "      <td>391.0</td>\n",
       "      <td>376.0</td>\n",
       "      <td>367.0</td>\n",
       "      <td>354.0</td>\n",
       "      <td>335.0</td>\n",
       "      <td>321.0</td>\n",
       "      <td>334.0</td>\n",
       "      <td>332.0</td>\n",
       "    </tr>\n",
       "    <tr>\n",
       "      <th>Total</th>\n",
       "      <td>14895</td>\n",
       "      <td>14894</td>\n",
       "      <td>14893</td>\n",
       "      <td>14892</td>\n",
       "      <td>14891</td>\n",
       "      <td>14890</td>\n",
       "      <td>14889</td>\n",
       "      <td>14888</td>\n",
       "      <td>14887</td>\n",
       "      <td>14886</td>\n",
       "      <td>...</td>\n",
       "      <td>829.0</td>\n",
       "      <td>802.0</td>\n",
       "      <td>791.0</td>\n",
       "      <td>776.0</td>\n",
       "      <td>756.0</td>\n",
       "      <td>732.0</td>\n",
       "      <td>700.0</td>\n",
       "      <td>681.0</td>\n",
       "      <td>696.0</td>\n",
       "      <td>698.0</td>\n",
       "    </tr>\n",
       "    <tr>\n",
       "      <th rowspan=\"3\" valign=\"top\">16910</th>\n",
       "      <th>Hombres</th>\n",
       "      <td>18787</td>\n",
       "      <td>18786</td>\n",
       "      <td>18785</td>\n",
       "      <td>18784</td>\n",
       "      <td>18783</td>\n",
       "      <td>18782</td>\n",
       "      <td>18781</td>\n",
       "      <td>18780</td>\n",
       "      <td>18779</td>\n",
       "      <td>18778</td>\n",
       "      <td>...</td>\n",
       "      <td>55.0</td>\n",
       "      <td>57.0</td>\n",
       "      <td>51.0</td>\n",
       "      <td>48.0</td>\n",
       "      <td>47.0</td>\n",
       "      <td>44.0</td>\n",
       "      <td>43.0</td>\n",
       "      <td>42.0</td>\n",
       "      <td>44.0</td>\n",
       "      <td>45.0</td>\n",
       "    </tr>\n",
       "    <tr>\n",
       "      <th>Mujeres</th>\n",
       "      <td>18815</td>\n",
       "      <td>18814</td>\n",
       "      <td>18813</td>\n",
       "      <td>18812</td>\n",
       "      <td>18811</td>\n",
       "      <td>18810</td>\n",
       "      <td>18809</td>\n",
       "      <td>18808</td>\n",
       "      <td>18807</td>\n",
       "      <td>18806</td>\n",
       "      <td>...</td>\n",
       "      <td>46.0</td>\n",
       "      <td>47.0</td>\n",
       "      <td>41.0</td>\n",
       "      <td>40.0</td>\n",
       "      <td>35.0</td>\n",
       "      <td>33.0</td>\n",
       "      <td>32.0</td>\n",
       "      <td>31.0</td>\n",
       "      <td>35.0</td>\n",
       "      <td>33.0</td>\n",
       "    </tr>\n",
       "    <tr>\n",
       "      <th>Total</th>\n",
       "      <td>18759</td>\n",
       "      <td>18758</td>\n",
       "      <td>18757</td>\n",
       "      <td>18756</td>\n",
       "      <td>18755</td>\n",
       "      <td>18754</td>\n",
       "      <td>18753</td>\n",
       "      <td>18752</td>\n",
       "      <td>18751</td>\n",
       "      <td>18750</td>\n",
       "      <td>...</td>\n",
       "      <td>101.0</td>\n",
       "      <td>104.0</td>\n",
       "      <td>92.0</td>\n",
       "      <td>88.0</td>\n",
       "      <td>82.0</td>\n",
       "      <td>77.0</td>\n",
       "      <td>75.0</td>\n",
       "      <td>73.0</td>\n",
       "      <td>79.0</td>\n",
       "      <td>78.0</td>\n",
       "    </tr>\n",
       "  </tbody>\n",
       "</table>\n",
       "<p>717 rows × 56 columns</p>\n",
       "</div>"
      ],
      "text/plain": [
       "                   Unnamed: 0                                            \\\n",
       "Periodo                  1996   1997   1998   1999   2000   2001   2002   \n",
       "Municipios Sexo                                                           \n",
       "16         Hombres         55     54     53     52     51     50     49   \n",
       "           Mujeres         83     82     81     80     79     78     77   \n",
       "           Total           27     26     25     24     23     22     21   \n",
       "16001      Hombres        139    138    137    136    135    134    133   \n",
       "           Mujeres        167    166    165    164    163    162    161   \n",
       "...                       ...    ...    ...    ...    ...    ...    ...   \n",
       "16909      Mujeres      14951  14950  14949  14948  14947  14946  14945   \n",
       "           Total        14895  14894  14893  14892  14891  14890  14889   \n",
       "16910      Hombres      18787  18786  18785  18784  18783  18782  18781   \n",
       "           Mujeres      18815  18814  18813  18812  18811  18810  18809   \n",
       "           Total        18759  18758  18757  18756  18755  18754  18753   \n",
       "\n",
       "                                         ...    Total                    \\\n",
       "Periodo              2003   2004   2005  ...     2014     2015     2016   \n",
       "Municipios Sexo                          ...                              \n",
       "16         Hombres     48     47     46  ...  104.586  102.583  101.097   \n",
       "           Mujeres     76     75     74  ...  102.863  101.258   99.974   \n",
       "           Total       20     19     18  ...  207.449  203.841  201.071   \n",
       "16001      Hombres    132    131    130  ...     50.0     49.0     48.0   \n",
       "           Mujeres    160    159    158  ...     30.0     28.0     29.0   \n",
       "...                   ...    ...    ...  ...      ...      ...      ...   \n",
       "16909      Mujeres  14944  14943  14942  ...    406.0    393.0    391.0   \n",
       "           Total    14888  14887  14886  ...    829.0    802.0    791.0   \n",
       "16910      Hombres  18780  18779  18778  ...     55.0     57.0     51.0   \n",
       "           Mujeres  18808  18807  18806  ...     46.0     47.0     41.0   \n",
       "           Total    18752  18751  18750  ...    101.0    104.0     92.0   \n",
       "\n",
       "                                                                          \\\n",
       "Periodo                2017     2018     2019     2020     2021     2022   \n",
       "Municipios Sexo                                                            \n",
       "16         Hombres   99.821   98.999   98.542    98.43   98.118   98.029   \n",
       "           Mujeres   98.897   98.223   97.787   97.709   97.398   97.186   \n",
       "           Total    198.718  197.222  196.329  196.139  195.516  195.215   \n",
       "16001      Hombres     40.0     39.0     40.0     37.0     35.0     37.0   \n",
       "           Mujeres     26.0     25.0     25.0     24.0     22.0     23.0   \n",
       "...                     ...      ...      ...      ...      ...      ...   \n",
       "16909      Mujeres    376.0    367.0    354.0    335.0    321.0    334.0   \n",
       "           Total      776.0    756.0    732.0    700.0    681.0    696.0   \n",
       "16910      Hombres     48.0     47.0     44.0     43.0     42.0     44.0   \n",
       "           Mujeres     40.0     35.0     33.0     32.0     31.0     35.0   \n",
       "           Total       88.0     82.0     77.0     75.0     73.0     79.0   \n",
       "\n",
       "                             \n",
       "Periodo                2023  \n",
       "Municipios Sexo              \n",
       "16         Hombres   99.137  \n",
       "           Mujeres   98.002  \n",
       "           Total    197.139  \n",
       "16001      Hombres     38.0  \n",
       "           Mujeres     23.0  \n",
       "...                     ...  \n",
       "16909      Mujeres    332.0  \n",
       "           Total      698.0  \n",
       "16910      Hombres     45.0  \n",
       "           Mujeres     33.0  \n",
       "           Total       78.0  \n",
       "\n",
       "[717 rows x 56 columns]"
      ]
     },
     "execution_count": 128,
     "metadata": {},
     "output_type": "execute_result"
    }
   ],
   "source": [
    "cuenca_original.set_index([\"Municipios\", \"Sexo\", \"Periodo\"]).unstack()"
   ]
  },
  {
   "cell_type": "markdown",
   "metadata": {
    "deletable": true,
    "editable": true
   },
   "source": [
    "En el caso de registros complicados que contengan múltiples mediciones etiquetadas a lo largo de múltiples tiempos para muchos sujetos (personas, países, ciudades, etc.), el uso de filas y columnas jerárquicas puede resultar extremadamente cómodo para visualización/manipulación, pero no tanto para tratamiendo en modelos"
   ]
  },
  {
   "cell_type": "markdown",
   "metadata": {
    "deletable": true,
    "editable": true
   },
   "source": [
    "## Indexación y segmentación de un MultiIndex\n",
    "\n",
    "Indexar y rebanar en un ``MultiIndex`` está diseñado para ser intuitivo, y ayuda si piensas en los índices como dimensiones añadidas.\n",
    "Primero veremos la indexación de ``Series`` multiíndices, y después la de ``DataFrame`` multiíndices."
   ]
  },
  {
   "cell_type": "markdown",
   "metadata": {
    "deletable": true,
    "editable": true
   },
   "source": [
    "### Multiply indexed Series\n",
    "\n",
    "Consideremos la ``Serie`` de poblaciones estatales de índice múltiple que vimos anteriormente:"
   ]
  },
  {
   "cell_type": "code",
   "execution_count": 129,
   "metadata": {
    "collapsed": false,
    "deletable": true,
    "editable": true,
    "jupyter": {
     "outputs_hidden": false
    }
   },
   "outputs": [
    {
     "data": {
      "text/plain": [
       "California  2000    33871648\n",
       "            2010    37253956\n",
       "New York    2000    18976457\n",
       "            2010    19378102\n",
       "Texas       2000    20851820\n",
       "            2010    25145561\n",
       "dtype: int64"
      ]
     },
     "execution_count": 129,
     "metadata": {},
     "output_type": "execute_result"
    }
   ],
   "source": [
    "pop"
   ]
  },
  {
   "cell_type": "code",
   "execution_count": 132,
   "metadata": {},
   "outputs": [
    {
     "data": {
      "text/plain": [
       "municipios  sexo   anno\n",
       "16          Total  2023    197139.0\n",
       "                   2022    195215.0\n",
       "                   2021    195516.0\n",
       "                   2020    196139.0\n",
       "                   2019    196329.0\n",
       "Name: total, dtype: float64"
      ]
     },
     "execution_count": 132,
     "metadata": {},
     "output_type": "execute_result"
    }
   ],
   "source": [
    "cuenca_series.head()"
   ]
  },
  {
   "cell_type": "markdown",
   "metadata": {
    "deletable": true,
    "editable": true
   },
   "source": [
    "Podemos acceder a elementos individuales indexando con varios términos:"
   ]
  },
  {
   "cell_type": "code",
   "execution_count": 130,
   "metadata": {
    "collapsed": false,
    "deletable": true,
    "editable": true,
    "jupyter": {
     "outputs_hidden": false
    }
   },
   "outputs": [
    {
     "data": {
      "text/plain": [
       "33871648"
      ]
     },
     "execution_count": 130,
     "metadata": {},
     "output_type": "execute_result"
    }
   ],
   "source": [
    "pop['California', 2000]"
   ]
  },
  {
   "cell_type": "code",
   "execution_count": 13,
   "metadata": {},
   "outputs": [
    {
     "data": {
      "text/plain": [
       "100927.0"
      ]
     },
     "execution_count": 13,
     "metadata": {},
     "output_type": "execute_result"
    }
   ],
   "source": [
    "cuenca_series[16, 'Mujeres', 2000]"
   ]
  },
  {
   "cell_type": "markdown",
   "metadata": {
    "deletable": true,
    "editable": true
   },
   "source": [
    "El ``MultiIndex`` también admite la *indización parcial*, es decir, la indización de sólo uno de los niveles del índice.\n",
    "El resultado es otra ``Serie``, que mantiene los índices de los niveles inferiores:"
   ]
  },
  {
   "cell_type": "code",
   "execution_count": 137,
   "metadata": {
    "collapsed": false,
    "deletable": true,
    "editable": true,
    "jupyter": {
     "outputs_hidden": false
    }
   },
   "outputs": [
    {
     "data": {
      "text/plain": [
       "2000    33871648\n",
       "2010    37253956\n",
       "dtype: int64"
      ]
     },
     "execution_count": 137,
     "metadata": {},
     "output_type": "execute_result"
    }
   ],
   "source": [
    "pop['California']"
   ]
  },
  {
   "cell_type": "code",
   "execution_count": 14,
   "metadata": {},
   "outputs": [
    {
     "data": {
      "text/plain": [
       "sexo     anno\n",
       "Total    2023    197139.0\n",
       "         2022    195215.0\n",
       "         2021    195516.0\n",
       "         2020    196139.0\n",
       "         2019    196329.0\n",
       "                   ...   \n",
       "Mujeres  2000    100927.0\n",
       "         1999    100875.0\n",
       "         1998    100055.0\n",
       "         1997         NaN\n",
       "         1996    101325.0\n",
       "Name: total, Length: 84, dtype: float64"
      ]
     },
     "execution_count": 14,
     "metadata": {},
     "output_type": "execute_result"
    }
   ],
   "source": [
    "# En el mismo orden!\n",
    "cuenca_series[16]"
   ]
  },
  {
   "cell_type": "code",
   "execution_count": 142,
   "metadata": {},
   "outputs": [
    {
     "ename": "KeyError",
     "evalue": "'Mujeres'",
     "output_type": "error",
     "traceback": [
      "\u001b[1;31m---------------------------------------------------------------------------\u001b[0m",
      "\u001b[1;31mKeyError\u001b[0m                                  Traceback (most recent call last)",
      "File \u001b[1;32md:\\Anaconda\\envs\\jdp\\Lib\\site-packages\\pandas\\core\\indexes\\base.py:3790\u001b[0m, in \u001b[0;36mIndex.get_loc\u001b[1;34m(self, key)\u001b[0m\n\u001b[0;32m   3789\u001b[0m \u001b[38;5;28;01mtry\u001b[39;00m:\n\u001b[1;32m-> 3790\u001b[0m     \u001b[38;5;28;01mreturn\u001b[39;00m \u001b[38;5;28;43mself\u001b[39;49m\u001b[38;5;241;43m.\u001b[39;49m\u001b[43m_engine\u001b[49m\u001b[38;5;241;43m.\u001b[39;49m\u001b[43mget_loc\u001b[49m\u001b[43m(\u001b[49m\u001b[43mcasted_key\u001b[49m\u001b[43m)\u001b[49m\n\u001b[0;32m   3791\u001b[0m \u001b[38;5;28;01mexcept\u001b[39;00m \u001b[38;5;167;01mKeyError\u001b[39;00m \u001b[38;5;28;01mas\u001b[39;00m err:\n",
      "File \u001b[1;32mindex.pyx:152\u001b[0m, in \u001b[0;36mpandas._libs.index.IndexEngine.get_loc\u001b[1;34m()\u001b[0m\n",
      "File \u001b[1;32mindex.pyx:160\u001b[0m, in \u001b[0;36mpandas._libs.index.IndexEngine.get_loc\u001b[1;34m()\u001b[0m\n",
      "File \u001b[1;32mpandas\\_libs\\index_class_helper.pxi:70\u001b[0m, in \u001b[0;36mpandas._libs.index.Int64Engine._check_type\u001b[1;34m()\u001b[0m\n",
      "\u001b[1;31mKeyError\u001b[0m: 'Mujeres'",
      "\nThe above exception was the direct cause of the following exception:\n",
      "\u001b[1;31mKeyError\u001b[0m                                  Traceback (most recent call last)",
      "Cell \u001b[1;32mIn[142], line 2\u001b[0m\n\u001b[0;32m      1\u001b[0m \u001b[38;5;66;03m# En el mismo orden!\u001b[39;00m\n\u001b[1;32m----> 2\u001b[0m \u001b[43mcuenca_series\u001b[49m\u001b[43m[\u001b[49m\u001b[38;5;124;43m'\u001b[39;49m\u001b[38;5;124;43mMujeres\u001b[39;49m\u001b[38;5;124;43m'\u001b[39;49m\u001b[43m]\u001b[49m\n",
      "File \u001b[1;32md:\\Anaconda\\envs\\jdp\\Lib\\site-packages\\pandas\\core\\series.py:1040\u001b[0m, in \u001b[0;36mSeries.__getitem__\u001b[1;34m(self, key)\u001b[0m\n\u001b[0;32m   1037\u001b[0m     \u001b[38;5;28;01mreturn\u001b[39;00m \u001b[38;5;28mself\u001b[39m\u001b[38;5;241m.\u001b[39m_values[key]\n\u001b[0;32m   1039\u001b[0m \u001b[38;5;28;01melif\u001b[39;00m key_is_scalar:\n\u001b[1;32m-> 1040\u001b[0m     \u001b[38;5;28;01mreturn\u001b[39;00m \u001b[38;5;28;43mself\u001b[39;49m\u001b[38;5;241;43m.\u001b[39;49m\u001b[43m_get_value\u001b[49m\u001b[43m(\u001b[49m\u001b[43mkey\u001b[49m\u001b[43m)\u001b[49m\n\u001b[0;32m   1042\u001b[0m \u001b[38;5;66;03m# Convert generator to list before going through hashable part\u001b[39;00m\n\u001b[0;32m   1043\u001b[0m \u001b[38;5;66;03m# (We will iterate through the generator there to check for slices)\u001b[39;00m\n\u001b[0;32m   1044\u001b[0m \u001b[38;5;28;01mif\u001b[39;00m is_iterator(key):\n",
      "File \u001b[1;32md:\\Anaconda\\envs\\jdp\\Lib\\site-packages\\pandas\\core\\series.py:1156\u001b[0m, in \u001b[0;36mSeries._get_value\u001b[1;34m(self, label, takeable)\u001b[0m\n\u001b[0;32m   1153\u001b[0m     \u001b[38;5;28;01mreturn\u001b[39;00m \u001b[38;5;28mself\u001b[39m\u001b[38;5;241m.\u001b[39m_values[label]\n\u001b[0;32m   1155\u001b[0m \u001b[38;5;66;03m# Similar to Index.get_value, but we do not fall back to positional\u001b[39;00m\n\u001b[1;32m-> 1156\u001b[0m loc \u001b[38;5;241m=\u001b[39m \u001b[38;5;28;43mself\u001b[39;49m\u001b[38;5;241;43m.\u001b[39;49m\u001b[43mindex\u001b[49m\u001b[38;5;241;43m.\u001b[39;49m\u001b[43mget_loc\u001b[49m\u001b[43m(\u001b[49m\u001b[43mlabel\u001b[49m\u001b[43m)\u001b[49m\n\u001b[0;32m   1158\u001b[0m \u001b[38;5;28;01mif\u001b[39;00m is_integer(loc):\n\u001b[0;32m   1159\u001b[0m     \u001b[38;5;28;01mreturn\u001b[39;00m \u001b[38;5;28mself\u001b[39m\u001b[38;5;241m.\u001b[39m_values[loc]\n",
      "File \u001b[1;32md:\\Anaconda\\envs\\jdp\\Lib\\site-packages\\pandas\\core\\indexes\\multi.py:2925\u001b[0m, in \u001b[0;36mMultiIndex.get_loc\u001b[1;34m(self, key)\u001b[0m\n\u001b[0;32m   2922\u001b[0m     \u001b[38;5;28;01mreturn\u001b[39;00m mask\n\u001b[0;32m   2924\u001b[0m \u001b[38;5;28;01mif\u001b[39;00m \u001b[38;5;129;01mnot\u001b[39;00m \u001b[38;5;28misinstance\u001b[39m(key, \u001b[38;5;28mtuple\u001b[39m):\n\u001b[1;32m-> 2925\u001b[0m     loc \u001b[38;5;241m=\u001b[39m \u001b[38;5;28;43mself\u001b[39;49m\u001b[38;5;241;43m.\u001b[39;49m\u001b[43m_get_level_indexer\u001b[49m\u001b[43m(\u001b[49m\u001b[43mkey\u001b[49m\u001b[43m,\u001b[49m\u001b[43m \u001b[49m\u001b[43mlevel\u001b[49m\u001b[38;5;241;43m=\u001b[39;49m\u001b[38;5;241;43m0\u001b[39;49m\u001b[43m)\u001b[49m\n\u001b[0;32m   2926\u001b[0m     \u001b[38;5;28;01mreturn\u001b[39;00m _maybe_to_slice(loc)\n\u001b[0;32m   2928\u001b[0m keylen \u001b[38;5;241m=\u001b[39m \u001b[38;5;28mlen\u001b[39m(key)\n",
      "File \u001b[1;32md:\\Anaconda\\envs\\jdp\\Lib\\site-packages\\pandas\\core\\indexes\\multi.py:3276\u001b[0m, in \u001b[0;36mMultiIndex._get_level_indexer\u001b[1;34m(self, key, level, indexer)\u001b[0m\n\u001b[0;32m   3273\u001b[0m         \u001b[38;5;28;01mreturn\u001b[39;00m \u001b[38;5;28mslice\u001b[39m(i, j, step)\n\u001b[0;32m   3275\u001b[0m \u001b[38;5;28;01melse\u001b[39;00m:\n\u001b[1;32m-> 3276\u001b[0m     idx \u001b[38;5;241m=\u001b[39m \u001b[38;5;28;43mself\u001b[39;49m\u001b[38;5;241;43m.\u001b[39;49m\u001b[43m_get_loc_single_level_index\u001b[49m\u001b[43m(\u001b[49m\u001b[43mlevel_index\u001b[49m\u001b[43m,\u001b[49m\u001b[43m \u001b[49m\u001b[43mkey\u001b[49m\u001b[43m)\u001b[49m\n\u001b[0;32m   3278\u001b[0m     \u001b[38;5;28;01mif\u001b[39;00m level \u001b[38;5;241m>\u001b[39m \u001b[38;5;241m0\u001b[39m \u001b[38;5;129;01mor\u001b[39;00m \u001b[38;5;28mself\u001b[39m\u001b[38;5;241m.\u001b[39m_lexsort_depth \u001b[38;5;241m==\u001b[39m \u001b[38;5;241m0\u001b[39m:\n\u001b[0;32m   3279\u001b[0m         \u001b[38;5;66;03m# Desired level is not sorted\u001b[39;00m\n\u001b[0;32m   3280\u001b[0m         \u001b[38;5;28;01mif\u001b[39;00m \u001b[38;5;28misinstance\u001b[39m(idx, \u001b[38;5;28mslice\u001b[39m):\n\u001b[0;32m   3281\u001b[0m             \u001b[38;5;66;03m# test_get_loc_partial_timestamp_multiindex\u001b[39;00m\n",
      "File \u001b[1;32md:\\Anaconda\\envs\\jdp\\Lib\\site-packages\\pandas\\core\\indexes\\multi.py:2865\u001b[0m, in \u001b[0;36mMultiIndex._get_loc_single_level_index\u001b[1;34m(self, level_index, key)\u001b[0m\n\u001b[0;32m   2863\u001b[0m     \u001b[38;5;28;01mreturn\u001b[39;00m \u001b[38;5;241m-\u001b[39m\u001b[38;5;241m1\u001b[39m\n\u001b[0;32m   2864\u001b[0m \u001b[38;5;28;01melse\u001b[39;00m:\n\u001b[1;32m-> 2865\u001b[0m     \u001b[38;5;28;01mreturn\u001b[39;00m \u001b[43mlevel_index\u001b[49m\u001b[38;5;241;43m.\u001b[39;49m\u001b[43mget_loc\u001b[49m\u001b[43m(\u001b[49m\u001b[43mkey\u001b[49m\u001b[43m)\u001b[49m\n",
      "File \u001b[1;32md:\\Anaconda\\envs\\jdp\\Lib\\site-packages\\pandas\\core\\indexes\\base.py:3797\u001b[0m, in \u001b[0;36mIndex.get_loc\u001b[1;34m(self, key)\u001b[0m\n\u001b[0;32m   3792\u001b[0m     \u001b[38;5;28;01mif\u001b[39;00m \u001b[38;5;28misinstance\u001b[39m(casted_key, \u001b[38;5;28mslice\u001b[39m) \u001b[38;5;129;01mor\u001b[39;00m (\n\u001b[0;32m   3793\u001b[0m         \u001b[38;5;28misinstance\u001b[39m(casted_key, abc\u001b[38;5;241m.\u001b[39mIterable)\n\u001b[0;32m   3794\u001b[0m         \u001b[38;5;129;01mand\u001b[39;00m \u001b[38;5;28many\u001b[39m(\u001b[38;5;28misinstance\u001b[39m(x, \u001b[38;5;28mslice\u001b[39m) \u001b[38;5;28;01mfor\u001b[39;00m x \u001b[38;5;129;01min\u001b[39;00m casted_key)\n\u001b[0;32m   3795\u001b[0m     ):\n\u001b[0;32m   3796\u001b[0m         \u001b[38;5;28;01mraise\u001b[39;00m InvalidIndexError(key)\n\u001b[1;32m-> 3797\u001b[0m     \u001b[38;5;28;01mraise\u001b[39;00m \u001b[38;5;167;01mKeyError\u001b[39;00m(key) \u001b[38;5;28;01mfrom\u001b[39;00m \u001b[38;5;21;01merr\u001b[39;00m\n\u001b[0;32m   3798\u001b[0m \u001b[38;5;28;01mexcept\u001b[39;00m \u001b[38;5;167;01mTypeError\u001b[39;00m:\n\u001b[0;32m   3799\u001b[0m     \u001b[38;5;66;03m# If we have a listlike key, _check_indexing_error will raise\u001b[39;00m\n\u001b[0;32m   3800\u001b[0m     \u001b[38;5;66;03m#  InvalidIndexError. Otherwise we fall through and re-raise\u001b[39;00m\n\u001b[0;32m   3801\u001b[0m     \u001b[38;5;66;03m#  the TypeError.\u001b[39;00m\n\u001b[0;32m   3802\u001b[0m     \u001b[38;5;28mself\u001b[39m\u001b[38;5;241m.\u001b[39m_check_indexing_error(key)\n",
      "\u001b[1;31mKeyError\u001b[0m: 'Mujeres'"
     ]
    }
   ],
   "source": [
    "# En el mismo orden!\n",
    "cuenca_series['Mujeres']"
   ]
  },
  {
   "cell_type": "code",
   "execution_count": 20,
   "metadata": {},
   "outputs": [
    {
     "name": "stderr",
     "output_type": "stream",
     "text": [
      "C:\\Users\\jonat\\AppData\\Local\\Temp\\ipykernel_15288\\362204329.py:2: PerformanceWarning: indexing past lexsort depth may impact performance.\n",
      "  cuenca_series[16, 'Mujeres']\n"
     ]
    },
    {
     "data": {
      "text/plain": [
       "anno\n",
       "2023     98002.0\n",
       "2022     97186.0\n",
       "2021     97398.0\n",
       "2020     97709.0\n",
       "2019     97787.0\n",
       "2018     98223.0\n",
       "2017     98897.0\n",
       "2016     99974.0\n",
       "2015    101258.0\n",
       "2014    102863.0\n",
       "2013    104788.0\n",
       "2012    107576.0\n",
       "2011    108086.0\n",
       "2010    107332.0\n",
       "2009    107081.0\n",
       "2008    106216.0\n",
       "2007    104742.0\n",
       "2006    103548.0\n",
       "2005    103062.0\n",
       "2004    101599.0\n",
       "2003    100942.0\n",
       "2002    100566.0\n",
       "2001    100896.0\n",
       "2000    100927.0\n",
       "1999    100875.0\n",
       "1998    100055.0\n",
       "1997         NaN\n",
       "1996    101325.0\n",
       "Name: total, dtype: float64"
      ]
     },
     "execution_count": 20,
     "metadata": {},
     "output_type": "execute_result"
    }
   ],
   "source": [
    "# En el mismo orden!\n",
    "cuenca_series[16, 'Mujeres']"
   ]
  },
  {
   "cell_type": "markdown",
   "metadata": {
    "deletable": true,
    "editable": true
   },
   "source": [
    "El corte parcial también está disponible, siempre que el ``MultiIndex``:"
   ]
  },
  {
   "cell_type": "code",
   "execution_count": 29,
   "metadata": {
    "collapsed": false,
    "deletable": true,
    "editable": true,
    "jupyter": {
     "outputs_hidden": false
    }
   },
   "outputs": [],
   "source": [
    "index = [('California', 2000), ('California', 2010),\n",
    "         ('New York', 2000), ('New York', 2010),\n",
    "         ('Texas', 2000), ('Texas', 2010)]\n",
    "populations = [33871648, 37253956,\n",
    "               18976457, 19378102,\n",
    "               20851820, 25145561]\n",
    "pop = pd.Series(populations, index=index)\n",
    "index = pd.MultiIndex.from_tuples(index)\n",
    "pop = pop.reindex(index)\n"
   ]
  },
  {
   "cell_type": "code",
   "execution_count": 32,
   "metadata": {},
   "outputs": [
    {
     "data": {
      "text/plain": [
       "California  2000    33871648\n",
       "            2010    37253956\n",
       "New York    2000    18976457\n",
       "            2010    19378102\n",
       "dtype: int64"
      ]
     },
     "execution_count": 32,
     "metadata": {},
     "output_type": "execute_result"
    }
   ],
   "source": [
    "pop['California':'New York']"
   ]
  },
  {
   "cell_type": "code",
   "execution_count": 50,
   "metadata": {},
   "outputs": [
    {
     "data": {
      "text/plain": [
       "municipios  sexo     anno\n",
       "16906       Mujeres  2007    470.0\n",
       "                     2006    480.0\n",
       "                     2005    500.0\n",
       "                     2004    490.0\n",
       "                     2003    490.0\n",
       "                             ...  \n",
       "16224       Mujeres  2016    420.0\n",
       "                     2015    430.0\n",
       "                     2014    410.0\n",
       "                     2013    400.0\n",
       "                     2012    430.0\n",
       "Name: total, Length: 80, dtype: float64"
      ]
     },
     "execution_count": 50,
     "metadata": {},
     "output_type": "execute_result"
    }
   ],
   "source": [
    "cuenca_series[16200:16280]"
   ]
  },
  {
   "cell_type": "markdown",
   "metadata": {
    "deletable": true,
    "editable": true
   },
   "source": [
    "Con índices ordenados, se puede realizar una indexación parcial en niveles inferiores pasando una rebanada vacía en el primer índice:"
   ]
  },
  {
   "cell_type": "code",
   "execution_count": 34,
   "metadata": {
    "collapsed": false,
    "deletable": true,
    "editable": true,
    "jupyter": {
     "outputs_hidden": false
    }
   },
   "outputs": [
    {
     "data": {
      "text/plain": [
       "California    33871648\n",
       "New York      18976457\n",
       "Texas         20851820\n",
       "dtype: int64"
      ]
     },
     "execution_count": 34,
     "metadata": {},
     "output_type": "execute_result"
    }
   ],
   "source": [
    "pop[:, 2000]"
   ]
  },
  {
   "cell_type": "code",
   "execution_count": 37,
   "metadata": {},
   "outputs": [
    {
     "data": {
      "text/html": [
       "<div>\n",
       "<style scoped>\n",
       "    .dataframe tbody tr th:only-of-type {\n",
       "        vertical-align: middle;\n",
       "    }\n",
       "\n",
       "    .dataframe tbody tr th {\n",
       "        vertical-align: top;\n",
       "    }\n",
       "\n",
       "    .dataframe thead th {\n",
       "        text-align: right;\n",
       "    }\n",
       "</style>\n",
       "<table border=\"1\" class=\"dataframe\">\n",
       "  <thead>\n",
       "    <tr style=\"text-align: right;\">\n",
       "      <th></th>\n",
       "      <th></th>\n",
       "      <th></th>\n",
       "      <th>total</th>\n",
       "    </tr>\n",
       "    <tr>\n",
       "      <th>municipios</th>\n",
       "      <th>sexo</th>\n",
       "      <th>anno</th>\n",
       "      <th></th>\n",
       "    </tr>\n",
       "  </thead>\n",
       "  <tbody>\n",
       "    <tr>\n",
       "      <th rowspan=\"5\" valign=\"top\">16</th>\n",
       "      <th rowspan=\"5\" valign=\"top\">Total</th>\n",
       "      <th>2023</th>\n",
       "      <td>197139.0</td>\n",
       "    </tr>\n",
       "    <tr>\n",
       "      <th>2022</th>\n",
       "      <td>195215.0</td>\n",
       "    </tr>\n",
       "    <tr>\n",
       "      <th>2021</th>\n",
       "      <td>195516.0</td>\n",
       "    </tr>\n",
       "    <tr>\n",
       "      <th>2020</th>\n",
       "      <td>196139.0</td>\n",
       "    </tr>\n",
       "    <tr>\n",
       "      <th>2019</th>\n",
       "      <td>196329.0</td>\n",
       "    </tr>\n",
       "    <tr>\n",
       "      <th>...</th>\n",
       "      <th>...</th>\n",
       "      <th>...</th>\n",
       "      <td>...</td>\n",
       "    </tr>\n",
       "    <tr>\n",
       "      <th rowspan=\"5\" valign=\"top\">16280</th>\n",
       "      <th rowspan=\"5\" valign=\"top\">Mujeres</th>\n",
       "      <th>2000</th>\n",
       "      <td>1470.0</td>\n",
       "    </tr>\n",
       "    <tr>\n",
       "      <th>1999</th>\n",
       "      <td>1500.0</td>\n",
       "    </tr>\n",
       "    <tr>\n",
       "      <th>1998</th>\n",
       "      <td>1480.0</td>\n",
       "    </tr>\n",
       "    <tr>\n",
       "      <th>1997</th>\n",
       "      <td>NaN</td>\n",
       "    </tr>\n",
       "    <tr>\n",
       "      <th>1996</th>\n",
       "      <td>1530.0</td>\n",
       "    </tr>\n",
       "  </tbody>\n",
       "</table>\n",
       "<p>20076 rows × 1 columns</p>\n",
       "</div>"
      ],
      "text/plain": [
       "                            total\n",
       "municipios sexo    anno          \n",
       "16         Total   2023  197139.0\n",
       "                   2022  195215.0\n",
       "                   2021  195516.0\n",
       "                   2020  196139.0\n",
       "                   2019  196329.0\n",
       "...                           ...\n",
       "16280      Mujeres 2000    1470.0\n",
       "                   1999    1500.0\n",
       "                   1998    1480.0\n",
       "                   1997       NaN\n",
       "                   1996    1530.0\n",
       "\n",
       "[20076 rows x 1 columns]"
      ]
     },
     "execution_count": 37,
     "metadata": {},
     "output_type": "execute_result"
    }
   ],
   "source": [
    "cuenca_series"
   ]
  },
  {
   "cell_type": "code",
   "execution_count": 42,
   "metadata": {},
   "outputs": [
    {
     "data": {
      "text/plain": [
       "municipios\n",
       "16       201053.0\n",
       "16001       850.0\n",
       "16002      2840.0\n",
       "16003      2080.0\n",
       "16004      4110.0\n",
       "           ...   \n",
       "16276       320.0\n",
       "16277      2010.0\n",
       "16278      1320.0\n",
       "16279      2700.0\n",
       "16280      2950.0\n",
       "Name: total, Length: 239, dtype: float64"
      ]
     },
     "execution_count": 42,
     "metadata": {},
     "output_type": "execute_result"
    }
   ],
   "source": [
    "cuenca_series[:, 'Total', 2000]"
   ]
  },
  {
   "cell_type": "markdown",
   "metadata": {
    "deletable": true,
    "editable": true
   },
   "source": [
    "También funcionan otros tipos de indexación y selección (tratados en [Indexación y selección de datos](02_Data-Indexing-and-Selection.ipynb)); por ejemplo, la selección basada en máscaras booleanas:"
   ]
  },
  {
   "cell_type": "code",
   "execution_count": 48,
   "metadata": {
    "collapsed": false,
    "deletable": true,
    "editable": true,
    "jupyter": {
     "outputs_hidden": false
    }
   },
   "outputs": [
    {
     "data": {
      "text/plain": [
       "California  2000    33871648\n",
       "            2010    37253956\n",
       "Texas       2010    25145561\n",
       "dtype: int64"
      ]
     },
     "execution_count": 48,
     "metadata": {},
     "output_type": "execute_result"
    }
   ],
   "source": [
    "pop[pop > 22000000]"
   ]
  },
  {
   "cell_type": "code",
   "execution_count": 51,
   "metadata": {},
   "outputs": [
    {
     "data": {
      "text/plain": [
       "municipios  sexo   anno\n",
       "16          Total  2023    197139.0\n",
       "                   2022    195215.0\n",
       "                   2021    195516.0\n",
       "                   2020    196139.0\n",
       "                   2019    196329.0\n",
       "                             ...   \n",
       "16078       Total  2012     57032.0\n",
       "                   2011     56703.0\n",
       "                   2010     56189.0\n",
       "                   2009     55866.0\n",
       "                   2006     51205.0\n",
       "Name: total, Length: 92, dtype: float64"
      ]
     },
     "execution_count": 51,
     "metadata": {},
     "output_type": "execute_result"
    }
   ],
   "source": [
    "cuenca_series[cuenca_series > 50000]"
   ]
  },
  {
   "cell_type": "markdown",
   "metadata": {
    "deletable": true,
    "editable": true
   },
   "source": [
    "La selección basada en una indexación elegante también funciona:"
   ]
  },
  {
   "cell_type": "code",
   "execution_count": null,
   "metadata": {
    "collapsed": false,
    "deletable": true,
    "editable": true,
    "jupyter": {
     "outputs_hidden": false
    }
   },
   "outputs": [],
   "source": [
    "pop[['California', 'Texas']]"
   ]
  },
  {
   "cell_type": "markdown",
   "metadata": {
    "deletable": true,
    "editable": true
   },
   "source": [
    "### Multiply indexed DataFrames\n",
    "\n",
    "Un ``DataFrame`` con índices múltiples se comporta de forma similar.\n",
    "Consideremos nuestro ``DataFrame`` médico de juguete de antes:"
   ]
  },
  {
   "cell_type": "code",
   "execution_count": 52,
   "metadata": {
    "collapsed": false,
    "deletable": true,
    "editable": true,
    "jupyter": {
     "outputs_hidden": false
    }
   },
   "outputs": [
    {
     "data": {
      "text/html": [
       "<div>\n",
       "<style scoped>\n",
       "    .dataframe tbody tr th:only-of-type {\n",
       "        vertical-align: middle;\n",
       "    }\n",
       "\n",
       "    .dataframe tbody tr th {\n",
       "        vertical-align: top;\n",
       "    }\n",
       "\n",
       "    .dataframe thead tr th {\n",
       "        text-align: left;\n",
       "    }\n",
       "\n",
       "    .dataframe thead tr:last-of-type th {\n",
       "        text-align: right;\n",
       "    }\n",
       "</style>\n",
       "<table border=\"1\" class=\"dataframe\">\n",
       "  <thead>\n",
       "    <tr>\n",
       "      <th></th>\n",
       "      <th>subject</th>\n",
       "      <th colspan=\"2\" halign=\"left\">Bob</th>\n",
       "      <th colspan=\"2\" halign=\"left\">Guido</th>\n",
       "      <th colspan=\"2\" halign=\"left\">Sue</th>\n",
       "    </tr>\n",
       "    <tr>\n",
       "      <th></th>\n",
       "      <th>type</th>\n",
       "      <th>HR</th>\n",
       "      <th>Temp</th>\n",
       "      <th>HR</th>\n",
       "      <th>Temp</th>\n",
       "      <th>HR</th>\n",
       "      <th>Temp</th>\n",
       "    </tr>\n",
       "    <tr>\n",
       "      <th>year</th>\n",
       "      <th>visit</th>\n",
       "      <th></th>\n",
       "      <th></th>\n",
       "      <th></th>\n",
       "      <th></th>\n",
       "      <th></th>\n",
       "      <th></th>\n",
       "    </tr>\n",
       "  </thead>\n",
       "  <tbody>\n",
       "    <tr>\n",
       "      <th rowspan=\"2\" valign=\"top\">2013</th>\n",
       "      <th>1</th>\n",
       "      <td>39.0</td>\n",
       "      <td>37.7</td>\n",
       "      <td>39.0</td>\n",
       "      <td>35.7</td>\n",
       "      <td>28.0</td>\n",
       "      <td>37.4</td>\n",
       "    </tr>\n",
       "    <tr>\n",
       "      <th>2</th>\n",
       "      <td>19.0</td>\n",
       "      <td>36.7</td>\n",
       "      <td>39.0</td>\n",
       "      <td>35.7</td>\n",
       "      <td>32.0</td>\n",
       "      <td>37.8</td>\n",
       "    </tr>\n",
       "    <tr>\n",
       "      <th rowspan=\"2\" valign=\"top\">2014</th>\n",
       "      <th>1</th>\n",
       "      <td>38.0</td>\n",
       "      <td>37.8</td>\n",
       "      <td>41.0</td>\n",
       "      <td>36.6</td>\n",
       "      <td>44.0</td>\n",
       "      <td>38.3</td>\n",
       "    </tr>\n",
       "    <tr>\n",
       "      <th>2</th>\n",
       "      <td>38.0</td>\n",
       "      <td>38.0</td>\n",
       "      <td>33.0</td>\n",
       "      <td>35.7</td>\n",
       "      <td>36.0</td>\n",
       "      <td>37.2</td>\n",
       "    </tr>\n",
       "  </tbody>\n",
       "</table>\n",
       "</div>"
      ],
      "text/plain": [
       "subject      Bob       Guido         Sue      \n",
       "type          HR  Temp    HR  Temp    HR  Temp\n",
       "year visit                                    \n",
       "2013 1      39.0  37.7  39.0  35.7  28.0  37.4\n",
       "     2      19.0  36.7  39.0  35.7  32.0  37.8\n",
       "2014 1      38.0  37.8  41.0  36.6  44.0  38.3\n",
       "     2      38.0  38.0  33.0  35.7  36.0  37.2"
      ]
     },
     "execution_count": 52,
     "metadata": {},
     "output_type": "execute_result"
    }
   ],
   "source": [
    "health_data"
   ]
  },
  {
   "cell_type": "markdown",
   "metadata": {
    "deletable": true,
    "editable": true
   },
   "source": [
    "Recuerde que las columnas son primarias en un ``DataFrame``, y que la sintaxis utilizada para las ``Series`` con índices múltiples se aplica a las columnas.\n",
    "Por ejemplo, podemos recuperar los datos de la frecuencia cardíaca de Guido con una simple operación:"
   ]
  },
  {
   "cell_type": "code",
   "execution_count": 53,
   "metadata": {
    "collapsed": false,
    "deletable": true,
    "editable": true,
    "jupyter": {
     "outputs_hidden": false
    }
   },
   "outputs": [
    {
     "data": {
      "text/plain": [
       "year  visit\n",
       "2013  1        39.0\n",
       "      2        39.0\n",
       "2014  1        41.0\n",
       "      2        33.0\n",
       "Name: (Guido, HR), dtype: float64"
      ]
     },
     "execution_count": 53,
     "metadata": {},
     "output_type": "execute_result"
    }
   ],
   "source": [
    "health_data['Guido', 'HR']"
   ]
  },
  {
   "cell_type": "code",
   "execution_count": 59,
   "metadata": {},
   "outputs": [
    {
     "data": {
      "text/plain": [
       "municipios  sexo     anno\n",
       "16          Total    2023    197139.0\n",
       "                     2022    195215.0\n",
       "                     2021    195516.0\n",
       "                     2020    196139.0\n",
       "                     2019    196329.0\n",
       "                               ...   \n",
       "16280       Mujeres  2000      1470.0\n",
       "                     1999      1500.0\n",
       "                     1998      1480.0\n",
       "                     1997         NaN\n",
       "                     1996      1530.0\n",
       "Name: total, Length: 20076, dtype: float64"
      ]
     },
     "execution_count": 59,
     "metadata": {},
     "output_type": "execute_result"
    }
   ],
   "source": [
    "cuenca['total']"
   ]
  },
  {
   "cell_type": "markdown",
   "metadata": {
    "deletable": true,
    "editable": true
   },
   "source": [
    "Además, como en el caso del índice único, podemos utilizar los indexadores ``loc``, ``iloc`` y ``ix`` introducidos en [Indexación y selección de datos](03.02-Indexación y selección de datos.ipynb). Por ejemplo:"
   ]
  },
  {
   "cell_type": "code",
   "execution_count": 60,
   "metadata": {
    "collapsed": false,
    "deletable": true,
    "editable": true,
    "jupyter": {
     "outputs_hidden": false
    }
   },
   "outputs": [
    {
     "data": {
      "text/html": [
       "<div>\n",
       "<style scoped>\n",
       "    .dataframe tbody tr th:only-of-type {\n",
       "        vertical-align: middle;\n",
       "    }\n",
       "\n",
       "    .dataframe tbody tr th {\n",
       "        vertical-align: top;\n",
       "    }\n",
       "\n",
       "    .dataframe thead tr th {\n",
       "        text-align: left;\n",
       "    }\n",
       "\n",
       "    .dataframe thead tr:last-of-type th {\n",
       "        text-align: right;\n",
       "    }\n",
       "</style>\n",
       "<table border=\"1\" class=\"dataframe\">\n",
       "  <thead>\n",
       "    <tr>\n",
       "      <th></th>\n",
       "      <th>subject</th>\n",
       "      <th colspan=\"2\" halign=\"left\">Bob</th>\n",
       "    </tr>\n",
       "    <tr>\n",
       "      <th></th>\n",
       "      <th>type</th>\n",
       "      <th>HR</th>\n",
       "      <th>Temp</th>\n",
       "    </tr>\n",
       "    <tr>\n",
       "      <th>year</th>\n",
       "      <th>visit</th>\n",
       "      <th></th>\n",
       "      <th></th>\n",
       "    </tr>\n",
       "  </thead>\n",
       "  <tbody>\n",
       "    <tr>\n",
       "      <th rowspan=\"2\" valign=\"top\">2013</th>\n",
       "      <th>1</th>\n",
       "      <td>39.0</td>\n",
       "      <td>37.7</td>\n",
       "    </tr>\n",
       "    <tr>\n",
       "      <th>2</th>\n",
       "      <td>19.0</td>\n",
       "      <td>36.7</td>\n",
       "    </tr>\n",
       "  </tbody>\n",
       "</table>\n",
       "</div>"
      ],
      "text/plain": [
       "subject      Bob      \n",
       "type          HR  Temp\n",
       "year visit            \n",
       "2013 1      39.0  37.7\n",
       "     2      19.0  36.7"
      ]
     },
     "execution_count": 60,
     "metadata": {},
     "output_type": "execute_result"
    }
   ],
   "source": [
    "health_data.iloc[:2, :2]"
   ]
  },
  {
   "cell_type": "code",
   "execution_count": 61,
   "metadata": {},
   "outputs": [
    {
     "data": {
      "text/html": [
       "<div>\n",
       "<style scoped>\n",
       "    .dataframe tbody tr th:only-of-type {\n",
       "        vertical-align: middle;\n",
       "    }\n",
       "\n",
       "    .dataframe tbody tr th {\n",
       "        vertical-align: top;\n",
       "    }\n",
       "\n",
       "    .dataframe thead th {\n",
       "        text-align: right;\n",
       "    }\n",
       "</style>\n",
       "<table border=\"1\" class=\"dataframe\">\n",
       "  <thead>\n",
       "    <tr style=\"text-align: right;\">\n",
       "      <th></th>\n",
       "      <th></th>\n",
       "      <th></th>\n",
       "      <th>total</th>\n",
       "    </tr>\n",
       "    <tr>\n",
       "      <th>municipios</th>\n",
       "      <th>sexo</th>\n",
       "      <th>anno</th>\n",
       "      <th></th>\n",
       "    </tr>\n",
       "  </thead>\n",
       "  <tbody>\n",
       "    <tr>\n",
       "      <th rowspan=\"2\" valign=\"top\">16</th>\n",
       "      <th rowspan=\"2\" valign=\"top\">Total</th>\n",
       "      <th>2023</th>\n",
       "      <td>197139.0</td>\n",
       "    </tr>\n",
       "    <tr>\n",
       "      <th>2022</th>\n",
       "      <td>195215.0</td>\n",
       "    </tr>\n",
       "  </tbody>\n",
       "</table>\n",
       "</div>"
      ],
      "text/plain": [
       "                          total\n",
       "municipios sexo  anno          \n",
       "16         Total 2023  197139.0\n",
       "                 2022  195215.0"
      ]
     },
     "execution_count": 61,
     "metadata": {},
     "output_type": "execute_result"
    }
   ],
   "source": [
    "cuenca.iloc[:2, :2]"
   ]
  },
  {
   "cell_type": "code",
   "execution_count": 68,
   "metadata": {},
   "outputs": [],
   "source": [
    "cuenca_unstack = cuenca.unstack()"
   ]
  },
  {
   "cell_type": "code",
   "execution_count": 69,
   "metadata": {},
   "outputs": [
    {
     "data": {
      "text/html": [
       "<div>\n",
       "<style scoped>\n",
       "    .dataframe tbody tr th:only-of-type {\n",
       "        vertical-align: middle;\n",
       "    }\n",
       "\n",
       "    .dataframe tbody tr th {\n",
       "        vertical-align: top;\n",
       "    }\n",
       "\n",
       "    .dataframe thead tr th {\n",
       "        text-align: left;\n",
       "    }\n",
       "\n",
       "    .dataframe thead tr:last-of-type th {\n",
       "        text-align: right;\n",
       "    }\n",
       "</style>\n",
       "<table border=\"1\" class=\"dataframe\">\n",
       "  <thead>\n",
       "    <tr>\n",
       "      <th></th>\n",
       "      <th></th>\n",
       "      <th colspan=\"21\" halign=\"left\">total</th>\n",
       "    </tr>\n",
       "    <tr>\n",
       "      <th></th>\n",
       "      <th>anno</th>\n",
       "      <th>1996</th>\n",
       "      <th>1997</th>\n",
       "      <th>1998</th>\n",
       "      <th>1999</th>\n",
       "      <th>2000</th>\n",
       "      <th>2001</th>\n",
       "      <th>2002</th>\n",
       "      <th>2003</th>\n",
       "      <th>2004</th>\n",
       "      <th>2005</th>\n",
       "      <th>...</th>\n",
       "      <th>2014</th>\n",
       "      <th>2015</th>\n",
       "      <th>2016</th>\n",
       "      <th>2017</th>\n",
       "      <th>2018</th>\n",
       "      <th>2019</th>\n",
       "      <th>2020</th>\n",
       "      <th>2021</th>\n",
       "      <th>2022</th>\n",
       "      <th>2023</th>\n",
       "    </tr>\n",
       "    <tr>\n",
       "      <th>municipios</th>\n",
       "      <th>sexo</th>\n",
       "      <th></th>\n",
       "      <th></th>\n",
       "      <th></th>\n",
       "      <th></th>\n",
       "      <th></th>\n",
       "      <th></th>\n",
       "      <th></th>\n",
       "      <th></th>\n",
       "      <th></th>\n",
       "      <th></th>\n",
       "      <th></th>\n",
       "      <th></th>\n",
       "      <th></th>\n",
       "      <th></th>\n",
       "      <th></th>\n",
       "      <th></th>\n",
       "      <th></th>\n",
       "      <th></th>\n",
       "      <th></th>\n",
       "      <th></th>\n",
       "      <th></th>\n",
       "    </tr>\n",
       "  </thead>\n",
       "  <tbody>\n",
       "    <tr>\n",
       "      <th rowspan=\"3\" valign=\"top\">16</th>\n",
       "      <th>Hombres</th>\n",
       "      <td>100387.0</td>\n",
       "      <td>NaN</td>\n",
       "      <td>99031.0</td>\n",
       "      <td>100088.0</td>\n",
       "      <td>100126.0</td>\n",
       "      <td>10063.0</td>\n",
       "      <td>101048.0</td>\n",
       "      <td>10204.0</td>\n",
       "      <td>102947.0</td>\n",
       "      <td>104912.0</td>\n",
       "      <td>...</td>\n",
       "      <td>104586.0</td>\n",
       "      <td>102583.0</td>\n",
       "      <td>101097.0</td>\n",
       "      <td>99821.0</td>\n",
       "      <td>98999.0</td>\n",
       "      <td>98542.0</td>\n",
       "      <td>9843.0</td>\n",
       "      <td>98118.0</td>\n",
       "      <td>98029.0</td>\n",
       "      <td>99137.0</td>\n",
       "    </tr>\n",
       "    <tr>\n",
       "      <th>Mujeres</th>\n",
       "      <td>101325.0</td>\n",
       "      <td>NaN</td>\n",
       "      <td>100055.0</td>\n",
       "      <td>100875.0</td>\n",
       "      <td>100927.0</td>\n",
       "      <td>100896.0</td>\n",
       "      <td>100566.0</td>\n",
       "      <td>100942.0</td>\n",
       "      <td>101599.0</td>\n",
       "      <td>103062.0</td>\n",
       "      <td>...</td>\n",
       "      <td>102863.0</td>\n",
       "      <td>101258.0</td>\n",
       "      <td>99974.0</td>\n",
       "      <td>98897.0</td>\n",
       "      <td>98223.0</td>\n",
       "      <td>97787.0</td>\n",
       "      <td>97709.0</td>\n",
       "      <td>97398.0</td>\n",
       "      <td>97186.0</td>\n",
       "      <td>98002.0</td>\n",
       "    </tr>\n",
       "    <tr>\n",
       "      <th>Total</th>\n",
       "      <td>201712.0</td>\n",
       "      <td>NaN</td>\n",
       "      <td>199086.0</td>\n",
       "      <td>200963.0</td>\n",
       "      <td>201053.0</td>\n",
       "      <td>201526.0</td>\n",
       "      <td>201614.0</td>\n",
       "      <td>202982.0</td>\n",
       "      <td>204546.0</td>\n",
       "      <td>207974.0</td>\n",
       "      <td>...</td>\n",
       "      <td>207449.0</td>\n",
       "      <td>203841.0</td>\n",
       "      <td>201071.0</td>\n",
       "      <td>198718.0</td>\n",
       "      <td>197222.0</td>\n",
       "      <td>196329.0</td>\n",
       "      <td>196139.0</td>\n",
       "      <td>195516.0</td>\n",
       "      <td>195215.0</td>\n",
       "      <td>197139.0</td>\n",
       "    </tr>\n",
       "    <tr>\n",
       "      <th rowspan=\"2\" valign=\"top\">16001</th>\n",
       "      <th>Hombres</th>\n",
       "      <td>500.0</td>\n",
       "      <td>NaN</td>\n",
       "      <td>480.0</td>\n",
       "      <td>460.0</td>\n",
       "      <td>460.0</td>\n",
       "      <td>450.0</td>\n",
       "      <td>490.0</td>\n",
       "      <td>490.0</td>\n",
       "      <td>480.0</td>\n",
       "      <td>480.0</td>\n",
       "      <td>...</td>\n",
       "      <td>500.0</td>\n",
       "      <td>490.0</td>\n",
       "      <td>480.0</td>\n",
       "      <td>400.0</td>\n",
       "      <td>390.0</td>\n",
       "      <td>400.0</td>\n",
       "      <td>370.0</td>\n",
       "      <td>350.0</td>\n",
       "      <td>370.0</td>\n",
       "      <td>380.0</td>\n",
       "    </tr>\n",
       "    <tr>\n",
       "      <th>Mujeres</th>\n",
       "      <td>430.0</td>\n",
       "      <td>NaN</td>\n",
       "      <td>400.0</td>\n",
       "      <td>390.0</td>\n",
       "      <td>390.0</td>\n",
       "      <td>380.0</td>\n",
       "      <td>360.0</td>\n",
       "      <td>400.0</td>\n",
       "      <td>400.0</td>\n",
       "      <td>360.0</td>\n",
       "      <td>...</td>\n",
       "      <td>300.0</td>\n",
       "      <td>280.0</td>\n",
       "      <td>290.0</td>\n",
       "      <td>260.0</td>\n",
       "      <td>250.0</td>\n",
       "      <td>250.0</td>\n",
       "      <td>240.0</td>\n",
       "      <td>220.0</td>\n",
       "      <td>230.0</td>\n",
       "      <td>230.0</td>\n",
       "    </tr>\n",
       "  </tbody>\n",
       "</table>\n",
       "<p>5 rows × 28 columns</p>\n",
       "</div>"
      ],
      "text/plain": [
       "                       total                                               \\\n",
       "anno                    1996 1997      1998      1999      2000      2001   \n",
       "municipios sexo                                                             \n",
       "16         Hombres  100387.0  NaN   99031.0  100088.0  100126.0   10063.0   \n",
       "           Mujeres  101325.0  NaN  100055.0  100875.0  100927.0  100896.0   \n",
       "           Total    201712.0  NaN  199086.0  200963.0  201053.0  201526.0   \n",
       "16001      Hombres     500.0  NaN     480.0     460.0     460.0     450.0   \n",
       "           Mujeres     430.0  NaN     400.0     390.0     390.0     380.0   \n",
       "\n",
       "                                                            ...            \\\n",
       "anno                    2002      2003      2004      2005  ...      2014   \n",
       "municipios sexo                                             ...             \n",
       "16         Hombres  101048.0   10204.0  102947.0  104912.0  ...  104586.0   \n",
       "           Mujeres  100566.0  100942.0  101599.0  103062.0  ...  102863.0   \n",
       "           Total    201614.0  202982.0  204546.0  207974.0  ...  207449.0   \n",
       "16001      Hombres     490.0     490.0     480.0     480.0  ...     500.0   \n",
       "           Mujeres     360.0     400.0     400.0     360.0  ...     300.0   \n",
       "\n",
       "                                                                      \\\n",
       "anno                    2015      2016      2017      2018      2019   \n",
       "municipios sexo                                                        \n",
       "16         Hombres  102583.0  101097.0   99821.0   98999.0   98542.0   \n",
       "           Mujeres  101258.0   99974.0   98897.0   98223.0   97787.0   \n",
       "           Total    203841.0  201071.0  198718.0  197222.0  196329.0   \n",
       "16001      Hombres     490.0     480.0     400.0     390.0     400.0   \n",
       "           Mujeres     280.0     290.0     260.0     250.0     250.0   \n",
       "\n",
       "                                                            \n",
       "anno                    2020      2021      2022      2023  \n",
       "municipios sexo                                             \n",
       "16         Hombres    9843.0   98118.0   98029.0   99137.0  \n",
       "           Mujeres   97709.0   97398.0   97186.0   98002.0  \n",
       "           Total    196139.0  195516.0  195215.0  197139.0  \n",
       "16001      Hombres     370.0     350.0     370.0     380.0  \n",
       "           Mujeres     240.0     220.0     230.0     230.0  \n",
       "\n",
       "[5 rows x 28 columns]"
      ]
     },
     "execution_count": 69,
     "metadata": {},
     "output_type": "execute_result"
    }
   ],
   "source": [
    "cuenca_unstack.head()"
   ]
  },
  {
   "cell_type": "markdown",
   "metadata": {
    "deletable": true,
    "editable": true
   },
   "source": [
    "Estos indexadores proporcionan una vista similar a un array de los datos bidimensionales subyacentes, pero a cada índice individual de ``loc`` o ``iloc`` se le puede pasar una tupla de múltiples índices. Por ejemplo:"
   ]
  },
  {
   "cell_type": "code",
   "execution_count": null,
   "metadata": {
    "collapsed": false,
    "deletable": true,
    "editable": true,
    "jupyter": {
     "outputs_hidden": false
    }
   },
   "outputs": [],
   "source": [
    "health_data.loc[:, ('Bob', 'HR')]"
   ]
  },
  {
   "cell_type": "code",
   "execution_count": 72,
   "metadata": {},
   "outputs": [
    {
     "data": {
      "text/plain": [
       "municipios  sexo   \n",
       "16          Hombres    100387.0\n",
       "            Mujeres    101325.0\n",
       "            Total      201712.0\n",
       "16001       Hombres       500.0\n",
       "            Mujeres       430.0\n",
       "                         ...   \n",
       "16909       Mujeres      5000.0\n",
       "            Total        9840.0\n",
       "16910       Hombres       750.0\n",
       "            Mujeres       660.0\n",
       "            Total        1410.0\n",
       "Name: (total, 1996), Length: 717, dtype: float64"
      ]
     },
     "execution_count": 72,
     "metadata": {},
     "output_type": "execute_result"
    }
   ],
   "source": [
    "cuenca_unstack.loc[:, ('total', 1996)]"
   ]
  },
  {
   "cell_type": "markdown",
   "metadata": {
    "deletable": true,
    "editable": true
   },
   "source": [
    "Trabajar con trozos dentro de estas tuplas de índice no es especialmente cómodo; intentar crear un trozo dentro de una tupla provocará un error de sintaxis:"
   ]
  },
  {
   "cell_type": "code",
   "execution_count": 73,
   "metadata": {
    "collapsed": false,
    "deletable": true,
    "editable": true,
    "jupyter": {
     "outputs_hidden": false
    }
   },
   "outputs": [
    {
     "ename": "SyntaxError",
     "evalue": "invalid syntax (3311942670.py, line 1)",
     "output_type": "error",
     "traceback": [
      "\u001b[1;36m  Cell \u001b[1;32mIn[73], line 1\u001b[1;36m\u001b[0m\n\u001b[1;33m    health_data.loc[(:, 1), (:, 'HR')]\u001b[0m\n\u001b[1;37m                     ^\u001b[0m\n\u001b[1;31mSyntaxError\u001b[0m\u001b[1;31m:\u001b[0m invalid syntax\n"
     ]
    }
   ],
   "source": [
    "health_data.loc[(:, 1), (:, 'HR')]"
   ]
  },
  {
   "cell_type": "markdown",
   "metadata": {
    "deletable": true,
    "editable": true
   },
   "source": [
    "Se podría evitar esto construyendo la porción deseada explícitamente usando la función ``slice()`` de Python, pero una mejor manera en este contexto es usar un objeto ``IndexSlice``, que Pandas proporciona precisamente para esta situación.\n",
    "Por ejemplo:"
   ]
  },
  {
   "cell_type": "code",
   "execution_count": 74,
   "metadata": {
    "collapsed": false,
    "deletable": true,
    "editable": true,
    "jupyter": {
     "outputs_hidden": false
    }
   },
   "outputs": [
    {
     "data": {
      "text/html": [
       "<div>\n",
       "<style scoped>\n",
       "    .dataframe tbody tr th:only-of-type {\n",
       "        vertical-align: middle;\n",
       "    }\n",
       "\n",
       "    .dataframe tbody tr th {\n",
       "        vertical-align: top;\n",
       "    }\n",
       "\n",
       "    .dataframe thead tr th {\n",
       "        text-align: left;\n",
       "    }\n",
       "\n",
       "    .dataframe thead tr:last-of-type th {\n",
       "        text-align: right;\n",
       "    }\n",
       "</style>\n",
       "<table border=\"1\" class=\"dataframe\">\n",
       "  <thead>\n",
       "    <tr>\n",
       "      <th></th>\n",
       "      <th>subject</th>\n",
       "      <th>Bob</th>\n",
       "      <th>Guido</th>\n",
       "      <th>Sue</th>\n",
       "    </tr>\n",
       "    <tr>\n",
       "      <th></th>\n",
       "      <th>type</th>\n",
       "      <th>HR</th>\n",
       "      <th>HR</th>\n",
       "      <th>HR</th>\n",
       "    </tr>\n",
       "    <tr>\n",
       "      <th>year</th>\n",
       "      <th>visit</th>\n",
       "      <th></th>\n",
       "      <th></th>\n",
       "      <th></th>\n",
       "    </tr>\n",
       "  </thead>\n",
       "  <tbody>\n",
       "    <tr>\n",
       "      <th>2013</th>\n",
       "      <th>1</th>\n",
       "      <td>39.0</td>\n",
       "      <td>39.0</td>\n",
       "      <td>28.0</td>\n",
       "    </tr>\n",
       "    <tr>\n",
       "      <th>2014</th>\n",
       "      <th>1</th>\n",
       "      <td>38.0</td>\n",
       "      <td>41.0</td>\n",
       "      <td>44.0</td>\n",
       "    </tr>\n",
       "  </tbody>\n",
       "</table>\n",
       "</div>"
      ],
      "text/plain": [
       "subject      Bob Guido   Sue\n",
       "type          HR    HR    HR\n",
       "year visit                  \n",
       "2013 1      39.0  39.0  28.0\n",
       "2014 1      38.0  41.0  44.0"
      ]
     },
     "execution_count": 74,
     "metadata": {},
     "output_type": "execute_result"
    }
   ],
   "source": [
    "idx = pd.IndexSlice\n",
    "health_data.loc[idx[:, 1], idx[:, 'HR']]"
   ]
  },
  {
   "cell_type": "markdown",
   "metadata": {
    "deletable": true,
    "editable": true
   },
   "source": [
    "Hay muchas formas de interactuar con los datos de las ``Series`` y los ``DataFrame`` multiíndices, y como ocurre con muchas de las herramientas de este libro, la mejor forma de familiarizarse con ellas es probarlas."
   ]
  },
  {
   "cell_type": "markdown",
   "metadata": {
    "deletable": true,
    "editable": true
   },
   "source": [
    "## Rearranging Multi-Indices\n",
    "\n",
    "Una de las claves para trabajar con datos de índices múltiples es saber cómo transformar los datos de forma eficaz.\n",
    "Hay una serie de operaciones que conservarán toda la información en el conjunto de datos, pero la reorganizarán a los efectos de diversos cálculos.\n",
    "Vimos un breve ejemplo de esto en los métodos ``stack()`` y ``unstack()``, pero hay muchas más formas de controlar finamente el reordenamiento de datos entre índices jerárquicos y columnas, y las exploraremos aquí."
   ]
  },
  {
   "cell_type": "markdown",
   "metadata": {
    "deletable": true,
    "editable": true
   },
   "source": [
    "### Índices ordenados y no ordenados\n",
    "\n",
    "Antes mencionamos brevemente una advertencia, pero deberíamos enfatizarla más aquí.\n",
    "*Muchas de las operaciones de corte ``MultiIndex`` fallarán si el índice no está ordenado.*\n",
    "Veámoslo aquí.\n",
    "\n",
    "Empezaremos creando unos simples datos multiíndice en los que los índices *no están lexográficamente ordenados*:"
   ]
  },
  {
   "cell_type": "code",
   "execution_count": 75,
   "metadata": {
    "collapsed": false,
    "deletable": true,
    "editable": true,
    "jupyter": {
     "outputs_hidden": false
    }
   },
   "outputs": [
    {
     "data": {
      "text/plain": [
       "char  int\n",
       "a     1      0.696129\n",
       "      2      0.728498\n",
       "c     1      0.620184\n",
       "      2      0.696450\n",
       "b     1      0.035970\n",
       "      2      0.832714\n",
       "dtype: float64"
      ]
     },
     "execution_count": 75,
     "metadata": {},
     "output_type": "execute_result"
    }
   ],
   "source": [
    "index = pd.MultiIndex.from_product([['a', 'c', 'b'], [1, 2]])\n",
    "data = pd.Series(np.random.rand(6), index=index)\n",
    "data.index.names = ['char', 'int']\n",
    "data"
   ]
  },
  {
   "cell_type": "markdown",
   "metadata": {
    "deletable": true,
    "editable": true
   },
   "source": [
    "Si intentamos tomar una porción parcial de este índice, se producirá un error:"
   ]
  },
  {
   "cell_type": "code",
   "execution_count": 76,
   "metadata": {
    "collapsed": false,
    "deletable": true,
    "editable": true,
    "jupyter": {
     "outputs_hidden": false
    }
   },
   "outputs": [
    {
     "name": "stdout",
     "output_type": "stream",
     "text": [
      "<class 'pandas.errors.UnsortedIndexError'>\n",
      "'Key length (1) was greater than MultiIndex lexsort depth (0)'\n"
     ]
    }
   ],
   "source": [
    "try:\n",
    "    data['a':'b']\n",
    "except KeyError as e:\n",
    "    print(type(e))\n",
    "    print(e)"
   ]
  },
  {
   "cell_type": "code",
   "execution_count": 86,
   "metadata": {},
   "outputs": [
    {
     "data": {
      "text/plain": [
       "sexo     anno\n",
       "Total    2023    197139.0\n",
       "         2022    195215.0\n",
       "         2021    195516.0\n",
       "         2020    196139.0\n",
       "         2019    196329.0\n",
       "                   ...   \n",
       "Mujeres  2000    100927.0\n",
       "         1999    100875.0\n",
       "         1998    100055.0\n",
       "         1997         NaN\n",
       "         1996    101325.0\n",
       "Name: total, Length: 84, dtype: float64"
      ]
     },
     "execution_count": 86,
     "metadata": {},
     "output_type": "execute_result"
    }
   ],
   "source": [
    "cuenca_series[16]"
   ]
  },
  {
   "cell_type": "code",
   "execution_count": 85,
   "metadata": {},
   "outputs": [
    {
     "data": {
      "text/plain": [
       "MultiIndex([(   16,   'Total', 2023),\n",
       "            (   16,   'Total', 2022),\n",
       "            (   16,   'Total', 2021),\n",
       "            (   16,   'Total', 2020),\n",
       "            (   16,   'Total', 2019),\n",
       "            (   16,   'Total', 2018),\n",
       "            (   16,   'Total', 2017),\n",
       "            (   16,   'Total', 2016),\n",
       "            (   16,   'Total', 2015),\n",
       "            (   16,   'Total', 2014),\n",
       "            ...\n",
       "            (16280, 'Mujeres', 2005),\n",
       "            (16280, 'Mujeres', 2004),\n",
       "            (16280, 'Mujeres', 2003),\n",
       "            (16280, 'Mujeres', 2002),\n",
       "            (16280, 'Mujeres', 2001),\n",
       "            (16280, 'Mujeres', 2000),\n",
       "            (16280, 'Mujeres', 1999),\n",
       "            (16280, 'Mujeres', 1998),\n",
       "            (16280, 'Mujeres', 1997),\n",
       "            (16280, 'Mujeres', 1996)],\n",
       "           names=['municipios', 'sexo', 'anno'], length=20076)"
      ]
     },
     "execution_count": 85,
     "metadata": {},
     "output_type": "execute_result"
    }
   ],
   "source": [
    "cuenca_series.index"
   ]
  },
  {
   "cell_type": "markdown",
   "metadata": {
    "deletable": true,
    "editable": true
   },
   "source": [
    "Aunque no queda del todo claro en el mensaje de error, esto se debe a que el MultiIndex no está ordenado.\n",
    "Por varias razones, los cortes parciales y otras operaciones similares requieren que los niveles del ``MultiIndex`` estén ordenados (es decir, lexográficamente).\n",
    "Pandas proporciona una serie de rutinas para realizar este tipo de ordenación; algunos ejemplos son los métodos ``sort_index()`` y ``sortlevel()`` del ``DataFrame``.\n",
    "Aquí usaremos el más simple, ``sort_index()``:"
   ]
  },
  {
   "cell_type": "code",
   "execution_count": null,
   "metadata": {
    "collapsed": false,
    "deletable": true,
    "editable": true,
    "jupyter": {
     "outputs_hidden": false
    }
   },
   "outputs": [],
   "source": [
    "data = data.sort_index()\n",
    "data"
   ]
  },
  {
   "cell_type": "code",
   "execution_count": 87,
   "metadata": {},
   "outputs": [
    {
     "data": {
      "text/plain": [
       "municipios  sexo     anno\n",
       "16          Hombres  1996    100387.0\n",
       "                     1997         NaN\n",
       "                     1998     99031.0\n",
       "                     1999    100088.0\n",
       "                     2000    100126.0\n",
       "                               ...   \n",
       "16910       Total    2019       770.0\n",
       "                     2020       750.0\n",
       "                     2021       730.0\n",
       "                     2022       790.0\n",
       "                     2023       780.0\n",
       "Name: total, Length: 20076, dtype: float64"
      ]
     },
     "execution_count": 87,
     "metadata": {},
     "output_type": "execute_result"
    }
   ],
   "source": [
    "cuenca_series = cuenca_series.sort_index()\n",
    "cuenca_series"
   ]
  },
  {
   "cell_type": "code",
   "execution_count": 90,
   "metadata": {},
   "outputs": [
    {
     "data": {
      "text/plain": [
       "sexo     anno\n",
       "Hombres  1996    100387.0\n",
       "         1997         NaN\n",
       "         1998     99031.0\n",
       "         1999    100088.0\n",
       "         2000    100126.0\n",
       "         2001     10063.0\n",
       "         2002    101048.0\n",
       "         2003     10204.0\n",
       "         2004    102947.0\n",
       "         2005    104912.0\n",
       "         2006    105068.0\n",
       "         2007    106633.0\n",
       "         2008    109058.0\n",
       "         2009    110282.0\n",
       "         2010    110384.0\n",
       "         2011    111052.0\n",
       "         2012     11046.0\n",
       "         2013    107111.0\n",
       "         2014    104586.0\n",
       "         2015    102583.0\n",
       "         2016    101097.0\n",
       "         2017     99821.0\n",
       "         2018     98999.0\n",
       "         2019     98542.0\n",
       "         2020      9843.0\n",
       "         2021     98118.0\n",
       "         2022     98029.0\n",
       "         2023     99137.0\n",
       "Mujeres  1996    101325.0\n",
       "         1997         NaN\n",
       "         1998    100055.0\n",
       "         1999    100875.0\n",
       "         2000    100927.0\n",
       "         2001    100896.0\n",
       "         2002    100566.0\n",
       "         2003    100942.0\n",
       "         2004    101599.0\n",
       "         2005    103062.0\n",
       "         2006    103548.0\n",
       "         2007    104742.0\n",
       "         2008    106216.0\n",
       "         2009    107081.0\n",
       "         2010    107332.0\n",
       "         2011    108086.0\n",
       "         2012    107576.0\n",
       "         2013    104788.0\n",
       "         2014    102863.0\n",
       "         2015    101258.0\n",
       "         2016     99974.0\n",
       "         2017     98897.0\n",
       "         2018     98223.0\n",
       "         2019     97787.0\n",
       "         2020     97709.0\n",
       "         2021     97398.0\n",
       "         2022     97186.0\n",
       "         2023     98002.0\n",
       "Name: total, dtype: float64"
      ]
     },
     "execution_count": 90,
     "metadata": {},
     "output_type": "execute_result"
    }
   ],
   "source": [
    "cuenca_series[16]['Hombres':'Mujeres']"
   ]
  },
  {
   "cell_type": "markdown",
   "metadata": {
    "deletable": true,
    "editable": true
   },
   "source": [
    "Con el índice ordenado de esta forma, el corte parcial funcionará como se espera:"
   ]
  },
  {
   "cell_type": "code",
   "execution_count": null,
   "metadata": {
    "collapsed": false,
    "deletable": true,
    "editable": true,
    "jupyter": {
     "outputs_hidden": false
    }
   },
   "outputs": [],
   "source": [
    "data['a':'b']"
   ]
  },
  {
   "cell_type": "markdown",
   "metadata": {
    "deletable": true,
    "editable": true
   },
   "source": [
    "### Índices de apilamiento y desapilamiento\n",
    "\n",
    "Como vimos brevemente antes, es posible convertir un conjunto de datos de un multiíndice apilado a una representación bidimensional simple, especificando opcionalmente el nivel a utilizar:"
   ]
  },
  {
   "cell_type": "code",
   "execution_count": 93,
   "metadata": {
    "collapsed": false,
    "deletable": true,
    "editable": true,
    "jupyter": {
     "outputs_hidden": false
    }
   },
   "outputs": [
    {
     "data": {
      "text/html": [
       "<div>\n",
       "<style scoped>\n",
       "    .dataframe tbody tr th:only-of-type {\n",
       "        vertical-align: middle;\n",
       "    }\n",
       "\n",
       "    .dataframe tbody tr th {\n",
       "        vertical-align: top;\n",
       "    }\n",
       "\n",
       "    .dataframe thead th {\n",
       "        text-align: right;\n",
       "    }\n",
       "</style>\n",
       "<table border=\"1\" class=\"dataframe\">\n",
       "  <thead>\n",
       "    <tr style=\"text-align: right;\">\n",
       "      <th></th>\n",
       "      <th>California</th>\n",
       "      <th>New York</th>\n",
       "      <th>Texas</th>\n",
       "    </tr>\n",
       "  </thead>\n",
       "  <tbody>\n",
       "    <tr>\n",
       "      <th>2000</th>\n",
       "      <td>33871648</td>\n",
       "      <td>18976457</td>\n",
       "      <td>20851820</td>\n",
       "    </tr>\n",
       "    <tr>\n",
       "      <th>2010</th>\n",
       "      <td>37253956</td>\n",
       "      <td>19378102</td>\n",
       "      <td>25145561</td>\n",
       "    </tr>\n",
       "  </tbody>\n",
       "</table>\n",
       "</div>"
      ],
      "text/plain": [
       "      California  New York     Texas\n",
       "2000    33871648  18976457  20851820\n",
       "2010    37253956  19378102  25145561"
      ]
     },
     "execution_count": 93,
     "metadata": {},
     "output_type": "execute_result"
    }
   ],
   "source": [
    "pop.unstack(level=0)"
   ]
  },
  {
   "cell_type": "code",
   "execution_count": 95,
   "metadata": {},
   "outputs": [
    {
     "data": {
      "text/html": [
       "<div>\n",
       "<style scoped>\n",
       "    .dataframe tbody tr th:only-of-type {\n",
       "        vertical-align: middle;\n",
       "    }\n",
       "\n",
       "    .dataframe tbody tr th {\n",
       "        vertical-align: top;\n",
       "    }\n",
       "\n",
       "    .dataframe thead th {\n",
       "        text-align: right;\n",
       "    }\n",
       "</style>\n",
       "<table border=\"1\" class=\"dataframe\">\n",
       "  <thead>\n",
       "    <tr style=\"text-align: right;\">\n",
       "      <th></th>\n",
       "      <th>municipios</th>\n",
       "      <th>16</th>\n",
       "      <th>16001</th>\n",
       "      <th>16002</th>\n",
       "      <th>16003</th>\n",
       "      <th>16004</th>\n",
       "      <th>16005</th>\n",
       "      <th>16006</th>\n",
       "      <th>16007</th>\n",
       "      <th>16008</th>\n",
       "      <th>16009</th>\n",
       "      <th>...</th>\n",
       "      <th>16280</th>\n",
       "      <th>16901</th>\n",
       "      <th>16902</th>\n",
       "      <th>16903</th>\n",
       "      <th>16904</th>\n",
       "      <th>16905</th>\n",
       "      <th>16906</th>\n",
       "      <th>16908</th>\n",
       "      <th>16909</th>\n",
       "      <th>16910</th>\n",
       "    </tr>\n",
       "    <tr>\n",
       "      <th>sexo</th>\n",
       "      <th>anno</th>\n",
       "      <th></th>\n",
       "      <th></th>\n",
       "      <th></th>\n",
       "      <th></th>\n",
       "      <th></th>\n",
       "      <th></th>\n",
       "      <th></th>\n",
       "      <th></th>\n",
       "      <th></th>\n",
       "      <th></th>\n",
       "      <th></th>\n",
       "      <th></th>\n",
       "      <th></th>\n",
       "      <th></th>\n",
       "      <th></th>\n",
       "      <th></th>\n",
       "      <th></th>\n",
       "      <th></th>\n",
       "      <th></th>\n",
       "      <th></th>\n",
       "      <th></th>\n",
       "    </tr>\n",
       "  </thead>\n",
       "  <tbody>\n",
       "    <tr>\n",
       "      <th rowspan=\"5\" valign=\"top\">Hombres</th>\n",
       "      <th>1996</th>\n",
       "      <td>100387.0</td>\n",
       "      <td>500.0</td>\n",
       "      <td>1470.0</td>\n",
       "      <td>1090.0</td>\n",
       "      <td>2200.0</td>\n",
       "      <td>2180.0</td>\n",
       "      <td>970.0</td>\n",
       "      <td>8740.0</td>\n",
       "      <td>900.0</td>\n",
       "      <td>720.0</td>\n",
       "      <td>...</td>\n",
       "      <td>1470.0</td>\n",
       "      <td>5590.0</td>\n",
       "      <td>850.0</td>\n",
       "      <td>7160.0</td>\n",
       "      <td>1490.0</td>\n",
       "      <td>3010.0</td>\n",
       "      <td>710.0</td>\n",
       "      <td>1500.0</td>\n",
       "      <td>4840.0</td>\n",
       "      <td>750.0</td>\n",
       "    </tr>\n",
       "    <tr>\n",
       "      <th>1997</th>\n",
       "      <td>NaN</td>\n",
       "      <td>NaN</td>\n",
       "      <td>NaN</td>\n",
       "      <td>NaN</td>\n",
       "      <td>NaN</td>\n",
       "      <td>NaN</td>\n",
       "      <td>NaN</td>\n",
       "      <td>NaN</td>\n",
       "      <td>NaN</td>\n",
       "      <td>NaN</td>\n",
       "      <td>...</td>\n",
       "      <td>NaN</td>\n",
       "      <td>NaN</td>\n",
       "      <td>NaN</td>\n",
       "      <td>NaN</td>\n",
       "      <td>NaN</td>\n",
       "      <td>NaN</td>\n",
       "      <td>NaN</td>\n",
       "      <td>NaN</td>\n",
       "      <td>NaN</td>\n",
       "      <td>NaN</td>\n",
       "    </tr>\n",
       "    <tr>\n",
       "      <th>1998</th>\n",
       "      <td>99031.0</td>\n",
       "      <td>480.0</td>\n",
       "      <td>1420.0</td>\n",
       "      <td>1010.0</td>\n",
       "      <td>2160.0</td>\n",
       "      <td>2110.0</td>\n",
       "      <td>940.0</td>\n",
       "      <td>8550.0</td>\n",
       "      <td>890.0</td>\n",
       "      <td>690.0</td>\n",
       "      <td>...</td>\n",
       "      <td>1440.0</td>\n",
       "      <td>5370.0</td>\n",
       "      <td>800.0</td>\n",
       "      <td>7020.0</td>\n",
       "      <td>1460.0</td>\n",
       "      <td>2960.0</td>\n",
       "      <td>680.0</td>\n",
       "      <td>1440.0</td>\n",
       "      <td>4710.0</td>\n",
       "      <td>720.0</td>\n",
       "    </tr>\n",
       "    <tr>\n",
       "      <th>1999</th>\n",
       "      <td>100088.0</td>\n",
       "      <td>460.0</td>\n",
       "      <td>1380.0</td>\n",
       "      <td>990.0</td>\n",
       "      <td>2190.0</td>\n",
       "      <td>2110.0</td>\n",
       "      <td>930.0</td>\n",
       "      <td>8810.0</td>\n",
       "      <td>950.0</td>\n",
       "      <td>680.0</td>\n",
       "      <td>...</td>\n",
       "      <td>1470.0</td>\n",
       "      <td>5360.0</td>\n",
       "      <td>790.0</td>\n",
       "      <td>6870.0</td>\n",
       "      <td>1790.0</td>\n",
       "      <td>3150.0</td>\n",
       "      <td>680.0</td>\n",
       "      <td>1600.0</td>\n",
       "      <td>5550.0</td>\n",
       "      <td>690.0</td>\n",
       "    </tr>\n",
       "    <tr>\n",
       "      <th>2000</th>\n",
       "      <td>100126.0</td>\n",
       "      <td>460.0</td>\n",
       "      <td>1420.0</td>\n",
       "      <td>970.0</td>\n",
       "      <td>2140.0</td>\n",
       "      <td>2010.0</td>\n",
       "      <td>900.0</td>\n",
       "      <td>8570.0</td>\n",
       "      <td>940.0</td>\n",
       "      <td>650.0</td>\n",
       "      <td>...</td>\n",
       "      <td>1480.0</td>\n",
       "      <td>5180.0</td>\n",
       "      <td>790.0</td>\n",
       "      <td>6680.0</td>\n",
       "      <td>1970.0</td>\n",
       "      <td>3470.0</td>\n",
       "      <td>660.0</td>\n",
       "      <td>1520.0</td>\n",
       "      <td>5060.0</td>\n",
       "      <td>680.0</td>\n",
       "    </tr>\n",
       "    <tr>\n",
       "      <th>...</th>\n",
       "      <th>...</th>\n",
       "      <td>...</td>\n",
       "      <td>...</td>\n",
       "      <td>...</td>\n",
       "      <td>...</td>\n",
       "      <td>...</td>\n",
       "      <td>...</td>\n",
       "      <td>...</td>\n",
       "      <td>...</td>\n",
       "      <td>...</td>\n",
       "      <td>...</td>\n",
       "      <td>...</td>\n",
       "      <td>...</td>\n",
       "      <td>...</td>\n",
       "      <td>...</td>\n",
       "      <td>...</td>\n",
       "      <td>...</td>\n",
       "      <td>...</td>\n",
       "      <td>...</td>\n",
       "      <td>...</td>\n",
       "      <td>...</td>\n",
       "      <td>...</td>\n",
       "    </tr>\n",
       "    <tr>\n",
       "      <th rowspan=\"5\" valign=\"top\">Total</th>\n",
       "      <th>2019</th>\n",
       "      <td>196329.0</td>\n",
       "      <td>650.0</td>\n",
       "      <td>2340.0</td>\n",
       "      <td>1480.0</td>\n",
       "      <td>2450.0</td>\n",
       "      <td>2530.0</td>\n",
       "      <td>1210.0</td>\n",
       "      <td>159.0</td>\n",
       "      <td>930.0</td>\n",
       "      <td>510.0</td>\n",
       "      <td>...</td>\n",
       "      <td>1700.0</td>\n",
       "      <td>7370.0</td>\n",
       "      <td>1330.0</td>\n",
       "      <td>1496.0</td>\n",
       "      <td>5130.0</td>\n",
       "      <td>1716.0</td>\n",
       "      <td>720.0</td>\n",
       "      <td>1800.0</td>\n",
       "      <td>7320.0</td>\n",
       "      <td>770.0</td>\n",
       "    </tr>\n",
       "    <tr>\n",
       "      <th>2020</th>\n",
       "      <td>196139.0</td>\n",
       "      <td>610.0</td>\n",
       "      <td>2310.0</td>\n",
       "      <td>1560.0</td>\n",
       "      <td>2450.0</td>\n",
       "      <td>2570.0</td>\n",
       "      <td>1250.0</td>\n",
       "      <td>1608.0</td>\n",
       "      <td>900.0</td>\n",
       "      <td>480.0</td>\n",
       "      <td>...</td>\n",
       "      <td>1690.0</td>\n",
       "      <td>7180.0</td>\n",
       "      <td>1260.0</td>\n",
       "      <td>1494.0</td>\n",
       "      <td>4890.0</td>\n",
       "      <td>1775.0</td>\n",
       "      <td>680.0</td>\n",
       "      <td>1880.0</td>\n",
       "      <td>7000.0</td>\n",
       "      <td>750.0</td>\n",
       "    </tr>\n",
       "    <tr>\n",
       "      <th>2021</th>\n",
       "      <td>195516.0</td>\n",
       "      <td>570.0</td>\n",
       "      <td>2270.0</td>\n",
       "      <td>1510.0</td>\n",
       "      <td>2360.0</td>\n",
       "      <td>2560.0</td>\n",
       "      <td>1220.0</td>\n",
       "      <td>1581.0</td>\n",
       "      <td>850.0</td>\n",
       "      <td>480.0</td>\n",
       "      <td>...</td>\n",
       "      <td>1590.0</td>\n",
       "      <td>7140.0</td>\n",
       "      <td>1240.0</td>\n",
       "      <td>1479.0</td>\n",
       "      <td>5270.0</td>\n",
       "      <td>1867.0</td>\n",
       "      <td>700.0</td>\n",
       "      <td>1910.0</td>\n",
       "      <td>6810.0</td>\n",
       "      <td>730.0</td>\n",
       "    </tr>\n",
       "    <tr>\n",
       "      <th>2022</th>\n",
       "      <td>195215.0</td>\n",
       "      <td>600.0</td>\n",
       "      <td>2310.0</td>\n",
       "      <td>1520.0</td>\n",
       "      <td>2300.0</td>\n",
       "      <td>2590.0</td>\n",
       "      <td>1220.0</td>\n",
       "      <td>1585.0</td>\n",
       "      <td>790.0</td>\n",
       "      <td>510.0</td>\n",
       "      <td>...</td>\n",
       "      <td>1540.0</td>\n",
       "      <td>6910.0</td>\n",
       "      <td>1270.0</td>\n",
       "      <td>1499.0</td>\n",
       "      <td>5460.0</td>\n",
       "      <td>1994.0</td>\n",
       "      <td>740.0</td>\n",
       "      <td>1730.0</td>\n",
       "      <td>6960.0</td>\n",
       "      <td>790.0</td>\n",
       "    </tr>\n",
       "    <tr>\n",
       "      <th>2023</th>\n",
       "      <td>197139.0</td>\n",
       "      <td>610.0</td>\n",
       "      <td>2260.0</td>\n",
       "      <td>1720.0</td>\n",
       "      <td>2250.0</td>\n",
       "      <td>2670.0</td>\n",
       "      <td>1180.0</td>\n",
       "      <td>1553.0</td>\n",
       "      <td>790.0</td>\n",
       "      <td>530.0</td>\n",
       "      <td>...</td>\n",
       "      <td>1480.0</td>\n",
       "      <td>6720.0</td>\n",
       "      <td>1230.0</td>\n",
       "      <td>1587.0</td>\n",
       "      <td>5790.0</td>\n",
       "      <td>2094.0</td>\n",
       "      <td>710.0</td>\n",
       "      <td>1710.0</td>\n",
       "      <td>6980.0</td>\n",
       "      <td>780.0</td>\n",
       "    </tr>\n",
       "  </tbody>\n",
       "</table>\n",
       "<p>84 rows × 239 columns</p>\n",
       "</div>"
      ],
      "text/plain": [
       "municipios       16     16001   16002   16003   16004   16005   16006   16007  \\\n",
       "sexo    anno                                                                    \n",
       "Hombres 1996  100387.0  500.0  1470.0  1090.0  2200.0  2180.0   970.0  8740.0   \n",
       "        1997       NaN    NaN     NaN     NaN     NaN     NaN     NaN     NaN   \n",
       "        1998   99031.0  480.0  1420.0  1010.0  2160.0  2110.0   940.0  8550.0   \n",
       "        1999  100088.0  460.0  1380.0   990.0  2190.0  2110.0   930.0  8810.0   \n",
       "        2000  100126.0  460.0  1420.0   970.0  2140.0  2010.0   900.0  8570.0   \n",
       "...                ...    ...     ...     ...     ...     ...     ...     ...   \n",
       "Total   2019  196329.0  650.0  2340.0  1480.0  2450.0  2530.0  1210.0   159.0   \n",
       "        2020  196139.0  610.0  2310.0  1560.0  2450.0  2570.0  1250.0  1608.0   \n",
       "        2021  195516.0  570.0  2270.0  1510.0  2360.0  2560.0  1220.0  1581.0   \n",
       "        2022  195215.0  600.0  2310.0  1520.0  2300.0  2590.0  1220.0  1585.0   \n",
       "        2023  197139.0  610.0  2260.0  1720.0  2250.0  2670.0  1180.0  1553.0   \n",
       "\n",
       "municipios    16008  16009  ...   16280   16901   16902   16903   16904  \\\n",
       "sexo    anno                ...                                           \n",
       "Hombres 1996  900.0  720.0  ...  1470.0  5590.0   850.0  7160.0  1490.0   \n",
       "        1997    NaN    NaN  ...     NaN     NaN     NaN     NaN     NaN   \n",
       "        1998  890.0  690.0  ...  1440.0  5370.0   800.0  7020.0  1460.0   \n",
       "        1999  950.0  680.0  ...  1470.0  5360.0   790.0  6870.0  1790.0   \n",
       "        2000  940.0  650.0  ...  1480.0  5180.0   790.0  6680.0  1970.0   \n",
       "...             ...    ...  ...     ...     ...     ...     ...     ...   \n",
       "Total   2019  930.0  510.0  ...  1700.0  7370.0  1330.0  1496.0  5130.0   \n",
       "        2020  900.0  480.0  ...  1690.0  7180.0  1260.0  1494.0  4890.0   \n",
       "        2021  850.0  480.0  ...  1590.0  7140.0  1240.0  1479.0  5270.0   \n",
       "        2022  790.0  510.0  ...  1540.0  6910.0  1270.0  1499.0  5460.0   \n",
       "        2023  790.0  530.0  ...  1480.0  6720.0  1230.0  1587.0  5790.0   \n",
       "\n",
       "municipios     16905  16906   16908   16909  16910  \n",
       "sexo    anno                                        \n",
       "Hombres 1996  3010.0  710.0  1500.0  4840.0  750.0  \n",
       "        1997     NaN    NaN     NaN     NaN    NaN  \n",
       "        1998  2960.0  680.0  1440.0  4710.0  720.0  \n",
       "        1999  3150.0  680.0  1600.0  5550.0  690.0  \n",
       "        2000  3470.0  660.0  1520.0  5060.0  680.0  \n",
       "...              ...    ...     ...     ...    ...  \n",
       "Total   2019  1716.0  720.0  1800.0  7320.0  770.0  \n",
       "        2020  1775.0  680.0  1880.0  7000.0  750.0  \n",
       "        2021  1867.0  700.0  1910.0  6810.0  730.0  \n",
       "        2022  1994.0  740.0  1730.0  6960.0  790.0  \n",
       "        2023  2094.0  710.0  1710.0  6980.0  780.0  \n",
       "\n",
       "[84 rows x 239 columns]"
      ]
     },
     "execution_count": 95,
     "metadata": {},
     "output_type": "execute_result"
    }
   ],
   "source": [
    "cuenca_series.unstack(level=0)"
   ]
  },
  {
   "cell_type": "code",
   "execution_count": 100,
   "metadata": {
    "collapsed": false,
    "deletable": true,
    "editable": true,
    "jupyter": {
     "outputs_hidden": false
    }
   },
   "outputs": [
    {
     "data": {
      "text/html": [
       "<div>\n",
       "<style scoped>\n",
       "    .dataframe tbody tr th:only-of-type {\n",
       "        vertical-align: middle;\n",
       "    }\n",
       "\n",
       "    .dataframe tbody tr th {\n",
       "        vertical-align: top;\n",
       "    }\n",
       "\n",
       "    .dataframe thead th {\n",
       "        text-align: right;\n",
       "    }\n",
       "</style>\n",
       "<table border=\"1\" class=\"dataframe\">\n",
       "  <thead>\n",
       "    <tr style=\"text-align: right;\">\n",
       "      <th></th>\n",
       "      <th>2000</th>\n",
       "      <th>2010</th>\n",
       "    </tr>\n",
       "  </thead>\n",
       "  <tbody>\n",
       "    <tr>\n",
       "      <th>California</th>\n",
       "      <td>33871648</td>\n",
       "      <td>37253956</td>\n",
       "    </tr>\n",
       "    <tr>\n",
       "      <th>New York</th>\n",
       "      <td>18976457</td>\n",
       "      <td>19378102</td>\n",
       "    </tr>\n",
       "    <tr>\n",
       "      <th>Texas</th>\n",
       "      <td>20851820</td>\n",
       "      <td>25145561</td>\n",
       "    </tr>\n",
       "  </tbody>\n",
       "</table>\n",
       "</div>"
      ],
      "text/plain": [
       "                2000      2010\n",
       "California  33871648  37253956\n",
       "New York    18976457  19378102\n",
       "Texas       20851820  25145561"
      ]
     },
     "execution_count": 100,
     "metadata": {},
     "output_type": "execute_result"
    }
   ],
   "source": [
    "pop.unstack(level=1)"
   ]
  },
  {
   "cell_type": "code",
   "execution_count": 101,
   "metadata": {},
   "outputs": [
    {
     "data": {
      "text/html": [
       "<div>\n",
       "<style scoped>\n",
       "    .dataframe tbody tr th:only-of-type {\n",
       "        vertical-align: middle;\n",
       "    }\n",
       "\n",
       "    .dataframe tbody tr th {\n",
       "        vertical-align: top;\n",
       "    }\n",
       "\n",
       "    .dataframe thead th {\n",
       "        text-align: right;\n",
       "    }\n",
       "</style>\n",
       "<table border=\"1\" class=\"dataframe\">\n",
       "  <thead>\n",
       "    <tr style=\"text-align: right;\">\n",
       "      <th></th>\n",
       "      <th>sexo</th>\n",
       "      <th>Hombres</th>\n",
       "      <th>Mujeres</th>\n",
       "      <th>Total</th>\n",
       "    </tr>\n",
       "    <tr>\n",
       "      <th>municipios</th>\n",
       "      <th>anno</th>\n",
       "      <th></th>\n",
       "      <th></th>\n",
       "      <th></th>\n",
       "    </tr>\n",
       "  </thead>\n",
       "  <tbody>\n",
       "    <tr>\n",
       "      <th rowspan=\"5\" valign=\"top\">16</th>\n",
       "      <th>1996</th>\n",
       "      <td>100387.0</td>\n",
       "      <td>101325.0</td>\n",
       "      <td>201712.0</td>\n",
       "    </tr>\n",
       "    <tr>\n",
       "      <th>1997</th>\n",
       "      <td>NaN</td>\n",
       "      <td>NaN</td>\n",
       "      <td>NaN</td>\n",
       "    </tr>\n",
       "    <tr>\n",
       "      <th>1998</th>\n",
       "      <td>99031.0</td>\n",
       "      <td>100055.0</td>\n",
       "      <td>199086.0</td>\n",
       "    </tr>\n",
       "    <tr>\n",
       "      <th>1999</th>\n",
       "      <td>100088.0</td>\n",
       "      <td>100875.0</td>\n",
       "      <td>200963.0</td>\n",
       "    </tr>\n",
       "    <tr>\n",
       "      <th>2000</th>\n",
       "      <td>100126.0</td>\n",
       "      <td>100927.0</td>\n",
       "      <td>201053.0</td>\n",
       "    </tr>\n",
       "    <tr>\n",
       "      <th>...</th>\n",
       "      <th>...</th>\n",
       "      <td>...</td>\n",
       "      <td>...</td>\n",
       "      <td>...</td>\n",
       "    </tr>\n",
       "    <tr>\n",
       "      <th rowspan=\"5\" valign=\"top\">16910</th>\n",
       "      <th>2019</th>\n",
       "      <td>440.0</td>\n",
       "      <td>330.0</td>\n",
       "      <td>770.0</td>\n",
       "    </tr>\n",
       "    <tr>\n",
       "      <th>2020</th>\n",
       "      <td>430.0</td>\n",
       "      <td>320.0</td>\n",
       "      <td>750.0</td>\n",
       "    </tr>\n",
       "    <tr>\n",
       "      <th>2021</th>\n",
       "      <td>420.0</td>\n",
       "      <td>310.0</td>\n",
       "      <td>730.0</td>\n",
       "    </tr>\n",
       "    <tr>\n",
       "      <th>2022</th>\n",
       "      <td>440.0</td>\n",
       "      <td>350.0</td>\n",
       "      <td>790.0</td>\n",
       "    </tr>\n",
       "    <tr>\n",
       "      <th>2023</th>\n",
       "      <td>450.0</td>\n",
       "      <td>330.0</td>\n",
       "      <td>780.0</td>\n",
       "    </tr>\n",
       "  </tbody>\n",
       "</table>\n",
       "<p>6692 rows × 3 columns</p>\n",
       "</div>"
      ],
      "text/plain": [
       "sexo              Hombres   Mujeres     Total\n",
       "municipios anno                              \n",
       "16         1996  100387.0  101325.0  201712.0\n",
       "           1997       NaN       NaN       NaN\n",
       "           1998   99031.0  100055.0  199086.0\n",
       "           1999  100088.0  100875.0  200963.0\n",
       "           2000  100126.0  100927.0  201053.0\n",
       "...                   ...       ...       ...\n",
       "16910      2019     440.0     330.0     770.0\n",
       "           2020     430.0     320.0     750.0\n",
       "           2021     420.0     310.0     730.0\n",
       "           2022     440.0     350.0     790.0\n",
       "           2023     450.0     330.0     780.0\n",
       "\n",
       "[6692 rows x 3 columns]"
      ]
     },
     "execution_count": 101,
     "metadata": {},
     "output_type": "execute_result"
    }
   ],
   "source": [
    "cuenca_series.unstack(level=1)"
   ]
  },
  {
   "cell_type": "code",
   "execution_count": null,
   "metadata": {},
   "outputs": [],
   "source": [
    "# Muy útil para cambiar filas por columnas\n",
    "cuenca_series.unstack(level=1).reset_index()\n"
   ]
  },
  {
   "cell_type": "markdown",
   "metadata": {
    "deletable": true,
    "editable": true
   },
   "source": [
    "Lo contrario de ``unstack()`` es ``stack()``, que aquí se puede utilizar para recuperar la serie original:"
   ]
  },
  {
   "cell_type": "code",
   "execution_count": 97,
   "metadata": {
    "collapsed": false,
    "deletable": true,
    "editable": true,
    "jupyter": {
     "outputs_hidden": false
    }
   },
   "outputs": [
    {
     "data": {
      "text/plain": [
       "California  2000    33871648\n",
       "            2010    37253956\n",
       "New York    2000    18976457\n",
       "            2010    19378102\n",
       "Texas       2000    20851820\n",
       "            2010    25145561\n",
       "dtype: int64"
      ]
     },
     "execution_count": 97,
     "metadata": {},
     "output_type": "execute_result"
    }
   ],
   "source": [
    "pop.unstack().stack()"
   ]
  },
  {
   "cell_type": "code",
   "execution_count": 98,
   "metadata": {},
   "outputs": [
    {
     "data": {
      "text/plain": [
       "municipios  sexo     anno\n",
       "16          Hombres  1996    100387.0\n",
       "                     1998     99031.0\n",
       "                     1999    100088.0\n",
       "                     2000    100126.0\n",
       "                     2001     10063.0\n",
       "                               ...   \n",
       "16910       Total    2019       770.0\n",
       "                     2020       750.0\n",
       "                     2021       730.0\n",
       "                     2022       790.0\n",
       "                     2023       780.0\n",
       "Length: 19359, dtype: float64"
      ]
     },
     "execution_count": 98,
     "metadata": {},
     "output_type": "execute_result"
    }
   ],
   "source": [
    "cuenca_series.unstack().stack()"
   ]
  },
  {
   "cell_type": "markdown",
   "metadata": {
    "deletable": true,
    "editable": true
   },
   "source": [
    "### Index setting and resetting\n",
    "\n",
    "Otra forma de reorganizar los datos jerárquicos es convertir las etiquetas de índice en columnas; esto se puede conseguir con el método ``reset_index``.\n",
    "Al llamar a este método en el diccionario de población se obtendrá un ``DataFrame`` con una columna *state* y *year* que contendrá la información que antes estaba en el índice.\n",
    "Para mayor claridad, podemos especificar opcionalmente el nombre de los datos para la representación de la columna:"
   ]
  },
  {
   "cell_type": "code",
   "execution_count": 102,
   "metadata": {
    "collapsed": false,
    "deletable": true,
    "editable": true,
    "jupyter": {
     "outputs_hidden": false
    }
   },
   "outputs": [
    {
     "data": {
      "text/html": [
       "<div>\n",
       "<style scoped>\n",
       "    .dataframe tbody tr th:only-of-type {\n",
       "        vertical-align: middle;\n",
       "    }\n",
       "\n",
       "    .dataframe tbody tr th {\n",
       "        vertical-align: top;\n",
       "    }\n",
       "\n",
       "    .dataframe thead th {\n",
       "        text-align: right;\n",
       "    }\n",
       "</style>\n",
       "<table border=\"1\" class=\"dataframe\">\n",
       "  <thead>\n",
       "    <tr style=\"text-align: right;\">\n",
       "      <th></th>\n",
       "      <th>level_0</th>\n",
       "      <th>level_1</th>\n",
       "      <th>population</th>\n",
       "    </tr>\n",
       "  </thead>\n",
       "  <tbody>\n",
       "    <tr>\n",
       "      <th>0</th>\n",
       "      <td>California</td>\n",
       "      <td>2000</td>\n",
       "      <td>33871648</td>\n",
       "    </tr>\n",
       "    <tr>\n",
       "      <th>1</th>\n",
       "      <td>California</td>\n",
       "      <td>2010</td>\n",
       "      <td>37253956</td>\n",
       "    </tr>\n",
       "    <tr>\n",
       "      <th>2</th>\n",
       "      <td>New York</td>\n",
       "      <td>2000</td>\n",
       "      <td>18976457</td>\n",
       "    </tr>\n",
       "    <tr>\n",
       "      <th>3</th>\n",
       "      <td>New York</td>\n",
       "      <td>2010</td>\n",
       "      <td>19378102</td>\n",
       "    </tr>\n",
       "    <tr>\n",
       "      <th>4</th>\n",
       "      <td>Texas</td>\n",
       "      <td>2000</td>\n",
       "      <td>20851820</td>\n",
       "    </tr>\n",
       "    <tr>\n",
       "      <th>5</th>\n",
       "      <td>Texas</td>\n",
       "      <td>2010</td>\n",
       "      <td>25145561</td>\n",
       "    </tr>\n",
       "  </tbody>\n",
       "</table>\n",
       "</div>"
      ],
      "text/plain": [
       "      level_0  level_1  population\n",
       "0  California     2000    33871648\n",
       "1  California     2010    37253956\n",
       "2    New York     2000    18976457\n",
       "3    New York     2010    19378102\n",
       "4       Texas     2000    20851820\n",
       "5       Texas     2010    25145561"
      ]
     },
     "execution_count": 102,
     "metadata": {},
     "output_type": "execute_result"
    }
   ],
   "source": [
    "pop_flat = pop.reset_index(name='population')\n",
    "pop_flat"
   ]
  },
  {
   "cell_type": "code",
   "execution_count": 103,
   "metadata": {},
   "outputs": [
    {
     "data": {
      "text/html": [
       "<div>\n",
       "<style scoped>\n",
       "    .dataframe tbody tr th:only-of-type {\n",
       "        vertical-align: middle;\n",
       "    }\n",
       "\n",
       "    .dataframe tbody tr th {\n",
       "        vertical-align: top;\n",
       "    }\n",
       "\n",
       "    .dataframe thead th {\n",
       "        text-align: right;\n",
       "    }\n",
       "</style>\n",
       "<table border=\"1\" class=\"dataframe\">\n",
       "  <thead>\n",
       "    <tr style=\"text-align: right;\">\n",
       "      <th></th>\n",
       "      <th></th>\n",
       "      <th>sexo</th>\n",
       "      <th>total</th>\n",
       "    </tr>\n",
       "    <tr>\n",
       "      <th>municipios</th>\n",
       "      <th>anno</th>\n",
       "      <th></th>\n",
       "      <th></th>\n",
       "    </tr>\n",
       "  </thead>\n",
       "  <tbody>\n",
       "    <tr>\n",
       "      <th rowspan=\"5\" valign=\"top\">16</th>\n",
       "      <th>1996</th>\n",
       "      <td>Hombres</td>\n",
       "      <td>100387.0</td>\n",
       "    </tr>\n",
       "    <tr>\n",
       "      <th>1997</th>\n",
       "      <td>Hombres</td>\n",
       "      <td>NaN</td>\n",
       "    </tr>\n",
       "    <tr>\n",
       "      <th>1998</th>\n",
       "      <td>Hombres</td>\n",
       "      <td>99031.0</td>\n",
       "    </tr>\n",
       "    <tr>\n",
       "      <th>1999</th>\n",
       "      <td>Hombres</td>\n",
       "      <td>100088.0</td>\n",
       "    </tr>\n",
       "    <tr>\n",
       "      <th>2000</th>\n",
       "      <td>Hombres</td>\n",
       "      <td>100126.0</td>\n",
       "    </tr>\n",
       "    <tr>\n",
       "      <th>...</th>\n",
       "      <th>...</th>\n",
       "      <td>...</td>\n",
       "      <td>...</td>\n",
       "    </tr>\n",
       "    <tr>\n",
       "      <th rowspan=\"5\" valign=\"top\">16910</th>\n",
       "      <th>2019</th>\n",
       "      <td>Total</td>\n",
       "      <td>770.0</td>\n",
       "    </tr>\n",
       "    <tr>\n",
       "      <th>2020</th>\n",
       "      <td>Total</td>\n",
       "      <td>750.0</td>\n",
       "    </tr>\n",
       "    <tr>\n",
       "      <th>2021</th>\n",
       "      <td>Total</td>\n",
       "      <td>730.0</td>\n",
       "    </tr>\n",
       "    <tr>\n",
       "      <th>2022</th>\n",
       "      <td>Total</td>\n",
       "      <td>790.0</td>\n",
       "    </tr>\n",
       "    <tr>\n",
       "      <th>2023</th>\n",
       "      <td>Total</td>\n",
       "      <td>780.0</td>\n",
       "    </tr>\n",
       "  </tbody>\n",
       "</table>\n",
       "<p>20076 rows × 2 columns</p>\n",
       "</div>"
      ],
      "text/plain": [
       "                    sexo     total\n",
       "municipios anno                   \n",
       "16         1996  Hombres  100387.0\n",
       "           1997  Hombres       NaN\n",
       "           1998  Hombres   99031.0\n",
       "           1999  Hombres  100088.0\n",
       "           2000  Hombres  100126.0\n",
       "...                  ...       ...\n",
       "16910      2019    Total     770.0\n",
       "           2020    Total     750.0\n",
       "           2021    Total     730.0\n",
       "           2022    Total     790.0\n",
       "           2023    Total     780.0\n",
       "\n",
       "[20076 rows x 2 columns]"
      ]
     },
     "execution_count": 103,
     "metadata": {},
     "output_type": "execute_result"
    }
   ],
   "source": [
    "cuenca_series.reset_index(\"sexo\")"
   ]
  },
  {
   "cell_type": "markdown",
   "metadata": {
    "deletable": true,
    "editable": true
   },
   "source": [
    "A menudo, cuando se trabaja con datos en el mundo real, los datos de entrada en bruto tienen este aspecto y es útil construir un ``MultiIndex`` a partir de los valores de las columnas.\n",
    "Esto se puede hacer con el método ``set_index`` del ``DataFrame``, que devuelve un ``DataFrame`` con índice múltiple:"
   ]
  },
  {
   "cell_type": "code",
   "execution_count": null,
   "metadata": {
    "collapsed": false,
    "deletable": true,
    "editable": true,
    "jupyter": {
     "outputs_hidden": false
    }
   },
   "outputs": [],
   "source": [
    "pop_flat.set_index(['state', 'year'])"
   ]
  },
  {
   "cell_type": "markdown",
   "metadata": {
    "deletable": true,
    "editable": true
   },
   "source": [
    "En la práctica, encuentro que este tipo de reindexación es uno de los patrones más útiles cuando me encuentro con conjuntos de datos del mundo real."
   ]
  },
  {
   "cell_type": "markdown",
   "metadata": {
    "deletable": true,
    "editable": true
   },
   "source": [
    "## Agregaciones de datos en multiíndices\n",
    "\n",
    "Hemos visto anteriormente que Pandas tiene métodos de agregación de datos incorporados, como ``mean()``, ``sum()``, y ``max()``.\n",
    "Para datos indexados jerárquicamente, se les puede pasar un parámetro ``level`` que controla sobre qué subconjunto de datos se calcula el agregado.\n",
    "\n",
    "Por ejemplo, volvamos a nuestros datos de salud:"
   ]
  },
  {
   "cell_type": "code",
   "execution_count": null,
   "metadata": {
    "collapsed": false,
    "deletable": true,
    "editable": true,
    "jupyter": {
     "outputs_hidden": false
    }
   },
   "outputs": [],
   "source": [
    "health_data"
   ]
  },
  {
   "cell_type": "markdown",
   "metadata": {
    "deletable": true,
    "editable": true
   },
   "source": [
    "Tal vez nos gustaría calcular la media de las mediciones en las dos visitas de cada año. Podemos hacerlo nombrando el nivel del índice que nos gustaría explorar, en este caso el año:"
   ]
  },
  {
   "cell_type": "code",
   "execution_count": null,
   "metadata": {
    "collapsed": false,
    "deletable": true,
    "editable": true,
    "jupyter": {
     "outputs_hidden": false
    }
   },
   "outputs": [],
   "source": [
    "data_mean = health_data.groupby('year').mean()\n",
    "data_mean"
   ]
  },
  {
   "cell_type": "code",
   "execution_count": 108,
   "metadata": {},
   "outputs": [
    {
     "data": {
      "text/plain": [
       "anno\n",
       "1996    2971.541144\n",
       "1997            NaN\n",
       "1998    2912.556485\n",
       "1999    2848.253835\n",
       "2000    2887.894003\n",
       "2001    2753.348675\n",
       "2002    2864.764296\n",
       "2003    2761.132497\n",
       "2004    2864.640167\n",
       "2005    2873.584379\n",
       "2006    2890.847978\n",
       "2007    2854.788006\n",
       "2008    2847.845188\n",
       "2009    2888.005579\n",
       "2010    2873.205021\n",
       "2011    2897.983264\n",
       "2012    2651.684798\n",
       "2013    2813.301255\n",
       "2014    2738.655509\n",
       "2015    2734.142259\n",
       "2016    2644.956764\n",
       "2017    2637.352859\n",
       "2018    2558.965132\n",
       "2019    2477.263598\n",
       "2020    2405.973501\n",
       "2021    2492.623431\n",
       "2022    2533.245467\n",
       "2023    2527.786611\n",
       "Name: total, dtype: float64"
      ]
     },
     "execution_count": 108,
     "metadata": {},
     "output_type": "execute_result"
    }
   ],
   "source": [
    "cuenca_media = cuenca_series.groupby('anno').mean()\n",
    "cuenca_media"
   ]
  },
  {
   "cell_type": "code",
   "execution_count": 109,
   "metadata": {},
   "outputs": [
    {
     "data": {
      "text/plain": [
       "sexo\n",
       "Hombres    2312.334573\n",
       "Mujeres    2287.795754\n",
       "Total      3645.018751\n",
       "Name: total, dtype: float64"
      ]
     },
     "execution_count": 109,
     "metadata": {},
     "output_type": "execute_result"
    }
   ],
   "source": [
    "cuenca_media = cuenca_series.groupby('sexo').mean()\n",
    "cuenca_media"
   ]
  },
  {
   "cell_type": "markdown",
   "metadata": {
    "deletable": true,
    "editable": true
   },
   "source": [
    "Así, en dos líneas, hemos podido encontrar la media de la frecuencia cardiaca y la temperatura medidas entre todos los sujetos en todas las visitas de cada año.\n",
    "Esta sintaxis es en realidad un atajo a la funcionalidad ``GroupBy``, de la que hablaremos en [Aggregation and Grouping](8_Aggregation-and-Grouping.ipynb).\n",
    "Aunque éste es un ejemplo de juguete, muchos conjuntos de datos del mundo real tienen una estructura jerárquica similar."
   ]
  },
  {
   "cell_type": "markdown",
   "metadata": {
    "deletable": true,
    "editable": true
   },
   "source": [
    "## Aside: Datos de panel\n",
    "\n",
    "Pandas tiene algunas otras estructuras de datos fundamentales que aún no hemos discutido, a saber, los objetos ``pd.Panel`` y ``pd.Panel4D``.\n",
    "Se pueden considerar, respectivamente, como generalizaciones tridimensionales y cuatridimensionales de las estructuras (unidimensionales) ``Series`` y (bidimensionales) ``DataFrame``.\n",
    "Una vez familiarizado con la indexación y manipulación de datos en ``Series`` y ``DataFrame``, ``Panel`` y ``Panel4D`` son relativamente sencillos de utilizar.\n",
    "En particular, los indexadores  ``loc`` y ``iloc`` discutidos en [Data Indexing and Selection](02_Data-Indexing-and-Selection.ipynb) se extienden fácilmente a estas estructuras de mayor dimensión.\n",
    "\n",
    "En este texto no trataremos más estas estructuras de panel, ya que en la mayoría de los casos he comprobado que la multiindización es una representación más útil y conceptualmente más sencilla para los datos de mayor dimensión.\n",
    "Además, los datos de panel son fundamentalmente una representación de datos densos, mientras que la multiindización es fundamentalmente una representación de datos dispersos.\n",
    "A medida que aumenta el número de dimensiones, la representación densa puede resultar muy ineficiente para la mayoría de los conjuntos de datos del mundo real.\n",
    "Sin embargo, para aplicaciones especializadas ocasionales, estas estructuras pueden resultar útiles."
   ]
  }
 ],
 "metadata": {
  "anaconda-cloud": {},
  "kernelspec": {
   "display_name": "Python 3",
   "language": "python",
   "name": "python3"
  },
  "language_info": {
   "codemirror_mode": {
    "name": "ipython",
    "version": 3
   },
   "file_extension": ".py",
   "mimetype": "text/x-python",
   "name": "python",
   "nbconvert_exporter": "python",
   "pygments_lexer": "ipython3",
   "version": "3.12.0"
  }
 },
 "nbformat": 4,
 "nbformat_minor": 4
}

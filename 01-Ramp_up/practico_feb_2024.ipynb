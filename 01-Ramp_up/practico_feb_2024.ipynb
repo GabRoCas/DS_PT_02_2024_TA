{
 "cells": [
  {
   "cell_type": "markdown",
   "metadata": {},
   "source": [
    "## Segunda parte ejercicios prácticos (8.5 puntos):"
   ]
  },
  {
   "cell_type": "code",
   "execution_count": null,
   "metadata": {},
   "outputs": [],
   "source": [
    "# Ejemplo de como queremos ver el código para más de un intento:\n",
    "\n",
    "# intento 1\n",
    "your code"
   ]
  },
  {
   "cell_type": "code",
   "execution_count": null,
   "metadata": {},
   "outputs": [],
   "source": [
    "# intento 2\n",
    "your code"
   ]
  },
  {
   "cell_type": "markdown",
   "metadata": {},
   "source": [
    "Ejercicio 1 (0.5 punto)\n",
    "Escribe un programa que pida al usuario su nombre y edad e imprima por pantalla \"Hola, me llamo XXX y tengo Y años\", siendo XXX el nombre e Y la edad introducidos previamente por pantalla"
   ]
  },
  {
   "cell_type": "code",
   "execution_count": null,
   "metadata": {},
   "outputs": [],
   "source": [
    "# Código. Usa tantas celdas adicionales como necesites"
   ]
  },
  {
   "cell_type": "markdown",
   "metadata": {},
   "source": [
    "### Ejercicio 2 (0.5 puntos)\n",
    "Escribe una función que reciba una lista de números y devuelva la suma de los elementos que son múltiplos de 3 de dicha lista."
   ]
  },
  {
   "cell_type": "code",
   "execution_count": null,
   "metadata": {},
   "outputs": [],
   "source": [
    "# Código. Usa tantas celdas adicionales como necesites"
   ]
  },
  {
   "cell_type": "markdown",
   "metadata": {},
   "source": [
    "### Ejercicio 3 (0.5 puntos)\n",
    "Escribe un programa que cuente el número de mayores de edad y menores de edad de esta lista:\n",
    "lista_edades = [17, 20, 90, 2, 7, 33, 21, 45, 38, 12, 20, 17]"
   ]
  },
  {
   "cell_type": "code",
   "execution_count": null,
   "metadata": {},
   "outputs": [],
   "source": [
    "# Código. Usa tantas celdas adicionales como necesites"
   ]
  },
  {
   "cell_type": "markdown",
   "metadata": {},
   "source": [
    "### Ejercicio 4 (1.5 puntos)\n",
    "Escribe una función que reciba una lista de números enteros y retorne un diccionario con el mínimo, el máximo, la media, la moda de esos números (esto es, el número que más se repite en la lista. Si varios se repiten el mismo número de veces, cualquiera de ellos sería válido), así como la cantidad total de números diferentes que había en la lista. \n",
    "No puedes utilizar librerias externas. \n",
    "\n",
    "En caso de producirse un error, debe retornar el mensaje de error \"La lista es incorrecta\""
   ]
  },
  {
   "cell_type": "code",
   "execution_count": null,
   "metadata": {},
   "outputs": [],
   "source": [
    "# Código. Usa tantas celdas adicionales como necesites"
   ]
  },
  {
   "cell_type": "markdown",
   "metadata": {},
   "source": [
    "### Ejercicio 5 (2.25 puntos)\n",
    "Escribe una programa que pida al usuario que introduzca colores por teclado. \n",
    "\n",
    "Si se trata de un color primario (rojo, amarillo o azul), se imprimirá por pantalla \"Has elegido un color primario\". \n",
    "\n",
    "En cualquier otro caso (salvo que introduzca la cadena \"salir\"), deberá devolver \"Has elegido un color secundario\"\n",
    "\n",
    "Si el usuario introduce la cadena salir, el programa imprimirá por pantalla \"Has salido del programa\" y terminará\n",
    "\n",
    "Finalmente, el programa no debe diferenciar mayúsculas de minúsculas. Es decir, \"rojo\", \"ROJO\", \"Rojo\" y \"rOjO\" deben producir el mismo resultado, así como \"salir\", \"SALIR\", \"Salir\" y \"SaLIR\" deben terminar el programa   "
   ]
  },
  {
   "cell_type": "code",
   "execution_count": null,
   "metadata": {},
   "outputs": [],
   "source": [
    "# Código. Usa tantas celdas adicionales como necesites"
   ]
  },
  {
   "cell_type": "markdown",
   "metadata": {},
   "source": [
    "### Ejercicio 6 (3 puntos)\n",
    "Crea una clase llamada Bootcamp que tenga los siguientes métodos y atributos:\n",
    "1. Atributos para el nombre, primer apellido, nota_test y nota_practica, que comenzarán ambas siendo 0  para todos las instancias de esta clase, y curso, que comenzará siendo \"Feb24\" para todos las instancias de esta clase \n",
    "\n",
    "2. Un constructor que incluya parámetros para nombres y primer apellido.\n",
    "\n",
    "3. Un método llamado ejercicios_resueltos que incluya un parámetro entero con el número de ejercicios resueltos. \n",
    "\n",
    "* Si dicho parámetro es mayor o igual que 5 pero menor que 10, suma 0.5 a nota_practica,\n",
    "\n",
    "* si es menor que 20, suma 1.5 a nota_practica,\n",
    "\n",
    "* si es menor que 40, suma 3 a nota_practica. \n",
    "\n",
    "* Si es mayor o igual que 40, suma 6 al a nota_practica\n",
    "\n",
    "4. Un método llamado incluye_comentarios con un parámetro booleano. Si es True, suma 1 a nota_practica\n",
    "\n",
    "5. Un método llamado aciertos_test con una lista con 30 booleanos que representan si cada pregunta fue acertada o no en el test de 30 preguntas. Suman a nota_test 0.1 puntos por cada pregunta acertada. Si la lista incluye otra cosa que nos sean booleanos o tiene una longitud distinta de 30, no suma nada a nota_test y retorna la cadena \"Resultado del test incorrecto\". Se adjunta lista ejemplo_test como muestra de la lista correcta esperada\n",
    "\n",
    "6. Un método llamado cambio_curso que modifica el atributo curso a \"Sep24\" y pone la nota_test y nota_practica a -1\n",
    "\n",
    "7. Un método pasa_ramp_up que\n",
    "\n",
    "* si nota_ramp_up (que será la suma de nota_test y nota_practica) vale 5 o más, devuelve un diccionario con el nombre, apellido, nota ramp_up y la cadena \"Apto\", \n",
    "\n",
    "* si nota_ramp_up vale 3 y 5 (tres incluido pero cinco no incluido) devuelve un diccionario con el nombre, apellido, nota ramp_up y la cadena \"Pendiente\". \n",
    "\n",
    "* Si nota nota_ramp_up vale menos de 3 devuelve un diccionario con el nombre, apellidos, nota ramp_up y la cadena \"No apto\".\n",
    "\n",
    "* Si nota_ramp_up vale -2, devuelve un diccionario con el nombre, apellido, curso y la cadena \"Cambio de edición\"\n",
    "\n",
    "8. Crea una lista que contenga cinco variables de la clase Bootcamp y cuenta el número de notas finales (notas de la parte test + notas de la parte practica) entre [3,10], ambos inclusive, usando un bucle."
   ]
  },
  {
   "cell_type": "code",
   "execution_count": null,
   "metadata": {},
   "outputs": [],
   "source": [
    "# Código. Usa tantas celdas adicionales como necesites\n",
    "ejemplo_test = [True, False, True, True, True, True, True, True, False, False, True, False, True, \n",
    "                True, True, True, False, False, True, True, True, True, True, False, True, True, \n",
    "                True, True, True, True]"
   ]
  }
 ],
 "metadata": {
  "language_info": {
   "name": "python"
  }
 },
 "nbformat": 4,
 "nbformat_minor": 2
}

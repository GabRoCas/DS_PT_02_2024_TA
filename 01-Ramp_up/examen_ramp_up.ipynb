{
 "cells": [
  {
   "cell_type": "markdown",
   "metadata": {},
   "source": [
    "### Muestra de como sería un test DS-PT \n",
    "\n",
    "Test de conocimientos para la edición de Data Science Part Time. En este test se evalúa todo lo visto en el Ramp-Up. Ten en cuenta lo siguiente:\n",
    "\n",
    "- Son 30 preguntas de tipo test y 5 son ejercicios prácticos.\n",
    "\n",
    "- Para cada pregunta tipo test solo hay una respuesta correcta.\n",
    "\n",
    "- Las respuestas erróneas no restan.\n",
    "\n",
    "- Tienes hasta las 21:30 para realizar el examen al completo donde se recomienda dedicar 30 min al tipo test y 2.30 horas a resolver los ejercicios prácticos. \n",
    "\n",
    "- A las preguntas tipo test que no hayas sabido responder rápidamente podrás volver después.\n",
    "\n",
    " Recomendamos apuntarte la que te has saltado para luego volver más rápido.\n",
    "\n",
    "¡Suerte!"
   ]
  },
  {
   "cell_type": "markdown",
   "metadata": {},
   "source": [
    "1. ¿Cuál es la única variable que está bien declarada?\n",
    "\n",
    "* mi_variable_1 = \"Examen ramp-up\" CORRECTA\n",
    "* mi variable 1  = \"Examen ramp-up\"\n",
    "* 1_mi_variable = \"Examen ramp-up\"\n",
    "* import mi_variable_1 = \"Examen ramp-up"
   ]
  },
  {
   "cell_type": "markdown",
   "metadata": {},
   "source": [
    "2. ¿Qué tipo de datos devuelve la función input()?\n",
    "\n",
    "* int\n",
    "* str CORRECTA \n",
    "* list\n",
    "* tuple"
   ]
  },
  {
   "cell_type": "markdown",
   "metadata": {},
   "source": [
    "3. Indica cuál de las siguientes NO es una palabra reservada de python\n",
    "\n",
    "* def\n",
    "* class\n",
    "* import\n",
    "* math CORRECTA"
   ]
  },
  {
   "cell_type": "markdown",
   "metadata": {},
   "source": [
    "4. Para crear una copia de un repositorio, utilizo el comando:\n",
    "\n",
    "* git clone CORRECTA\n",
    "* git push\n",
    "* git pull\n",
    "* git commit"
   ]
  },
  {
   "cell_type": "markdown",
   "metadata": {},
   "source": [
    "5. ¿Cómo accedo al método \"mi_metodo\" del objeto \"mi_objeto\" de una clase?\n",
    "\n",
    "* mi_objeto[mi_metodo]\n",
    "* mi_objeto.mi_metodo\n",
    "* mi_objeto.mi_metodo() CORRECTA\n",
    "* mi_metodo(mi_objeto)"
   ]
  },
  {
   "cell_type": "markdown",
   "metadata": {},
   "source": [
    "6.  Una función necesita siempre un return\n",
    "\n",
    "* Verdadero \n",
    "* Falso CORRECTA"
   ]
  },
  {
   "cell_type": "markdown",
   "metadata": {},
   "source": [
    "7. Para integrar un enlace a una url en Markdown, utilizamos:\n",
    "\n",
    "* (Texto enlace)[https://www.web_enlace.com]\n",
    "* [Texto enlace](https://www.web_enlace.com) CORRECTA\n",
    "* ![Texto enlace](https://www.web_enlace.com)\n",
    "* !(Texto enlace)[https://www.web_enlace.com]"
   ]
  },
  {
   "cell_type": "markdown",
   "metadata": {},
   "source": [
    "8. Para calcular la longitud de una lista utilizo\n",
    "\n",
    "* lista.len\n",
    "* lista.len()\n",
    "* len({lista})\n",
    "* len(lista) CORRECTA"
   ]
  },
  {
   "cell_type": "markdown",
   "metadata": {},
   "source": [
    "9. Para salir de un bucle while(True) puedo...\n",
    "\n",
    "* Usar continue\n",
    "* Usar pass\n",
    "* Usar break CORRECTA\n",
    "* Se ejecuta para siempre, necesito comprar una computadora nueva."
   ]
  },
  {
   "cell_type": "markdown",
   "metadata": {},
   "source": [
    "10. Para acceder al primer elemento de una lista, utilizo:\n",
    "\n",
    "* lista[0] Correcta\n",
    "* lista(0)\n",
    "* lista[1]\n",
    "* lista(1)"
   ]
  },
  {
   "cell_type": "markdown",
   "metadata": {},
   "source": [
    "11. El resultado de int(9.2) es:\n",
    "\n",
    "* Error\n",
    "* 9.2\n",
    "* 10\n",
    "* 9 CORRECTA"
   ]
  },
  {
   "cell_type": "markdown",
   "metadata": {},
   "source": [
    "12. Los diccionarios se componen de:\n",
    "\n",
    "* Claves y valores CORRECTA\n",
    "* Métodos y atributos\n",
    "* Try y except\n",
    "* Indices y variables"
   ]
  },
  {
   "cell_type": "markdown",
   "metadata": {},
   "source": [
    "13. Una función:\n",
    "\n",
    "* Debe tener un argumento\n",
    "* Puede tener cero, uno o varios argumentos CORRECTA\n",
    "* Debe tener al menos un argumento\n",
    "* Debe tener tantos argumentos como return"
   ]
  },
  {
   "cell_type": "markdown",
   "metadata": {},
   "source": [
    "14. Si hacemos var = print(\"Hola\"), ¿qué resultado obtendremos al hacer print(var)? \n",
    "\n",
    "* \"Hola\"\n",
    "* Error\n",
    "* None CORRECTA\n",
    "* [\"H\", \"o\", \"l\", \"a\"]"
   ]
  },
  {
   "cell_type": "markdown",
   "metadata": {},
   "source": [
    "15. Las tuplas son mutables\n",
    "\n",
    "* Verdadero\n",
    "* Falso CORRECTA"
   ]
  },
  {
   "cell_type": "markdown",
   "metadata": {},
   "source": [
    "16. var = [1, 2] + 3, produce:\n",
    "\n",
    "* Error CORRECTO\n",
    "* var = [1, 2, 3]\n",
    "* var = [4, 5]\n",
    "* var = 6"
   ]
  },
  {
   "cell_type": "markdown",
   "metadata": {},
   "source": [
    "17. Supongamos def mi_funcion(n_pi = 3.1415):, ¿que sucede si llamo a la función usando mi_funcion()\n",
    "\n",
    "* Error, ya que falta un argumento\n",
    "* n_pi toma el valor por defecto de 3.1415 CORRECTO\n",
    "* Error, ya es es un método, no una función\n",
    "* Error, ya que mi_funcion es una palabra reservada "
   ]
  },
  {
   "cell_type": "markdown",
   "metadata": {},
   "source": [
    "18. sea mi_dicc = {\"uno\": 1, \"dos\": 3, \"tres\": 3, \"lista\": [\"a\", \"b\", \"c\"]}, puedo acceder a la letra \"b\":\n",
    "\n",
    "* mi_dicc[\"lista\"][1] CORRECTO\n",
    "* mi_dicc[\"lista\"][\"b\"]\n",
    "* mi_dicc[\"lista\"][-1]\n",
    "* mi_dicc[\"lista\"][2]"
   ]
  },
  {
   "cell_type": "markdown",
   "metadata": {},
   "source": [
    "19. ¿Cómo accedo al atributo \"mi_atributo\" del objeto \"mi_objeto\" de una clase?\n",
    "\n",
    "* mi_objeto[mi_atributo]\n",
    "* mi_objeto.mi_atributo CORRECTA\n",
    "* mi_objeto.mi_atributo() \n",
    "* mi_metodo(mi_atributo)"
   ]
  },
  {
   "cell_type": "markdown",
   "metadata": {},
   "source": [
    "20. Puedo eliminar los duplicados de una lista, conservando su tipo lista, haciendo:\n",
    "\n",
    "* list(tuple(lista))\n",
    "* set(lista) \n",
    "* list(set(lista)) CORRECTA\n",
    "* list(type(lista))"
   ]
  },
  {
   "cell_type": "markdown",
   "metadata": {},
   "source": [
    "21. La expresión (((x >= 2) and (x <= 5)) or True)\n",
    "\n",
    "* Siempre es True CORRECTA\n",
    "* Siempre es False\n",
    "* True para valores ee x entre 2 y 5, ambos inclusive\n",
    "* True para valores ee x entre 2 y 4, ambos inclusive"
   ]
  },
  {
   "cell_type": "markdown",
   "metadata": {},
   "source": [
    "22. Señala la única opción verdadera respecto a if:\n",
    "\n",
    "* Requiere siempre al menos un elif\n",
    "* Requiere siempre un else\n",
    "* Requiere siempre al menos un elif y un else\n",
    "* Opcionalmente puede ir acompañado de uno o varios elif y else CORRECTA"
   ]
  },
  {
   "cell_type": "markdown",
   "metadata": {},
   "source": [
    "23. ¿Cuál de las siguientes listas está mal declarada?\n",
    "\n",
    "* [1, 2, \"a\", [1,2]]\n",
    "* [1:2:\"a\":[1,2]] CORRECTA\n",
    "* [[], [1], (1,)]\n",
    "* Todas están bien declaradas"
   ]
  },
  {
   "cell_type": "markdown",
   "metadata": {},
   "source": [
    "24. ¿Es correcto usar la siguiente definición de función para pasar un número indeterminado de parámetros? def mi_funcion(*values):\n",
    "\n",
    "* No, necesito utilizar obligatoriamente *args\n",
    "* Sí, es correcto CORRECTA\n",
    "* Es correcto siempre y cuando llamemos a la función agrupando los parámetros en un lista, por ejemplo mi_funcion([1,3,4])\n",
    "* No, necesito utilizar obligatoriamente **args"
   ]
  },
  {
   "cell_type": "markdown",
   "metadata": {},
   "source": [
    "25. Si usamos el bucle for n in [1, 3, 5, 7], n contendrá en cada iteración:\n",
    "\n",
    "* Los índices de la lista [1, 3, 5, 7], empezando por el cero \n",
    "* La tupla con los índices y los números de la lista [1, 3, 5, 7]\n",
    "* Los números de la lista [1, 3, 5, 7] en el mismo orden que aparecen en dicho iterable CORRECTO\n",
    "* Los números de la lista [1, 3, 5, 7] en un orden aleatorio, indeterminado e impredecible"
   ]
  },
  {
   "cell_type": "markdown",
   "metadata": {},
   "source": [
    "26. Los diccionarios conservan dos claves que se llamen igual, siempre que tengan asociadas distintos valores\n",
    "\n",
    "* Verdadero\n",
    "* Falso CORRECTO"
   ]
  },
  {
   "cell_type": "markdown",
   "metadata": {},
   "source": [
    "27. sum([1, 1.0, True]) devuelve exactamente\n",
    "\n",
    "* 3.0 CORRECTA\n",
    "* Error\n",
    "* True\n",
    "* 3"
   ]
  },
  {
   "cell_type": "markdown",
   "metadata": {},
   "source": [
    "28. El tipo booleano puede tomar los valores\n",
    "\n",
    "* T y F\n",
    "* true y false\n",
    "* Verdadero y Falso\n",
    "* True y False CORRECTA"
   ]
  },
  {
   "cell_type": "markdown",
   "metadata": {},
   "source": [
    "29. Para generar los números del 0 al 25, ambos inclusive, puedo usar:\n",
    "\n",
    "* range(26)\n",
    "* range(0, 26)\n",
    "* range(0, 26, 1)\n",
    "* Todas son correctas CORRECTA"
   ]
  },
  {
   "cell_type": "markdown",
   "metadata": {},
   "source": [
    "30. La palabra reservada para romper un bucle es:\n",
    "\n",
    "* break CORRECTA\n",
    "* return\n",
    "* import\n",
    "* True"
   ]
  },
  {
   "cell_type": "markdown",
   "metadata": {},
   "source": [
    "#### Notas y pruebas de apoyo para contestar las preguntas tipo test\n",
    "Esto no es necesario usarlo aunque verlo aquí te puede dar la respuesta a alguna de las preguntas tipo test.\n",
    "\n",
    "Cualquier código aunque no esté correcto nos dirá más de ti que no escribir nada."
   ]
  },
  {
   "cell_type": "code",
   "execution_count": null,
   "metadata": {},
   "outputs": [],
   "source": [
    "# crea todas las celdas que necesites"
   ]
  },
  {
   "cell_type": "code",
   "execution_count": null,
   "metadata": {},
   "outputs": [],
   "source": []
  },
  {
   "cell_type": "code",
   "execution_count": null,
   "metadata": {},
   "outputs": [],
   "source": []
  },
  {
   "cell_type": "code",
   "execution_count": null,
   "metadata": {},
   "outputs": [],
   "source": []
  },
  {
   "cell_type": "code",
   "execution_count": null,
   "metadata": {},
   "outputs": [],
   "source": []
  },
  {
   "cell_type": "markdown",
   "metadata": {},
   "source": [
    "## Segunda parte ejercicios prácticos (7 puntos):\n"
   ]
  },
  {
   "cell_type": "code",
   "execution_count": null,
   "metadata": {},
   "outputs": [],
   "source": [
    "# Ejemplo de como queremos ver el código para más de un intento:\n",
    "\n",
    "# intento 1\n",
    "your code\n"
   ]
  },
  {
   "cell_type": "code",
   "execution_count": null,
   "metadata": {},
   "outputs": [],
   "source": [
    "# intento 2\n",
    "your code"
   ]
  },
  {
   "cell_type": "markdown",
   "metadata": {},
   "source": [
    "### Ejercicio 1 (0.5 punto)\n",
    "Escribe un programa que pida al usuario su nombre y edad e imprima por pantalla \"Hola, me llamo XXX y tengo Y años\", siendo XXX el nombre e Y la edad introducidos previamente por pantalla\n",
    "\n"
   ]
  },
  {
   "cell_type": "code",
   "execution_count": 2,
   "metadata": {},
   "outputs": [
    {
     "name": "stdout",
     "output_type": "stream",
     "text": [
      "Hola, me llamo Gabirela y tengo  4  años\n"
     ]
    }
   ],
   "source": [
    "# Código. Usa tantas celdas como necesites\n",
    "nombre = input(\"Escribe tu numbre\")\n",
    "edad = input(\"escribe tu edad:\")\n",
    "\n",
    "print(\"Hola, me llamo\", nombre, \"y tengo\", edad, \" años\")"
   ]
  },
  {
   "cell_type": "markdown",
   "metadata": {},
   "source": [
    "### Ejercicio 2 (0.5 puntos)\n",
    "Escribe una función que reciba una lista de números y devuelva la suma de los elementos que son múltiplos de 3 de dicha lista."
   ]
  },
  {
   "cell_type": "code",
   "execution_count": 6,
   "metadata": {},
   "outputs": [],
   "source": [
    "# Código. Usa tantas celdas como necesites\n",
    "def suma(lista):\n",
    "    lista_suma =[]\n",
    "    for num in lista:\n",
    "        if num%3 == 0:\n",
    "            lista_suma.append(num)\n",
    "    return sum(lista_suma)\n"
   ]
  },
  {
   "cell_type": "code",
   "execution_count": 7,
   "metadata": {},
   "outputs": [
    {
     "data": {
      "text/plain": [
       "18"
      ]
     },
     "execution_count": 7,
     "metadata": {},
     "output_type": "execute_result"
    }
   ],
   "source": [
    "suma([3,5,34,23,17,89,15])"
   ]
  },
  {
   "cell_type": "markdown",
   "metadata": {},
   "source": [
    "### Ejercicio 3 (0.5 puntos)\n",
    "Escribe un programa que cuente el número de mayores de edad y menores de edad de esta lista:\n",
    "lista_edades = [17, 20, 90, 2, 7, 33, 21, 45, 38, 12, 20, 17]"
   ]
  },
  {
   "cell_type": "code",
   "execution_count": 28,
   "metadata": {},
   "outputs": [
    {
     "name": "stdout",
     "output_type": "stream",
     "text": [
      "Hay 5 menores de edad. Hay 7 mayores de edad\n",
      "{'Menores': 5, 'Mayores': 7}\n"
     ]
    }
   ],
   "source": [
    "# Código. Usa tantas celdas como necesites\n",
    "lista_edades = [17, 20, 90, 2, 7, 33, 21, 45, 38, 12, 20, 17]\n",
    "\n",
    "menores = 0\n",
    "mayores = 0\n",
    "for edad in lista_edades:\n",
    "    if edad <18:\n",
    "        menores +=1\n",
    "    else:\n",
    "        mayores +=1\n",
    "    \n",
    "print(\"Hay\",menores,\"menores de edad. Hay\", mayores, \"mayores de edad\")\n",
    "print({\"Menores\":menores, \"Mayores\":mayores})"
   ]
  },
  {
   "cell_type": "markdown",
   "metadata": {},
   "source": [
    "### Ejercicio 4 (1 puntos)\n",
    "Escribe una función que reciba una lista de números enteros y retorne un diccionario con el mínimo, el máximo, la media, la moda de esos números (esto es, el número que más se repite en la lista), así como la cantidad total de números diferentes que había en la lista. sin utilizar librerias externas. \n",
    "\n",
    "En caso de producirse un error, debe retornar el mensaje de error \"La lista es incorrecta\"\n"
   ]
  },
  {
   "cell_type": "code",
   "execution_count": 37,
   "metadata": {},
   "outputs": [],
   "source": [
    "# Código. Usa tantas celdas como necesites\n",
    "def info(lista_enteros):\n",
    "    try:\n",
    "        minimo = min(lista_enteros)\n",
    "        maximo = max(lista_enteros)\n",
    "        media = sum(lista_enteros)/len(lista_enteros)\n",
    "        for n in set(lista_enteros):\n",
    "            nums = lista_enteros.count(n)\n",
    "        moda =\n",
    "\n",
    "        return {\"mínimo\":minimo, \"máximo\":maximo, \"media\":media, \"moda\":moda} \n",
    "        \n",
    "    except:\n",
    "        for num in lista_enteros: \n",
    "            if type(num) != int:\n",
    "                return (\"La lista es incorrecta\")\n",
    "    \n"
   ]
  },
  {
   "cell_type": "code",
   "execution_count": 39,
   "metadata": {},
   "outputs": [
    {
     "data": {
      "text/plain": [
       "{'mínimo': 3.4, 'máximo': 6, 'media': 4.8}"
      ]
     },
     "execution_count": 39,
     "metadata": {},
     "output_type": "execute_result"
    }
   ],
   "source": [
    "info([3,5,6,2,9,10])\n",
    "info([3.4,5,6])"
   ]
  },
  {
   "cell_type": "markdown",
   "metadata": {},
   "source": [
    "### Ejercicio 5 (2 puntos)\n",
    "Escribe una programa que pida al usuario que introduzca colores por teclado. \n",
    "\n",
    "Si se trata de un color primario (rojo, amarillo o azul), se imprimirá por pantalla \"Has elegido un color primario\". \n",
    "\n",
    "En cualquier otro caso (salvo que introduzca la cadena \"salir\"), deberá devolver \"Has elegido un color secundario\"\n",
    "\n",
    "Si el usuario introduce la cadena salir, el programa imprimirá por pantalla \"Has salido del programa\" y terminará\n",
    "\n",
    "Finalmente, el programa no debe diferenciar mayúsculas de minúsculas. Es decir, \"rojo\", \"ROJO\", \"Rojo\" y \"rOjO\" deben producir el mismo resultado, así como \"salir\", \"SALIR\", \"Salir\" y \"SaLIR\" deben terminar el programa    "
   ]
  },
  {
   "cell_type": "code",
   "execution_count": 26,
   "metadata": {},
   "outputs": [
    {
     "name": "stdout",
     "output_type": "stream",
     "text": [
      "Has salido del programa\n"
     ]
    }
   ],
   "source": [
    "# Código. Usa tantas celdas como necesites\n",
    "colores = input(\"Introduce un color:\")\n",
    "primarios= (\"rojo\",\"amarillo\",\"azul\")\n",
    "color = colores.lower()\n",
    "\n",
    "if color in primarios:\n",
    "    print(\"Has elegido un color primario\")\n",
    "elif color == \"salir\":\n",
    "    print(\"Has salido del programa\")\n",
    "else:\n",
    "    print(\"Has elegido un color secundario\")"
   ]
  },
  {
   "cell_type": "code",
   "execution_count": 40,
   "metadata": {},
   "outputs": [
    {
     "name": "stdout",
     "output_type": "stream",
     "text": [
      "Has elegido un color primario\n",
      "Has elegido un color secundario\n",
      "Has salido del programa\n"
     ]
    }
   ],
   "source": [
    "# con bucle while\n",
    "while (True):\n",
    "    primarios= (\"rojo\",\"amarillo\",\"azul\")\n",
    "    colores = input(\"Introduce un color:\")\n",
    "    color = colores.lower()\n",
    "    if color == \"salir\":\n",
    "        print(\"Has salido del programa\")\n",
    "        break\n",
    "    elif color in primarios:\n",
    "        print(\"Has elegido un color primario\")\n",
    "    else:\n",
    "        print(\"Has elegido un color secundario\")"
   ]
  },
  {
   "cell_type": "markdown",
   "metadata": {},
   "source": [
    "### Ejercicio 6 (2.5 puntos)\n",
    "Crea una clase llamada Bootcamp que tenga los siguientes métodos y atributos:\n",
    "1. Atributos para el nombre, primer apellido, nota_test y nota_practica, que comenzarán ambas siendo 0  para todos las instancias de esta clase, y curso, que comenzará siendo \"Feb24\" para todos las instancias de esta clase \n",
    "\n",
    "2. Un constructor que incluya parámetros para nombres y primer apellido.\n",
    "\n",
    "3. Un método llamado ejercicios_resueltos que incluya un parámetro entero con el número de ejercicios resueltos. \n",
    "\n",
    "* Si dicho parámetro es mayor o igual que 5 pero menor que 10, suma 0.5 a nota_practica,\n",
    "\n",
    "* si es mayor o igual que 10 pero menor que 20, suma 1.5 a nota_practica,\n",
    "\n",
    "* si es mayor o igual que 20 pero menor que 40, suma 3 a nota_practica. \n",
    "\n",
    "* Si es mayor o igual que 40, suma 6 al a nota_practica\n",
    "\n",
    "4. Un método llamado incluye_comentarios con un parámetro booleano. Si es True, suma 1 a nota_practica\n",
    "\n",
    "5. Un método llamado aciertos_test con una lista con 30 booleanos que representan si cada pregunta fue acertada o no en el test de 30 preguntas. Suman a nota_test 0.1 puntos por cada pregunta acertada. Si la lista incluye otra cosa que nos sean booleanos o tiene una longitud distinta de 30, no suma nada a nota_test y retorna la cadena \"Resultado del test incorrecto\"  \n",
    "\n",
    "6. Un método llamado cambio_curso que modifica el atributo curso a \"Sep24\" y pone la nota_test y nota_practica a -1\n",
    "\n",
    "7. Un método pasa_ramp_up que\n",
    "\n",
    "* si nota_ramp_up (que será la suma de nota_test y nota_practica) vale 5 o más, devuelve un diccionario con el nombre, apellido, nota ramp_up y la cadena \"Apto\", \n",
    "\n",
    "* si nota_ramp_up vale 3 y 5 (tres incluido pero cinco no incluido) devuelve un diccionario con el nombre, apellido, nota ramp_up y la cadena \"Pendiente\". \n",
    "\n",
    "* Si nota nota_ramp_up vale menos de 3 devuelve un diccionario con el nombre, apellidos, nota ramp_up y la cadena \"No apto\".\n",
    "\n",
    "* Si nota_ramp_up vale -2, devuelve un diccionario con el nombre, apellido, curso y la cadena \"Cambio de edición\"\n",
    "\n",
    "8. Crea una lista que contenga cinco variables de la clase Bootcamp y cuenta el número de aprobados notas entre [3,10], ambos inclusive, usando un bucle."
   ]
  },
  {
   "cell_type": "code",
   "execution_count": 11,
   "metadata": {},
   "outputs": [],
   "source": [
    "# Código. Usa tantas celdas como necesites\n",
    "ejemplo_test = [True, False, True, True, True, True, True, True, False, False, True, False, True, \n",
    "                True, True, True, False, False, True, True, True, True, True, False, True, True, \n",
    "                True, True, True, True]"
   ]
  }
 ],
 "metadata": {
  "kernelspec": {
   "display_name": "Python 3",
   "language": "python",
   "name": "python3"
  },
  "language_info": {
   "codemirror_mode": {
    "name": "ipython",
    "version": 3
   },
   "file_extension": ".py",
   "mimetype": "text/x-python",
   "name": "python",
   "nbconvert_exporter": "python",
   "pygments_lexer": "ipython3",
   "version": "3.10.8"
  }
 },
 "nbformat": 4,
 "nbformat_minor": 2
}
